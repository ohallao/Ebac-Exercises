{
  "cells": [
    {
      "cell_type": "markdown",
      "metadata": {
        "id": "2lcAsrTVPXrl"
      },
      "source": [
        "# Tarefa"
      ]
    },
    {
      "cell_type": "code",
      "execution_count": 1,
      "metadata": {
        "id": "eTW0o-BKPXrl"
      },
      "outputs": [],
      "source": [
        "import pandas as pd\n",
        "import numpy as np\n",
        "import seaborn as sns\n",
        "from statsmodels.stats.weightstats import ttest_ind\n",
        "import matplotlib.pyplot as plt\n",
        "import scipy.stats as st"
      ]
    },
    {
      "cell_type": "code",
      "execution_count": 2,
      "metadata": {
        "id": "YkY9umTqPXrm"
      },
      "outputs": [],
      "source": [
        "pg = sns.load_dataset('penguins')"
      ]
    },
    {
      "cell_type": "code",
      "execution_count": 3,
      "metadata": {
        "colab": {
          "base_uri": "https://localhost:8080/",
          "height": 143
        },
        "id": "f_shdD2ZPXrm",
        "outputId": "ce7ec376-01b4-4a7b-ddef-911dcd88c8b3"
      },
      "outputs": [
        {
          "output_type": "execute_result",
          "data": {
            "text/plain": [
              "        count         mean         std     min     25%     50%     75%     max\n",
              "sex                                                                           \n",
              "Female  165.0  3862.272727  666.172050  2700.0  3350.0  3650.0  4550.0  5200.0\n",
              "Male    168.0  4545.684524  787.628884  3250.0  3900.0  4300.0  5312.5  6300.0"
            ],
            "text/html": [
              "\n",
              "  <div id=\"df-3808c224-39c1-4b74-a337-7a8119d34844\" class=\"colab-df-container\">\n",
              "    <div>\n",
              "<style scoped>\n",
              "    .dataframe tbody tr th:only-of-type {\n",
              "        vertical-align: middle;\n",
              "    }\n",
              "\n",
              "    .dataframe tbody tr th {\n",
              "        vertical-align: top;\n",
              "    }\n",
              "\n",
              "    .dataframe thead th {\n",
              "        text-align: right;\n",
              "    }\n",
              "</style>\n",
              "<table border=\"1\" class=\"dataframe\">\n",
              "  <thead>\n",
              "    <tr style=\"text-align: right;\">\n",
              "      <th></th>\n",
              "      <th>count</th>\n",
              "      <th>mean</th>\n",
              "      <th>std</th>\n",
              "      <th>min</th>\n",
              "      <th>25%</th>\n",
              "      <th>50%</th>\n",
              "      <th>75%</th>\n",
              "      <th>max</th>\n",
              "    </tr>\n",
              "    <tr>\n",
              "      <th>sex</th>\n",
              "      <th></th>\n",
              "      <th></th>\n",
              "      <th></th>\n",
              "      <th></th>\n",
              "      <th></th>\n",
              "      <th></th>\n",
              "      <th></th>\n",
              "      <th></th>\n",
              "    </tr>\n",
              "  </thead>\n",
              "  <tbody>\n",
              "    <tr>\n",
              "      <th>Female</th>\n",
              "      <td>165.0</td>\n",
              "      <td>3862.272727</td>\n",
              "      <td>666.172050</td>\n",
              "      <td>2700.0</td>\n",
              "      <td>3350.0</td>\n",
              "      <td>3650.0</td>\n",
              "      <td>4550.0</td>\n",
              "      <td>5200.0</td>\n",
              "    </tr>\n",
              "    <tr>\n",
              "      <th>Male</th>\n",
              "      <td>168.0</td>\n",
              "      <td>4545.684524</td>\n",
              "      <td>787.628884</td>\n",
              "      <td>3250.0</td>\n",
              "      <td>3900.0</td>\n",
              "      <td>4300.0</td>\n",
              "      <td>5312.5</td>\n",
              "      <td>6300.0</td>\n",
              "    </tr>\n",
              "  </tbody>\n",
              "</table>\n",
              "</div>\n",
              "    <div class=\"colab-df-buttons\">\n",
              "\n",
              "  <div class=\"colab-df-container\">\n",
              "    <button class=\"colab-df-convert\" onclick=\"convertToInteractive('df-3808c224-39c1-4b74-a337-7a8119d34844')\"\n",
              "            title=\"Convert this dataframe to an interactive table.\"\n",
              "            style=\"display:none;\">\n",
              "\n",
              "  <svg xmlns=\"http://www.w3.org/2000/svg\" height=\"24px\" viewBox=\"0 -960 960 960\">\n",
              "    <path d=\"M120-120v-720h720v720H120Zm60-500h600v-160H180v160Zm220 220h160v-160H400v160Zm0 220h160v-160H400v160ZM180-400h160v-160H180v160Zm440 0h160v-160H620v160ZM180-180h160v-160H180v160Zm440 0h160v-160H620v160Z\"/>\n",
              "  </svg>\n",
              "    </button>\n",
              "\n",
              "  <style>\n",
              "    .colab-df-container {\n",
              "      display:flex;\n",
              "      gap: 12px;\n",
              "    }\n",
              "\n",
              "    .colab-df-convert {\n",
              "      background-color: #E8F0FE;\n",
              "      border: none;\n",
              "      border-radius: 50%;\n",
              "      cursor: pointer;\n",
              "      display: none;\n",
              "      fill: #1967D2;\n",
              "      height: 32px;\n",
              "      padding: 0 0 0 0;\n",
              "      width: 32px;\n",
              "    }\n",
              "\n",
              "    .colab-df-convert:hover {\n",
              "      background-color: #E2EBFA;\n",
              "      box-shadow: 0px 1px 2px rgba(60, 64, 67, 0.3), 0px 1px 3px 1px rgba(60, 64, 67, 0.15);\n",
              "      fill: #174EA6;\n",
              "    }\n",
              "\n",
              "    .colab-df-buttons div {\n",
              "      margin-bottom: 4px;\n",
              "    }\n",
              "\n",
              "    [theme=dark] .colab-df-convert {\n",
              "      background-color: #3B4455;\n",
              "      fill: #D2E3FC;\n",
              "    }\n",
              "\n",
              "    [theme=dark] .colab-df-convert:hover {\n",
              "      background-color: #434B5C;\n",
              "      box-shadow: 0px 1px 3px 1px rgba(0, 0, 0, 0.15);\n",
              "      filter: drop-shadow(0px 1px 2px rgba(0, 0, 0, 0.3));\n",
              "      fill: #FFFFFF;\n",
              "    }\n",
              "  </style>\n",
              "\n",
              "    <script>\n",
              "      const buttonEl =\n",
              "        document.querySelector('#df-3808c224-39c1-4b74-a337-7a8119d34844 button.colab-df-convert');\n",
              "      buttonEl.style.display =\n",
              "        google.colab.kernel.accessAllowed ? 'block' : 'none';\n",
              "\n",
              "      async function convertToInteractive(key) {\n",
              "        const element = document.querySelector('#df-3808c224-39c1-4b74-a337-7a8119d34844');\n",
              "        const dataTable =\n",
              "          await google.colab.kernel.invokeFunction('convertToInteractive',\n",
              "                                                    [key], {});\n",
              "        if (!dataTable) return;\n",
              "\n",
              "        const docLinkHtml = 'Like what you see? Visit the ' +\n",
              "          '<a target=\"_blank\" href=https://colab.research.google.com/notebooks/data_table.ipynb>data table notebook</a>'\n",
              "          + ' to learn more about interactive tables.';\n",
              "        element.innerHTML = '';\n",
              "        dataTable['output_type'] = 'display_data';\n",
              "        await google.colab.output.renderOutput(dataTable, element);\n",
              "        const docLink = document.createElement('div');\n",
              "        docLink.innerHTML = docLinkHtml;\n",
              "        element.appendChild(docLink);\n",
              "      }\n",
              "    </script>\n",
              "  </div>\n",
              "\n",
              "\n",
              "<div id=\"df-40b24c46-1e86-44f6-9f0f-23d86ca02ab7\">\n",
              "  <button class=\"colab-df-quickchart\" onclick=\"quickchart('df-40b24c46-1e86-44f6-9f0f-23d86ca02ab7')\"\n",
              "            title=\"Suggest charts\"\n",
              "            style=\"display:none;\">\n",
              "\n",
              "<svg xmlns=\"http://www.w3.org/2000/svg\" height=\"24px\"viewBox=\"0 0 24 24\"\n",
              "     width=\"24px\">\n",
              "    <g>\n",
              "        <path d=\"M19 3H5c-1.1 0-2 .9-2 2v14c0 1.1.9 2 2 2h14c1.1 0 2-.9 2-2V5c0-1.1-.9-2-2-2zM9 17H7v-7h2v7zm4 0h-2V7h2v10zm4 0h-2v-4h2v4z\"/>\n",
              "    </g>\n",
              "</svg>\n",
              "  </button>\n",
              "\n",
              "<style>\n",
              "  .colab-df-quickchart {\n",
              "      --bg-color: #E8F0FE;\n",
              "      --fill-color: #1967D2;\n",
              "      --hover-bg-color: #E2EBFA;\n",
              "      --hover-fill-color: #174EA6;\n",
              "      --disabled-fill-color: #AAA;\n",
              "      --disabled-bg-color: #DDD;\n",
              "  }\n",
              "\n",
              "  [theme=dark] .colab-df-quickchart {\n",
              "      --bg-color: #3B4455;\n",
              "      --fill-color: #D2E3FC;\n",
              "      --hover-bg-color: #434B5C;\n",
              "      --hover-fill-color: #FFFFFF;\n",
              "      --disabled-bg-color: #3B4455;\n",
              "      --disabled-fill-color: #666;\n",
              "  }\n",
              "\n",
              "  .colab-df-quickchart {\n",
              "    background-color: var(--bg-color);\n",
              "    border: none;\n",
              "    border-radius: 50%;\n",
              "    cursor: pointer;\n",
              "    display: none;\n",
              "    fill: var(--fill-color);\n",
              "    height: 32px;\n",
              "    padding: 0;\n",
              "    width: 32px;\n",
              "  }\n",
              "\n",
              "  .colab-df-quickchart:hover {\n",
              "    background-color: var(--hover-bg-color);\n",
              "    box-shadow: 0 1px 2px rgba(60, 64, 67, 0.3), 0 1px 3px 1px rgba(60, 64, 67, 0.15);\n",
              "    fill: var(--button-hover-fill-color);\n",
              "  }\n",
              "\n",
              "  .colab-df-quickchart-complete:disabled,\n",
              "  .colab-df-quickchart-complete:disabled:hover {\n",
              "    background-color: var(--disabled-bg-color);\n",
              "    fill: var(--disabled-fill-color);\n",
              "    box-shadow: none;\n",
              "  }\n",
              "\n",
              "  .colab-df-spinner {\n",
              "    border: 2px solid var(--fill-color);\n",
              "    border-color: transparent;\n",
              "    border-bottom-color: var(--fill-color);\n",
              "    animation:\n",
              "      spin 1s steps(1) infinite;\n",
              "  }\n",
              "\n",
              "  @keyframes spin {\n",
              "    0% {\n",
              "      border-color: transparent;\n",
              "      border-bottom-color: var(--fill-color);\n",
              "      border-left-color: var(--fill-color);\n",
              "    }\n",
              "    20% {\n",
              "      border-color: transparent;\n",
              "      border-left-color: var(--fill-color);\n",
              "      border-top-color: var(--fill-color);\n",
              "    }\n",
              "    30% {\n",
              "      border-color: transparent;\n",
              "      border-left-color: var(--fill-color);\n",
              "      border-top-color: var(--fill-color);\n",
              "      border-right-color: var(--fill-color);\n",
              "    }\n",
              "    40% {\n",
              "      border-color: transparent;\n",
              "      border-right-color: var(--fill-color);\n",
              "      border-top-color: var(--fill-color);\n",
              "    }\n",
              "    60% {\n",
              "      border-color: transparent;\n",
              "      border-right-color: var(--fill-color);\n",
              "    }\n",
              "    80% {\n",
              "      border-color: transparent;\n",
              "      border-right-color: var(--fill-color);\n",
              "      border-bottom-color: var(--fill-color);\n",
              "    }\n",
              "    90% {\n",
              "      border-color: transparent;\n",
              "      border-bottom-color: var(--fill-color);\n",
              "    }\n",
              "  }\n",
              "</style>\n",
              "\n",
              "  <script>\n",
              "    async function quickchart(key) {\n",
              "      const quickchartButtonEl =\n",
              "        document.querySelector('#' + key + ' button');\n",
              "      quickchartButtonEl.disabled = true;  // To prevent multiple clicks.\n",
              "      quickchartButtonEl.classList.add('colab-df-spinner');\n",
              "      try {\n",
              "        const charts = await google.colab.kernel.invokeFunction(\n",
              "            'suggestCharts', [key], {});\n",
              "      } catch (error) {\n",
              "        console.error('Error during call to suggestCharts:', error);\n",
              "      }\n",
              "      quickchartButtonEl.classList.remove('colab-df-spinner');\n",
              "      quickchartButtonEl.classList.add('colab-df-quickchart-complete');\n",
              "    }\n",
              "    (() => {\n",
              "      let quickchartButtonEl =\n",
              "        document.querySelector('#df-40b24c46-1e86-44f6-9f0f-23d86ca02ab7 button');\n",
              "      quickchartButtonEl.style.display =\n",
              "        google.colab.kernel.accessAllowed ? 'block' : 'none';\n",
              "    })();\n",
              "  </script>\n",
              "</div>\n",
              "\n",
              "    </div>\n",
              "  </div>\n"
            ],
            "application/vnd.google.colaboratory.intrinsic+json": {
              "type": "dataframe",
              "summary": "{\n  \"name\": \"pg\",\n  \"rows\": 2,\n  \"fields\": [\n    {\n      \"column\": \"sex\",\n      \"properties\": {\n        \"dtype\": \"string\",\n        \"num_unique_values\": 2,\n        \"samples\": [\n          \"Male\",\n          \"Female\"\n        ],\n        \"semantic_type\": \"\",\n        \"description\": \"\"\n      }\n    },\n    {\n      \"column\": \"count\",\n      \"properties\": {\n        \"dtype\": \"number\",\n        \"std\": 2.1213203435596424,\n        \"min\": 165.0,\n        \"max\": 168.0,\n        \"num_unique_values\": 2,\n        \"samples\": [\n          168.0,\n          165.0\n        ],\n        \"semantic_type\": \"\",\n        \"description\": \"\"\n      }\n    },\n    {\n      \"column\": \"mean\",\n      \"properties\": {\n        \"dtype\": \"number\",\n        \"std\": 483.2451156740498,\n        \"min\": 3862.2727272727275,\n        \"max\": 4545.684523809524,\n        \"num_unique_values\": 2,\n        \"samples\": [\n          4545.684523809524,\n          3862.2727272727275\n        ],\n        \"semantic_type\": \"\",\n        \"description\": \"\"\n      }\n    },\n    {\n      \"column\": \"std\",\n      \"properties\": {\n        \"dtype\": \"number\",\n        \"std\": 85.88295139683242,\n        \"min\": 666.1720495161447,\n        \"max\": 787.6288841581745,\n        \"num_unique_values\": 2,\n        \"samples\": [\n          787.6288841581745,\n          666.1720495161447\n        ],\n        \"semantic_type\": \"\",\n        \"description\": \"\"\n      }\n    },\n    {\n      \"column\": \"min\",\n      \"properties\": {\n        \"dtype\": \"number\",\n        \"std\": 388.90872965260115,\n        \"min\": 2700.0,\n        \"max\": 3250.0,\n        \"num_unique_values\": 2,\n        \"samples\": [\n          3250.0,\n          2700.0\n        ],\n        \"semantic_type\": \"\",\n        \"description\": \"\"\n      }\n    },\n    {\n      \"column\": \"25%\",\n      \"properties\": {\n        \"dtype\": \"number\",\n        \"std\": 388.90872965260115,\n        \"min\": 3350.0,\n        \"max\": 3900.0,\n        \"num_unique_values\": 2,\n        \"samples\": [\n          3900.0,\n          3350.0\n        ],\n        \"semantic_type\": \"\",\n        \"description\": \"\"\n      }\n    },\n    {\n      \"column\": \"50%\",\n      \"properties\": {\n        \"dtype\": \"number\",\n        \"std\": 459.6194077712559,\n        \"min\": 3650.0,\n        \"max\": 4300.0,\n        \"num_unique_values\": 2,\n        \"samples\": [\n          4300.0,\n          3650.0\n        ],\n        \"semantic_type\": \"\",\n        \"description\": \"\"\n      }\n    },\n    {\n      \"column\": \"75%\",\n      \"properties\": {\n        \"dtype\": \"number\",\n        \"std\": 539.1689206547425,\n        \"min\": 4550.0,\n        \"max\": 5312.5,\n        \"num_unique_values\": 2,\n        \"samples\": [\n          5312.5,\n          4550.0\n        ],\n        \"semantic_type\": \"\",\n        \"description\": \"\"\n      }\n    },\n    {\n      \"column\": \"max\",\n      \"properties\": {\n        \"dtype\": \"number\",\n        \"std\": 777.8174593052023,\n        \"min\": 5200.0,\n        \"max\": 6300.0,\n        \"num_unique_values\": 2,\n        \"samples\": [\n          6300.0,\n          5200.0\n        ],\n        \"semantic_type\": \"\",\n        \"description\": \"\"\n      }\n    }\n  ]\n}"
            }
          },
          "metadata": {},
          "execution_count": 3
        }
      ],
      "source": [
        "pg.groupby('sex')['body_mass_g'].describe()"
      ]
    },
    {
      "cell_type": "code",
      "execution_count": 4,
      "metadata": {
        "colab": {
          "base_uri": "https://localhost:8080/",
          "height": 466
        },
        "id": "3aMQnrNwPXrn",
        "outputId": "8c7f4078-aa8b-4848-e2f2-b1a0811526eb"
      },
      "outputs": [
        {
          "output_type": "execute_result",
          "data": {
            "text/plain": [
              "<Axes: xlabel='sex', ylabel='body_mass_g'>"
            ]
          },
          "metadata": {},
          "execution_count": 4
        },
        {
          "output_type": "display_data",
          "data": {
            "text/plain": [
              "<Figure size 640x480 with 1 Axes>"
            ],
            "image/png": "[encoded data removed]"
          },
          "metadata": {}
        }
      ],
      "source": [
        "sns.pointplot(data=pg, x='sex', y = 'body_mass_g')"
      ]
    },
    {
      "cell_type": "markdown",
      "metadata": {
        "id": "jtlRU0gqPXrn"
      },
      "source": [
        "## 1) Diferença de peso entre machos e fêmeas\n",
        "\n",
        "Na base de pinguins, podemos ver que há diferença de peso entre machos e fêmeas. Mas será que é uma conclusão extrapolável a toda a população de pinguins? Assumindo que essa amostra é aleatória e representativa da população de pinguins, realize um teste T com 5% de significância para verificar se podemos induzir esta conclusão para a população toda."
      ]
    },
    {
      "cell_type": "code",
      "execution_count": 5,
      "metadata": {
        "colab": {
          "base_uri": "https://localhost:8080/"
        },
        "id": "Y2MxKKIUPXrn",
        "outputId": "d764cc8f-723f-431b-fd79-f82026d5db99"
      },
      "outputs": [
        {
          "output_type": "stream",
          "name": "stdout",
          "text": [
            "diferença: 683.41\n",
            "desvio padrão: 729.43\n",
            "erro padrão: 326.21\n",
            "estatística do teste: 2.09\n",
            "região crítica: 1.73 ou mais\n",
            "p-value: 0.02529 ou mais\n"
          ]
        }
      ],
      "source": [
        "desvpad = pg.groupby('sex')['body_mass_g'].var().mean()**.5\n",
        "male = pg.groupby('sex')['body_mass_g'].mean()['Male']\n",
        "female = pg.groupby('sex')['body_mass_g'].mean()['Female']\n",
        "\n",
        "diferença = male - female # Numerador da fórmula\n",
        "erro_padrao = desvpad*((2/10)**.5) # variância amostral*raiz(2/n)\n",
        "t = diferença/erro_padrao     # Estatística do teste\n",
        "RC = st.t.ppf(.95, 18)        # Região crítica: sob h0, t está na RC 5% das vezes\n",
        "p_value=1-st.t.cdf(t, 18)     # p-value: a menor significância para a qual rejeitamos o teste\n",
        "\n",
        "print(f'diferença: {diferença:.2f}')\n",
        "print(f'desvio padrão: {desvpad:.2f}')\n",
        "print(f'erro padrão: {erro_padrao:.2f}')\n",
        "print(f'estatística do teste: {t:.2f}')\n",
        "print(f'região crítica: {RC:.2f} ou mais')\n",
        "print(f'p-value: {p_value:.5f} ou mais')"
      ]
    },
    {
      "cell_type": "markdown",
      "source": [
        "Como o p-value é menor que o nível de significância de 0.05, a hipótese nula (de que não há diferença entre os pesos) é rejeitada. Isso indica que a diferença de pesos entre machos e fêmeas é significativa e pode ser extrapolada para a população."
      ],
      "metadata": {
        "id": "7EtG_zSXQt03"
      }
    },
    {
      "cell_type": "markdown",
      "metadata": {
        "id": "vjK0mQrdPXrn"
      },
      "source": [
        "## 2) (opcional) Representação gráfica do teste\n",
        "\n",
        "Siga os passos da aula para você poder visualizar a estatística do teste, sua distribuição e a região crítica do teste."
      ]
    },
    {
      "cell_type": "code",
      "execution_count": 6,
      "metadata": {
        "colab": {
          "base_uri": "https://localhost:8080/",
          "height": 308
        },
        "id": "_XjNjIswPXrn",
        "outputId": "e3d02b38-374b-4e72-8535-8b405634d242"
      },
      "outputs": [
        {
          "output_type": "stream",
          "name": "stdout",
          "text": [
            "A probabilidade para valores entre 1,73 e inf é de 5,00%\n"
          ]
        },
        {
          "output_type": "display_data",
          "data": {
            "text/plain": [
              "<Figure size 1000x300 with 1 Axes>"
            ],
            "image/png": "[encoded data removed]"
          },
          "metadata": {}
        }
      ],
      "source": [
        "fig, ax = plt.subplots(figsize=(10,3))\n",
        "\n",
        "# Parâmetros da densidade sob H0\n",
        "mu = 0\n",
        "variance = 1\n",
        "sigma = variance**.5\n",
        "\n",
        "# Valores de X e Y para plotar a densidade\n",
        "x = np.linspace(mu - 3*sigma, mu + 3*sigma, 100)\n",
        "y = st.t.pdf(x, 18)\n",
        "\n",
        "# low = início da região crítica do teste\n",
        "low = st.t.ppf(.95, 18)\n",
        "high = np.inf\n",
        "\n",
        "# Gráfico da densidade\n",
        "ax.plot(x, y)\n",
        "# Esta linha de referência marca o valor observado da estatística do teste\n",
        "ax.vlines(x=[t],\n",
        "             ymin=0, ymax=y.max(),\n",
        "             colors='r', linestyles='dotted')\n",
        "\n",
        "# área\n",
        "plt.fill_between(x, y, where=(low < x) & (x < high), alpha=.5)\n",
        "\n",
        "# Probabilidade de X pertencer à área\n",
        "prob_area = st.t.cdf(high, 18) - st.t.cdf(low, 18)\n",
        "print(f'A probabilidade para valores entre {low:.2f} e {high:.2f} é de {prob_area:.2%}'.replace('.',','))"
      ]
    },
    {
      "cell_type": "markdown",
      "metadata": {
        "id": "8BWg7bgEPXro"
      },
      "source": [
        "## 3) Considere as espécies\n",
        "\n",
        "Repita o exercício I, uma vez para cada espécie de pinguim. Qual é o *p-value* associado a cada raça?"
      ]
    },
    {
      "cell_type": "code",
      "execution_count": 7,
      "metadata": {
        "colab": {
          "base_uri": "https://localhost:8080/"
        },
        "id": "XO4X-o-4PXro",
        "outputId": "1d91e1eb-ac23-45cb-b64a-26b9118c07f4"
      },
      "outputs": [
        {
          "output_type": "execute_result",
          "data": {
            "text/plain": [
              "96421.94634703198"
            ]
          },
          "metadata": {},
          "execution_count": 7
        }
      ],
      "source": [
        "pg.query(\"species == 'Adelie'\").groupby(['sex'])['body_mass_g'].var().mean()"
      ]
    },
    {
      "cell_type": "code",
      "source": [
        "for specie in pg['species'].unique():\n",
        "\n",
        "    desvpad = pg.query(\"species == @specie\").groupby(['sex'])['body_mass_g'].var().mean()**.5\n",
        "    male = pg.query(\"species == @specie\").groupby(['sex'])['body_mass_g'].mean()['Male']\n",
        "    female = pg.query(\"species == @specie\").groupby(['sex'])['body_mass_g'].mean()['Female']\n",
        "\n",
        "    diferença = male - female # Numerador da fórmula\n",
        "    erro_padrao = desvpad*((2/10)**.5) # variância amostral*raiz(2/n)\n",
        "    t = diferença/erro_padrao     # Estatística do teste\n",
        "    RC = st.t.ppf(.95, 18)        # Região crítica: sob h0, t está na RC 5% das vezes\n",
        "    p_value=1-st.t.cdf(t, 18)     # p-value: a menor significância para a qual rejeitamos o teste\n",
        "\n",
        "    print(f'Resultados para a espécie {specie}:')\n",
        "    print(f'diferença: {diferença:.2f}')\n",
        "    print(f'desvio padrão: {desvpad:.2f}')\n",
        "    print(f'erro padrão: {erro_padrao:.2f}')\n",
        "    print(f'estatística do teste: {t:.2f}')\n",
        "    print(f'região crítica: {RC:.2f} ou mais')\n",
        "    print(f'p-value: {p_value:.5f} ou mais')\n",
        "    print(50*\"-\", \"\\n\")"
      ],
      "metadata": {
        "colab": {
          "base_uri": "https://localhost:8080/"
        },
        "id": "efqujqe0Q9D2",
        "outputId": "bbb3a313-390c-4873-88ea-590cbfb3a404"
      },
      "execution_count": 8,
      "outputs": [
        {
          "output_type": "stream",
          "name": "stdout",
          "text": [
            "Resultados para a espécie Adelie:\n",
            "diferença: 674.66\n",
            "desvio padrão: 310.52\n",
            "erro padrão: 138.87\n",
            "estatística do teste: 4.86\n",
            "região crítica: 1.73 ou mais\n",
            "p-value: 0.00006 ou mais\n",
            "-------------------------------------------------- \n",
            "\n",
            "Resultados para a espécie Chinstrap:\n",
            "diferença: 411.76\n",
            "desvio padrão: 326.01\n",
            "erro padrão: 145.79\n",
            "estatística do teste: 2.82\n",
            "região crítica: 1.73 ou mais\n",
            "p-value: 0.00562 ou mais\n",
            "-------------------------------------------------- \n",
            "\n",
            "Resultados para a espécie Gentoo:\n",
            "diferença: 805.09\n",
            "desvio padrão: 297.79\n",
            "erro padrão: 133.17\n",
            "estatística do teste: 6.05\n",
            "região crítica: 1.73 ou mais\n",
            "p-value: 0.00001 ou mais\n",
            "-------------------------------------------------- \n",
            "\n"
          ]
        }
      ]
    }
  ],
  "metadata": {
    "kernelspec": {
      "display_name": "Python 3",
      "language": "python",
      "name": "python3"
    },
    "language_info": {
      "codemirror_mode": {
        "name": "ipython",
        "version": 3
      },
      "file_extension": ".py",
      "mimetype": "text/x-python",
      "name": "python",
      "nbconvert_exporter": "python",
      "pygments_lexer": "ipython3",
      "version": "3.8.5"
    },
    "toc": {
      "base_numbering": 1,
      "nav_menu": {},
      "number_sections": false,
      "sideBar": true,
      "skip_h1_title": true,
      "title_cell": "Índice",
      "title_sidebar": "Conteúdo",
      "toc_cell": false,
      "toc_position": {},
      "toc_section_display": true,
      "toc_window_display": false
    },
    "varInspector": {
      "cols": {
        "lenName": 16,
        "lenType": 16,
        "lenVar": 40
      },
      "kernels_config": {
        "python": {
          "delete_cmd_postfix": "",
          "delete_cmd_prefix": "del ",
          "library": "var_list.py",
          "varRefreshCmd": "print(var_dic_list())"
        },
        "r": {
          "delete_cmd_postfix": ") ",
          "delete_cmd_prefix": "rm(",
          "library": "var_list.r",
          "varRefreshCmd": "cat(var_dic_list()) "
        }
      },
      "types_to_exclude": [
        "module",
        "function",
        "builtin_function_or_method",
        "instance",
        "_Feature"
      ],
      "window_display": false
    },
    "colab": {
      "provenance": []
    }
  },
  "nbformat": 4,
  "nbformat_minor": 0
}