{
  "cells": [
    {
      "cell_type": "markdown",
      "metadata": {
        "id": "9LnS105c5IEI"
      },
      "source": [
        "1. Qual a principal diferença entre um *behaviour score* e um *credit score*?"
      ]
    },
    {
      "cell_type": "markdown",
      "metadata": {
        "id": "iOGFeySb5IEI"
      },
      "source": [
        "<font color = Red> O credit score é feito baseado fundamentalmente em informações de Bureau de Crédito para classificar potenciais novos clientes, enquanto o behavior score é baseado no comportamente de consumo que o cliente tem ao longo de tempo."
      ]
    },
    {
      "cell_type": "markdown",
      "metadata": {
        "id": "GhZCqe-55IEI"
      },
      "source": [
        "2. Por que é tão comum se estabelecer janelas de desempenho de 12 meses, e 12 safras para o desenvolvimento de modelos?"
      ]
    },
    {
      "cell_type": "markdown",
      "metadata": {
        "id": "-rJXZ8hS5IEI"
      },
      "source": [
        "<font color = Red> Para diminuir o efeito de sazonalidade no modelo"
      ]
    },
    {
      "cell_type": "markdown",
      "metadata": {
        "id": "h0m6BK4Q5IEI"
      },
      "source": [
        "3. Qual a diferença entre amostra *out of time* e amostra *out of sample*?"
      ]
    },
    {
      "cell_type": "markdown",
      "metadata": {
        "id": "ZcYFKZhj5IEI"
      },
      "source": [
        "<font color = Red> Out Of Time é uma amostra de validação que possui dados de um período posterior ao da base de desenvolvimento. Out of Sample consiste em separar parte da base de desenvolvimento como amostra de validação."
      ]
    },
    {
      "cell_type": "markdown",
      "metadata": {
        "id": "O63D38HB5IEI"
      },
      "source": [
        "4. Se os dados da variavel resposta estão sistematicamente corrompidos para duas das safras de desenvolvimento, o que você faria?"
      ]
    },
    {
      "cell_type": "markdown",
      "metadata": {
        "id": "6btdePEz5IEJ"
      },
      "source": [
        "<font color = Red> Descartaria os dados referentes as safras corrompidas."
      ]
    }
  ],
  "metadata": {
    "kernelspec": {
      "display_name": "Python 3",
      "language": "python",
      "name": "python3"
    },
    "language_info": {
      "codemirror_mode": {
        "name": "ipython",
        "version": 3
      },
      "file_extension": ".py",
      "mimetype": "text/x-python",
      "name": "python",
      "nbconvert_exporter": "python",
      "pygments_lexer": "ipython3",
      "version": "3.8.5"
    },
    "toc": {
      "base_numbering": 1,
      "nav_menu": {},
      "number_sections": false,
      "sideBar": true,
      "skip_h1_title": true,
      "title_cell": "Índice",
      "title_sidebar": "Conteúdo",
      "toc_cell": false,
      "toc_position": {},
      "toc_section_display": true,
      "toc_window_display": false
    },
    "varInspector": {
      "cols": {
        "lenName": 16,
        "lenType": 16,
        "lenVar": 40
      },
      "kernels_config": {
        "python": {
          "delete_cmd_postfix": "",
          "delete_cmd_prefix": "del ",
          "library": "var_list.py",
          "varRefreshCmd": "print(var_dic_list())"
        },
        "r": {
          "delete_cmd_postfix": ") ",
          "delete_cmd_prefix": "rm(",
          "library": "var_list.r",
          "varRefreshCmd": "cat(var_dic_list()) "
        }
      },
      "types_to_exclude": [
        "module",
        "function",
        "builtin_function_or_method",
        "instance",
        "_Feature"
      ],
      "window_display": false
    },
    "colab": {
      "provenance": []
    }
  },
  "nbformat": 4,
  "nbformat_minor": 0
}