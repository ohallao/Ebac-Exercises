{
  "cells": [
    {
      "cell_type": "markdown",
      "metadata": {
        "id": "OBEZ_UDH8Gb6"
      },
      "source": [
        "# Cálculo - Tarefa 01\n",
        "\n",
        "1. Marque quais desses métodos/algoritmos muito populares em ciência de dados são baseados no uso de derivada:\n",
        "\n",
        "    1. Método Mínimos Quadrados\n",
        "    2. Gradiente descendente\n",
        "    3. Newton Raphson\n",
        "    4. CART (Árvore de decisão)"
      ]
    },
    {
      "cell_type": "markdown",
      "metadata": {
        "tags": [],
        "id": "GVZHV2vy8Gb7"
      },
      "source": [
        "**Resposta:** A, B, C"
      ]
    },
    {
      "cell_type": "markdown",
      "metadata": {
        "id": "f_LhzMh88Gb7"
      },
      "source": [
        "2. Dada uma base de dados com uma variável resposta $y$ e um conjunto de variáveis explicativas. Considere uma estrutura de um modelo de regressão. Explique com suas palavras por que não é possível obter parâmetros que forneçam um erro quadrático médio (EQM) menor que o obtido com estimadores de mínimos quadrados."
      ]
    },
    {
      "cell_type": "markdown",
      "metadata": {
        "id": "PjbNgIhw8Gb7"
      },
      "source": [
        "**Resposta:** O erro quadrático médio (EQM) é uma medida da qualidade do ajuste de um modelo de regressão, calculado pela média dos quadrados dos erros, que são as diferenças entre os valores observados e os valores previstos pelo modelo. Os estimadores de mínimos quadrados (MMQ) são projetados para minimizar a soma dos quadrados desses erros, o que, por consequência, minimiza o EQM. Isso significa que, para um conjunto de dados específico e um modelo linear, não há outros estimadores que possam fornecer um EQM menor que o obtido com MMQ, pois os MMQ já são, por definição, os estimadores que minimizam essa medida de erro."
      ]
    },
    {
      "cell_type": "code",
      "source": [],
      "metadata": {
        "id": "RUdHuvnN8T2e"
      },
      "execution_count": null,
      "outputs": []
    }
  ],
  "metadata": {
    "kernelspec": {
      "display_name": "Python 3 (ipykernel)",
      "language": "python",
      "name": "python3"
    },
    "language_info": {
      "codemirror_mode": {
        "name": "ipython",
        "version": 3
      },
      "file_extension": ".py",
      "mimetype": "text/x-python",
      "name": "python",
      "nbconvert_exporter": "python",
      "pygments_lexer": "ipython3",
      "version": "3.10.7"
    },
    "toc": {
      "base_numbering": 1,
      "nav_menu": {},
      "number_sections": true,
      "sideBar": true,
      "skip_h1_title": true,
      "title_cell": "Índice",
      "title_sidebar": "Conteúdo",
      "toc_cell": false,
      "toc_position": {},
      "toc_section_display": true,
      "toc_window_display": false
    },
    "varInspector": {
      "cols": {
        "lenName": 16,
        "lenType": 16,
        "lenVar": 40
      },
      "kernels_config": {
        "python": {
          "delete_cmd_postfix": "",
          "delete_cmd_prefix": "del ",
          "library": "var_list.py",
          "varRefreshCmd": "print(var_dic_list())"
        },
        "r": {
          "delete_cmd_postfix": ") ",
          "delete_cmd_prefix": "rm(",
          "library": "var_list.r",
          "varRefreshCmd": "cat(var_dic_list()) "
        }
      },
      "types_to_exclude": [
        "module",
        "function",
        "builtin_function_or_method",
        "instance",
        "_Feature"
      ],
      "window_display": false
    },
    "colab": {
      "provenance": []
    }
  },
  "nbformat": 4,
  "nbformat_minor": 0
}