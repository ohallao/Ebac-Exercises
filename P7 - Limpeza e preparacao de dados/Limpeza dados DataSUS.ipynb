{
 "cells": [
  {
   "cell_type": "markdown",
   "metadata": {},
   "source": [
    "# Módulo 5 Tarefa 1\n",
    "## Base de nascidos vivos do DataSUS\n",
    "O DataSUS disponibiliza diversos arquivos de dados com relação a seus segurados, conforme a [lei da transparência de informações públicas](https://www.sisgov.com/transparencia-acesso-informacao/#:~:text=A%20Lei%20da%20Transpar%C3%AAncia%20(LC,em%20um%20site%20na%20internet.). \n",
    "\n",
    "Essas informações podem ser obtidas pela internet [aqui](http://www2.datasus.gov.br/DATASUS/index.php?area=0901&item=1). Como o processo de obtenção desses arquivos foge um pouco do nosso escopo, deixamos o arquivo ```SINASC_RO_2019.csv``` já como vai ser encontrado no DataSUS. O dicionário de dados está no arquivo ```estrutura_sinasc_para_CD.pdf``` (o nome do arquivo tal qual no portal do DataSUS).\n",
    "\n",
    "### Nosso objetivo\n",
    "Queremos deixar uma base organizada para podermos estudar a relação entre partos com risco para o bebê e algumas condições como tempo de parto, consultas de pré-natal etc.\n",
    "\n",
    "#### Preparação da base\n",
    "1. Carregue a base 'SINASC_RO_2019.csv'. Conte o número de registros e o número de registros não duplicados da base. Dica: você aprendeu um método que remove duplicados, encadeie este método com um outro método que conta o número de linhas. **Há linhas duplicadas?**  \n",
    "\n",
    "2. Conte o número de valores *missing* por variável.  \n",
    "\n",
    "3. Ok, no item anterior você deve ter achado pouco prático ler a informação de tantas variáveis, muitas delas nem devem ser interesantes. Então crie uma seleção dessa base somente com as colunas que interessam. São elas:\n",
    "``` \n",
    "['LOCNASC', 'IDADEMAE', 'ESTCIVMAE', 'ESCMAE', 'QTDFILVIVO', \n",
    "    'GESTACAO', 'GRAVIDEZ', 'CONSULTAS', 'APGAR5'] \n",
    "```\n",
    "Refaça a contagem de valores *missings*.  \n",
    "\n",
    "4. Apgar é uma *nota* que o pediatra dá ao bebê quando nasce de acordo com algumas características associadas principalmente à respiração. Apgar 1 e Apgar 5 são as notas 1 e 5 minutos do nascimento. Apgar5 será a nossa variável de interesse principal. Então remova todos os registros com Apgar5 não preenchido. Para esta seleção, conte novamente o número de linhas e o número de *missings*.  \n",
    "\n",
    "5. observe que as variáveis ```['ESTCIVMAE', 'CONSULTAS']``` possuem o código ```9```, que significa *ignorado*. Vamos assumir que o não preenchido é o mesmo que o código ```9```.<br>\n",
    "6. Substitua os valores faltantes da quantitativa (```QTDFILVIVO```) por zero.  \n",
    "7. Das restantes, decida que valore te parece mais adequado (um 'não preenchido' ou um valor 'mais provável' como no item anterior) e preencha. Justifique. Lembre-se de que tratamento de dados é trabalho do cientista, e que estamos tomando decisões a todo o momento - não há necessariamente certo e errado aqui.  \n",
    "8. O Apgar possui uma classificação indicando se o bebê passou por asfixia:\n",
    "- Entre 8 e 10 está em uma faixa 'normal'. \n",
    "- Entre 6 e 7, significa que o recém-nascido passou por 'asfixia leve'. \n",
    "- Entre 4 e 5 significa 'asfixia moderada'.\n",
    "- Entre 0 e 3 significa 'asfixia severa'.  \n",
    "\n",
    "Crie uma categorização dessa variável com essa codificação e calcule as frequências dessa categorização.  \n",
    "<br>\n",
    "9. Renomeie as variáveis para que fiquem no *snake case*, ou seja, em letras minúsculas, com um *underscore* entre as palávras. Dica: repare que se você não quiser criar um *dataframe* novo, você vai precisar usar a opção ```inplace = True```."
   ]
  },
  {
   "cell_type": "code",
   "execution_count": 586,
   "metadata": {},
   "outputs": [
    {
     "name": "stdout",
     "output_type": "stream",
     "text": [
      "(27028, 69)\n"
     ]
    },
    {
     "data": {
      "text/plain": [
       "(27028, 69)"
      ]
     },
     "execution_count": 586,
     "metadata": {},
     "output_type": "execute_result"
    }
   ],
   "source": [
    "import pandas as pd\n",
    "import requests\n",
    "\n",
    "# 1) seu código aqui\n",
    "sinasc = pd.read_csv('SINASC_RO_2019.csv')\n",
    "print(sinasc.shape)\n",
    "sinasc.drop_duplicates().shape\n",
    "# Não há duplicados"
   ]
  },
  {
   "cell_type": "code",
   "execution_count": 587,
   "metadata": {},
   "outputs": [
    {
     "data": {
      "text/plain": [
       "ORIGEM          0\n",
       "CODESTAB      115\n",
       "CODMUNNASC      0\n",
       "LOCNASC         0\n",
       "IDADEMAE        0\n",
       "             ... \n",
       "munResUf        0\n",
       "munResLat       1\n",
       "munResLon       1\n",
       "munResAlt       1\n",
       "munResArea      1\n",
       "Length: 69, dtype: int64"
      ]
     },
     "execution_count": 587,
     "metadata": {},
     "output_type": "execute_result"
    }
   ],
   "source": [
    "# 2) seu código aqui\n",
    "sinasc.isna().sum()\n"
   ]
  },
  {
   "cell_type": "code",
   "execution_count": 588,
   "metadata": {},
   "outputs": [
    {
     "data": {
      "text/plain": [
       "LOCNASC          0\n",
       "IDADEMAE         0\n",
       "ESTCIVMAE      317\n",
       "ESCMAE         312\n",
       "QTDFILVIVO    1573\n",
       "GESTACAO      1232\n",
       "GRAVIDEZ        79\n",
       "CONSULTAS        0\n",
       "APGAR5         103\n",
       "dtype: int64"
      ]
     },
     "execution_count": 588,
     "metadata": {},
     "output_type": "execute_result"
    }
   ],
   "source": [
    "# 3) seu código aqui\n",
    "df = sinasc[[\"LOCNASC\", \"IDADEMAE\", \"ESTCIVMAE\", \"ESCMAE\", \"QTDFILVIVO\", \"GESTACAO\", \"GRAVIDEZ\", \"CONSULTAS\", \"APGAR5\"]]\n",
    "df.isna().sum()"
   ]
  },
  {
   "cell_type": "code",
   "execution_count": 589,
   "metadata": {},
   "outputs": [
    {
     "data": {
      "text/plain": [
       "LOCNASC          0\n",
       "IDADEMAE         0\n",
       "ESTCIVMAE      315\n",
       "ESCMAE         310\n",
       "QTDFILVIVO    1566\n",
       "GESTACAO      1216\n",
       "GRAVIDEZ        76\n",
       "CONSULTAS        0\n",
       "APGAR5           0\n",
       "dtype: int64"
      ]
     },
     "execution_count": 589,
     "metadata": {},
     "output_type": "execute_result"
    }
   ],
   "source": [
    "# 4) seu código aqui\n",
    "df = df.dropna(subset=[\"APGAR5\"])\n",
    "df.isna().sum()\n"
   ]
  },
  {
   "cell_type": "code",
   "execution_count": 590,
   "metadata": {},
   "outputs": [
    {
     "data": {
      "text/plain": [
       "LOCNASC          0\n",
       "IDADEMAE         0\n",
       "ESTCIVMAE        0\n",
       "ESCMAE         310\n",
       "QTDFILVIVO    1566\n",
       "GESTACAO      1216\n",
       "GRAVIDEZ        76\n",
       "CONSULTAS        0\n",
       "APGAR5           0\n",
       "dtype: int64"
      ]
     },
     "execution_count": 590,
     "metadata": {},
     "output_type": "execute_result"
    }
   ],
   "source": [
    "# 5) seu código aqui\n",
    "df[\"ESTCIVMAE\"] = df[\"ESTCIVMAE\"].fillna(9)\n",
    "df[\"CONSULTAS\"] = df[\"CONSULTAS\"].fillna(9)\n",
    "df.isna().sum()"
   ]
  },
  {
   "cell_type": "code",
   "execution_count": 591,
   "metadata": {},
   "outputs": [
    {
     "data": {
      "text/plain": [
       "LOCNASC          0\n",
       "IDADEMAE         0\n",
       "ESTCIVMAE        0\n",
       "ESCMAE         310\n",
       "QTDFILVIVO       0\n",
       "GESTACAO      1216\n",
       "GRAVIDEZ        76\n",
       "CONSULTAS        0\n",
       "APGAR5           0\n",
       "dtype: int64"
      ]
     },
     "execution_count": 591,
     "metadata": {},
     "output_type": "execute_result"
    }
   ],
   "source": [
    "# 6) Seu código aqui\n",
    "df[\"QTDFILVIVO\"] = df[\"QTDFILVIVO\"].fillna(0)\n",
    "df.isna().sum()"
   ]
  },
  {
   "cell_type": "code",
   "execution_count": 592,
   "metadata": {},
   "outputs": [
    {
     "data": {
      "text/plain": [
       "Única              26356\n",
       "Dupla                488\n",
       "Tríplice e mais        5\n",
       "Name: GRAVIDEZ, dtype: int64"
      ]
     },
     "execution_count": 592,
     "metadata": {},
     "output_type": "execute_result"
    }
   ],
   "source": [
    "# 7) seu código aqui\n",
    "#Poderia usar o dropna nessa variavel que nao interferiria por ser um valor infimo mas para uma pessoa dar entrada nesse arquivo de dados a pessoa precisa esta gravida entao considerou-se o nan como \"Única\".\n",
    "df[\"GRAVIDEZ\"].value_counts()\n",
    "\n"
   ]
  },
  {
   "cell_type": "code",
   "execution_count": 593,
   "metadata": {},
   "outputs": [
    {
     "data": {
      "text/plain": [
       "0"
      ]
     },
     "execution_count": 593,
     "metadata": {},
     "output_type": "execute_result"
    }
   ],
   "source": [
    "df[\"GRAVIDEZ\"] = df[\"GRAVIDEZ\"].fillna('Única')\n",
    "df[\"GRAVIDEZ\"].isna().sum()"
   ]
  },
  {
   "cell_type": "code",
   "execution_count": 594,
   "metadata": {},
   "outputs": [
    {
     "data": {
      "text/plain": [
       "37 a 41 semanas        22523\n",
       "32 a 36 semanas         2234\n",
       "42 semanas e mais        698\n",
       "28 a 31 semanas          162\n",
       "22 a 27 semanas           85\n",
       "Menos de 22 semanas        7\n",
       "Name: GESTACAO, dtype: int64"
      ]
     },
     "execution_count": 594,
     "metadata": {},
     "output_type": "execute_result"
    }
   ],
   "source": [
    "#Relacionou o numero de CONSULTAS das pacientes com a semana de GESTACAO para criar uma condicao de ffill e os nan restantes usou dropna.\n",
    "df[\"GESTACAO\"].value_counts()"
   ]
  },
  {
   "cell_type": "code",
   "execution_count": 595,
   "metadata": {},
   "outputs": [
    {
     "name": "stdout",
     "output_type": "stream",
     "text": [
      "       LOCNASC  IDADEMAE  ESTCIVMAE       ESCMAE  QTDFILVIVO GESTACAO  \\\n",
      "1695         1        27        1.0  8 a 11 anos         1.0      NaN   \n",
      "2201         1        26        1.0  8 a 11 anos         1.0      NaN   \n",
      "2359         1        28        2.0   4 a 7 anos         2.0      NaN   \n",
      "2361         1        33        1.0   4 a 7 anos         4.0      NaN   \n",
      "2362         1        15        1.0   4 a 7 anos         1.0      NaN   \n",
      "...        ...       ...        ...          ...         ...      ...   \n",
      "26782        1        19        5.0  8 a 11 anos         1.0      NaN   \n",
      "26786        3        24        5.0   4 a 7 anos         1.0      NaN   \n",
      "26788        1        21        5.0   4 a 7 anos         0.0      NaN   \n",
      "26800        1        24        5.0  8 a 11 anos         1.0      NaN   \n",
      "26855        1        25        5.0  8 a 11 anos         2.0      NaN   \n",
      "\n",
      "      GRAVIDEZ  CONSULTAS  APGAR5  \n",
      "1695     Única          3     9.0  \n",
      "2201     Única          1     8.0  \n",
      "2359     Única          4     9.0  \n",
      "2361     Única          4     9.0  \n",
      "2362     Única          4     9.0  \n",
      "...        ...        ...     ...  \n",
      "26782    Única          4    10.0  \n",
      "26786    Única          4     8.0  \n",
      "26788    Única          4    10.0  \n",
      "26800    Única          3    10.0  \n",
      "26855    Única          3    10.0  \n",
      "\n",
      "[1216 rows x 9 columns]\n"
     ]
    }
   ],
   "source": [
    "dados_ausentes = df.loc[df['GESTACAO'].isna()]\n",
    "print(dados_ausentes)"
   ]
  },
  {
   "cell_type": "code",
   "execution_count": 596,
   "metadata": {},
   "outputs": [
    {
     "data": {
      "text/plain": [
       "37 a 41 semanas      547\n",
       "32 a 36 semanas      114\n",
       "28 a 31 semanas       13\n",
       "22 a 27 semanas       13\n",
       "42 semanas e mais     10\n",
       "Name: GESTACAO, dtype: int64"
      ]
     },
     "execution_count": 596,
     "metadata": {},
     "output_type": "execute_result"
    }
   ],
   "source": [
    "#Numero de CONSULTAS entre 1 e 4\n",
    "df.loc[df['CONSULTAS'] == 1, 'GESTACAO'].value_counts()\n"
   ]
  },
  {
   "cell_type": "code",
   "execution_count": 597,
   "metadata": {},
   "outputs": [
    {
     "data": {
      "text/plain": [
       "9"
      ]
     },
     "execution_count": 597,
     "metadata": {},
     "output_type": "execute_result"
    }
   ],
   "source": [
    "df.loc[df['CONSULTAS'] == 4, 'GESTACAO'] = df.loc[df['CONSULTAS'] == 4, 'GESTACAO'].fillna(\"37 a 41 semanas\").ffill()\n",
    "df.loc[df['CONSULTAS'] == 3, 'GESTACAO'] = df.loc[df['CONSULTAS'] == 3, 'GESTACAO'].fillna(\"32 a 36 semanas\").ffill()\n",
    "df.loc[df['CONSULTAS'] == 2, 'GESTACAO'] = df.loc[df['CONSULTAS'] == 2, 'GESTACAO'].fillna(\"28 a 31 semanas\").ffill()\n",
    "df.loc[df['CONSULTAS'] == 1, 'GESTACAO'] = df.loc[df['CONSULTAS'] == 1, 'GESTACAO'].fillna(\"22 a 27 semanas\").ffill()\n",
    "df.loc[df['CONSULTAS'] == 1, 'GESTACAO'] = df.loc[df['CONSULTAS'] == 1, 'GESTACAO'].fillna(\"Menos de 22 semanas\").ffill()\n",
    "df[\"GESTACAO\"].isna().sum()"
   ]
  },
  {
   "cell_type": "code",
   "execution_count": 598,
   "metadata": {},
   "outputs": [
    {
     "data": {
      "text/plain": [
       "0"
      ]
     },
     "execution_count": 598,
     "metadata": {},
     "output_type": "execute_result"
    }
   ],
   "source": [
    "df = df.dropna(subset=[\"GESTACAO\"])\n",
    "df[\"GESTACAO\"].isna().sum()"
   ]
  },
  {
   "cell_type": "code",
   "execution_count": 599,
   "metadata": {},
   "outputs": [
    {
     "data": {
      "text/plain": [
       "8 a 11 anos        15578\n",
       "12 anos ou mais     5754\n",
       "4 a 7 anos          4725\n",
       "1 a 3 anos           509\n",
       "Nenhuma               40\n",
       "Name: ESCMAE, dtype: int64"
      ]
     },
     "execution_count": 599,
     "metadata": {},
     "output_type": "execute_result"
    }
   ],
   "source": [
    "#Por ser um valor infimo usou o dropna\n",
    "df[\"ESCMAE\"].value_counts()\n"
   ]
  },
  {
   "cell_type": "code",
   "execution_count": 600,
   "metadata": {},
   "outputs": [
    {
     "data": {
      "text/plain": [
       "310"
      ]
     },
     "execution_count": 600,
     "metadata": {},
     "output_type": "execute_result"
    }
   ],
   "source": [
    "df[\"ESCMAE\"].isna().sum()"
   ]
  },
  {
   "cell_type": "code",
   "execution_count": 601,
   "metadata": {},
   "outputs": [
    {
     "data": {
      "text/plain": [
       "0"
      ]
     },
     "execution_count": 601,
     "metadata": {},
     "output_type": "execute_result"
    }
   ],
   "source": [
    "df = df.dropna(subset=[\"ESCMAE\"])\n",
    "df[\"ESCMAE\"].isna().sum()"
   ]
  },
  {
   "cell_type": "code",
   "execution_count": 602,
   "metadata": {},
   "outputs": [
    {
     "data": {
      "text/plain": [
       "normal              26150\n",
       "asfixia leve          317\n",
       "asfixia severa         74\n",
       "asfixia moderada       65\n",
       "Name: classificacao, dtype: int64"
      ]
     },
     "execution_count": 602,
     "metadata": {},
     "output_type": "execute_result"
    }
   ],
   "source": [
    "# 8) seu código aqui\n",
    "df.loc[df['APGAR5'] <= 3, 'classificacao'] = 'asfixia severa'\n",
    "df.loc[(df['APGAR5'] >= 4) & (df['APGAR5'] <= 5),\n",
    "           'classificacao'] = 'asfixia moderada'\n",
    "df.loc[(df['APGAR5'] >= 6) & (df['APGAR5'] <= 7),\n",
    "           'classificacao'] = 'asfixia leve'\n",
    "df.loc[(df['APGAR5'] >= 8), 'classificacao'] = 'normal'\n",
    "\n",
    "df['classificacao'].value_counts()"
   ]
  },
  {
   "cell_type": "code",
   "execution_count": 603,
   "metadata": {},
   "outputs": [
    {
     "data": {
      "text/html": [
       "<div>\n",
       "<style scoped>\n",
       "    .dataframe tbody tr th:only-of-type {\n",
       "        vertical-align: middle;\n",
       "    }\n",
       "\n",
       "    .dataframe tbody tr th {\n",
       "        vertical-align: top;\n",
       "    }\n",
       "\n",
       "    .dataframe thead th {\n",
       "        text-align: right;\n",
       "    }\n",
       "</style>\n",
       "<table border=\"1\" class=\"dataframe\">\n",
       "  <thead>\n",
       "    <tr style=\"text-align: right;\">\n",
       "      <th></th>\n",
       "      <th>locnasc</th>\n",
       "      <th>idademae</th>\n",
       "      <th>estcivmae</th>\n",
       "      <th>escmae</th>\n",
       "      <th>qtdfilvivo</th>\n",
       "      <th>gestacao</th>\n",
       "      <th>gravidez</th>\n",
       "      <th>consultas</th>\n",
       "      <th>apgar5</th>\n",
       "      <th>classificacao</th>\n",
       "    </tr>\n",
       "  </thead>\n",
       "  <tbody>\n",
       "    <tr>\n",
       "      <th>0</th>\n",
       "      <td>1</td>\n",
       "      <td>19</td>\n",
       "      <td>5.0</td>\n",
       "      <td>8 a 11 anos</td>\n",
       "      <td>0.0</td>\n",
       "      <td>37 a 41 semanas</td>\n",
       "      <td>Única</td>\n",
       "      <td>4</td>\n",
       "      <td>10.0</td>\n",
       "      <td>normal</td>\n",
       "    </tr>\n",
       "    <tr>\n",
       "      <th>1</th>\n",
       "      <td>1</td>\n",
       "      <td>29</td>\n",
       "      <td>2.0</td>\n",
       "      <td>8 a 11 anos</td>\n",
       "      <td>1.0</td>\n",
       "      <td>37 a 41 semanas</td>\n",
       "      <td>Única</td>\n",
       "      <td>4</td>\n",
       "      <td>9.0</td>\n",
       "      <td>normal</td>\n",
       "    </tr>\n",
       "    <tr>\n",
       "      <th>2</th>\n",
       "      <td>1</td>\n",
       "      <td>37</td>\n",
       "      <td>9.0</td>\n",
       "      <td>8 a 11 anos</td>\n",
       "      <td>2.0</td>\n",
       "      <td>37 a 41 semanas</td>\n",
       "      <td>Única</td>\n",
       "      <td>4</td>\n",
       "      <td>10.0</td>\n",
       "      <td>normal</td>\n",
       "    </tr>\n",
       "    <tr>\n",
       "      <th>3</th>\n",
       "      <td>1</td>\n",
       "      <td>30</td>\n",
       "      <td>5.0</td>\n",
       "      <td>12 anos ou mais</td>\n",
       "      <td>0.0</td>\n",
       "      <td>37 a 41 semanas</td>\n",
       "      <td>Única</td>\n",
       "      <td>3</td>\n",
       "      <td>10.0</td>\n",
       "      <td>normal</td>\n",
       "    </tr>\n",
       "    <tr>\n",
       "      <th>4</th>\n",
       "      <td>1</td>\n",
       "      <td>30</td>\n",
       "      <td>2.0</td>\n",
       "      <td>8 a 11 anos</td>\n",
       "      <td>1.0</td>\n",
       "      <td>37 a 41 semanas</td>\n",
       "      <td>Única</td>\n",
       "      <td>4</td>\n",
       "      <td>10.0</td>\n",
       "      <td>normal</td>\n",
       "    </tr>\n",
       "    <tr>\n",
       "      <th>...</th>\n",
       "      <td>...</td>\n",
       "      <td>...</td>\n",
       "      <td>...</td>\n",
       "      <td>...</td>\n",
       "      <td>...</td>\n",
       "      <td>...</td>\n",
       "      <td>...</td>\n",
       "      <td>...</td>\n",
       "      <td>...</td>\n",
       "      <td>...</td>\n",
       "    </tr>\n",
       "    <tr>\n",
       "      <th>27023</th>\n",
       "      <td>1</td>\n",
       "      <td>32</td>\n",
       "      <td>2.0</td>\n",
       "      <td>12 anos ou mais</td>\n",
       "      <td>1.0</td>\n",
       "      <td>32 a 36 semanas</td>\n",
       "      <td>Única</td>\n",
       "      <td>4</td>\n",
       "      <td>9.0</td>\n",
       "      <td>normal</td>\n",
       "    </tr>\n",
       "    <tr>\n",
       "      <th>27024</th>\n",
       "      <td>1</td>\n",
       "      <td>19</td>\n",
       "      <td>1.0</td>\n",
       "      <td>8 a 11 anos</td>\n",
       "      <td>0.0</td>\n",
       "      <td>37 a 41 semanas</td>\n",
       "      <td>Única</td>\n",
       "      <td>4</td>\n",
       "      <td>9.0</td>\n",
       "      <td>normal</td>\n",
       "    </tr>\n",
       "    <tr>\n",
       "      <th>27025</th>\n",
       "      <td>1</td>\n",
       "      <td>24</td>\n",
       "      <td>2.0</td>\n",
       "      <td>8 a 11 anos</td>\n",
       "      <td>0.0</td>\n",
       "      <td>37 a 41 semanas</td>\n",
       "      <td>Única</td>\n",
       "      <td>4</td>\n",
       "      <td>10.0</td>\n",
       "      <td>normal</td>\n",
       "    </tr>\n",
       "    <tr>\n",
       "      <th>27026</th>\n",
       "      <td>1</td>\n",
       "      <td>21</td>\n",
       "      <td>2.0</td>\n",
       "      <td>8 a 11 anos</td>\n",
       "      <td>1.0</td>\n",
       "      <td>32 a 36 semanas</td>\n",
       "      <td>Única</td>\n",
       "      <td>4</td>\n",
       "      <td>9.0</td>\n",
       "      <td>normal</td>\n",
       "    </tr>\n",
       "    <tr>\n",
       "      <th>27027</th>\n",
       "      <td>1</td>\n",
       "      <td>18</td>\n",
       "      <td>5.0</td>\n",
       "      <td>8 a 11 anos</td>\n",
       "      <td>1.0</td>\n",
       "      <td>37 a 41 semanas</td>\n",
       "      <td>Única</td>\n",
       "      <td>4</td>\n",
       "      <td>8.0</td>\n",
       "      <td>normal</td>\n",
       "    </tr>\n",
       "  </tbody>\n",
       "</table>\n",
       "<p>26606 rows × 10 columns</p>\n",
       "</div>"
      ],
      "text/plain": [
       "       locnasc  idademae  estcivmae           escmae  qtdfilvivo  \\\n",
       "0            1        19        5.0      8 a 11 anos         0.0   \n",
       "1            1        29        2.0      8 a 11 anos         1.0   \n",
       "2            1        37        9.0      8 a 11 anos         2.0   \n",
       "3            1        30        5.0  12 anos ou mais         0.0   \n",
       "4            1        30        2.0      8 a 11 anos         1.0   \n",
       "...        ...       ...        ...              ...         ...   \n",
       "27023        1        32        2.0  12 anos ou mais         1.0   \n",
       "27024        1        19        1.0      8 a 11 anos         0.0   \n",
       "27025        1        24        2.0      8 a 11 anos         0.0   \n",
       "27026        1        21        2.0      8 a 11 anos         1.0   \n",
       "27027        1        18        5.0      8 a 11 anos         1.0   \n",
       "\n",
       "              gestacao gravidez  consultas  apgar5 classificacao  \n",
       "0      37 a 41 semanas    Única          4    10.0        normal  \n",
       "1      37 a 41 semanas    Única          4     9.0        normal  \n",
       "2      37 a 41 semanas    Única          4    10.0        normal  \n",
       "3      37 a 41 semanas    Única          3    10.0        normal  \n",
       "4      37 a 41 semanas    Única          4    10.0        normal  \n",
       "...                ...      ...        ...     ...           ...  \n",
       "27023  32 a 36 semanas    Única          4     9.0        normal  \n",
       "27024  37 a 41 semanas    Única          4     9.0        normal  \n",
       "27025  37 a 41 semanas    Única          4    10.0        normal  \n",
       "27026  32 a 36 semanas    Única          4     9.0        normal  \n",
       "27027  37 a 41 semanas    Única          4     8.0        normal  \n",
       "\n",
       "[26606 rows x 10 columns]"
      ]
     },
     "execution_count": 603,
     "metadata": {},
     "output_type": "execute_result"
    }
   ],
   "source": [
    "# 9) seu código aqui\n",
    "df = df.rename(columns=lambda x: x.lower().replace(' ', '_'))\n",
    "df"
   ]
  }
 ],
 "metadata": {
  "kernelspec": {
   "display_name": "Python 3",
   "language": "python",
   "name": "python3"
  },
  "language_info": {
   "codemirror_mode": {
    "name": "ipython",
    "version": 3
   },
   "file_extension": ".py",
   "mimetype": "text/x-python",
   "name": "python",
   "nbconvert_exporter": "python",
   "pygments_lexer": "ipython3",
   "version": "3.11.2"
  }
 },
 "nbformat": 4,
 "nbformat_minor": 4
}
