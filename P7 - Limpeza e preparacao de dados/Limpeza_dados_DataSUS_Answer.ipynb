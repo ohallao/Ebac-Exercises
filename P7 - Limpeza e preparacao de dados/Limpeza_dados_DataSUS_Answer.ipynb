{
  "cells": [
    {
      "cell_type": "code",
      "execution_count": 25,
      "metadata": {
        "colab": {
          "base_uri": "https://localhost:8080/"
        },
        "id": "1plwJLGIKB-X",
        "outputId": "d5933d22-4d73-48a0-9591-01414836392c"
      },
      "outputs": [
        {
          "output_type": "stream",
          "name": "stdout",
          "text": [
            "(27028, 69)\n"
          ]
        },
        {
          "output_type": "execute_result",
          "data": {
            "text/plain": [
              "(27028, 69)"
            ]
          },
          "metadata": {},
          "execution_count": 25
        }
      ],
      "source": [
        "import pandas as pd\n",
        "import requests\n",
        "\n",
        "# 1) seu código aqui\n",
        "path = '/content/SINASC_RO_2019.csv'\n",
        "sinasc = pd.read_csv(path)\n",
        "print(sinasc.shape)\n",
        "sinasc.drop_duplicates().shape\n",
        "# Não há duplicados"
      ]
    },
    {
      "cell_type": "code",
      "execution_count": null,
      "metadata": {
        "colab": {
          "base_uri": "https://localhost:8080/"
        },
        "id": "2v7LpdklKB-Y",
        "outputId": "6a9540d3-7c99-4e97-d4c0-83ac10cd1feb"
      },
      "outputs": [
        {
          "output_type": "execute_result",
          "data": {
            "text/plain": [
              "ORIGEM          0\n",
              "CODESTAB      115\n",
              "CODMUNNASC      0\n",
              "LOCNASC         0\n",
              "IDADEMAE        0\n",
              "             ... \n",
              "munResUf        0\n",
              "munResLat       1\n",
              "munResLon       1\n",
              "munResAlt       1\n",
              "munResArea      1\n",
              "Length: 69, dtype: int64"
            ]
          },
          "metadata": {},
          "execution_count": 8
        }
      ],
      "source": [
        "# 2) seu código aqui\n",
        "sinasc.isna().sum()\n"
      ]
    },
    {
      "cell_type": "code",
      "execution_count": null,
      "metadata": {
        "colab": {
          "base_uri": "https://localhost:8080/"
        },
        "id": "sn-DWgP0KB-Z",
        "outputId": "6f3121cb-cd19-4d3d-89d7-02793693f379"
      },
      "outputs": [
        {
          "output_type": "execute_result",
          "data": {
            "text/plain": [
              "LOCNASC          0\n",
              "IDADEMAE         0\n",
              "ESTCIVMAE      317\n",
              "ESCMAE         312\n",
              "QTDFILVIVO    1573\n",
              "GESTACAO      1232\n",
              "GRAVIDEZ        79\n",
              "CONSULTAS        0\n",
              "APGAR5         103\n",
              "dtype: int64"
            ]
          },
          "metadata": {},
          "execution_count": 9
        }
      ],
      "source": [
        "# 3) seu código aqui\n",
        "df = sinasc[[\"LOCNASC\", \"IDADEMAE\", \"ESTCIVMAE\", \"ESCMAE\", \"QTDFILVIVO\", \"GESTACAO\", \"GRAVIDEZ\", \"CONSULTAS\", \"APGAR5\"]]\n",
        "df.isna().sum()"
      ]
    },
    {
      "cell_type": "code",
      "execution_count": null,
      "metadata": {
        "colab": {
          "base_uri": "https://localhost:8080/"
        },
        "id": "vsbHQxy1KB-Z",
        "outputId": "b0c5f4bd-1520-4634-a429-4caaefe209e0"
      },
      "outputs": [
        {
          "output_type": "execute_result",
          "data": {
            "text/plain": [
              "LOCNASC          0\n",
              "IDADEMAE         0\n",
              "ESTCIVMAE      315\n",
              "ESCMAE         310\n",
              "QTDFILVIVO    1566\n",
              "GESTACAO      1216\n",
              "GRAVIDEZ        76\n",
              "CONSULTAS        0\n",
              "APGAR5           0\n",
              "dtype: int64"
            ]
          },
          "metadata": {},
          "execution_count": 10
        }
      ],
      "source": [
        "# 4) seu código aqui\n",
        "df = df.dropna(subset=[\"APGAR5\"])\n",
        "df.isna().sum()\n"
      ]
    },
    {
      "cell_type": "code",
      "execution_count": null,
      "metadata": {
        "colab": {
          "base_uri": "https://localhost:8080/"
        },
        "id": "KAi1uhcoKB-Z",
        "outputId": "3306b4b8-51d7-4ca3-a4f1-75e725ca8a98"
      },
      "outputs": [
        {
          "output_type": "execute_result",
          "data": {
            "text/plain": [
              "LOCNASC          0\n",
              "IDADEMAE         0\n",
              "ESTCIVMAE        0\n",
              "ESCMAE         310\n",
              "QTDFILVIVO    1566\n",
              "GESTACAO      1216\n",
              "GRAVIDEZ        76\n",
              "CONSULTAS        0\n",
              "APGAR5           0\n",
              "dtype: int64"
            ]
          },
          "metadata": {},
          "execution_count": 11
        }
      ],
      "source": [
        "# 5) seu código aqui\n",
        "df[\"ESTCIVMAE\"] = df[\"ESTCIVMAE\"].fillna(9)\n",
        "df[\"CONSULTAS\"] = df[\"CONSULTAS\"].fillna(9)\n",
        "df.isna().sum()"
      ]
    },
    {
      "cell_type": "code",
      "execution_count": null,
      "metadata": {
        "colab": {
          "base_uri": "https://localhost:8080/"
        },
        "id": "evLXT9F4KB-Z",
        "outputId": "fc383409-7b38-48e6-f2f8-0d5c79a0c966"
      },
      "outputs": [
        {
          "output_type": "execute_result",
          "data": {
            "text/plain": [
              "LOCNASC          0\n",
              "IDADEMAE         0\n",
              "ESTCIVMAE        0\n",
              "ESCMAE         310\n",
              "QTDFILVIVO       0\n",
              "GESTACAO      1216\n",
              "GRAVIDEZ        76\n",
              "CONSULTAS        0\n",
              "APGAR5           0\n",
              "dtype: int64"
            ]
          },
          "metadata": {},
          "execution_count": 12
        }
      ],
      "source": [
        "# 6) Seu código aqui\n",
        "df[\"QTDFILVIVO\"] = df[\"QTDFILVIVO\"].fillna(0)\n",
        "df.isna().sum()"
      ]
    },
    {
      "cell_type": "code",
      "execution_count": null,
      "metadata": {
        "colab": {
          "base_uri": "https://localhost:8080/"
        },
        "id": "3BguToL3KB-a",
        "outputId": "8cc0a446-fa86-45cb-a58b-37c54c2d4a20"
      },
      "outputs": [
        {
          "output_type": "execute_result",
          "data": {
            "text/plain": [
              "Única              26356\n",
              "Dupla                488\n",
              "Tríplice e mais        5\n",
              "Name: GRAVIDEZ, dtype: int64"
            ]
          },
          "metadata": {},
          "execution_count": 13
        }
      ],
      "source": [
        "# 7) seu código aqui\n",
        "#Poderia usar o dropna nessa variavel que nao interferiria por ser um valor infimo mas para uma pessoa dar entrada nesse arquivo de dados a pessoa precisa esta gravida entao considerou-se o nan como \"Única\".\n",
        "df[\"GRAVIDEZ\"].value_counts()\n",
        "\n"
      ]
    },
    {
      "cell_type": "code",
      "execution_count": null,
      "metadata": {
        "colab": {
          "base_uri": "https://localhost:8080/"
        },
        "id": "PXbb4APlKB-a",
        "outputId": "43e3374c-7373-449d-c99c-e6475ef6877b"
      },
      "outputs": [
        {
          "output_type": "execute_result",
          "data": {
            "text/plain": [
              "0"
            ]
          },
          "metadata": {},
          "execution_count": 14
        }
      ],
      "source": [
        "df[\"GRAVIDEZ\"] = df[\"GRAVIDEZ\"].fillna('Única')\n",
        "df[\"GRAVIDEZ\"].isna().sum()"
      ]
    },
    {
      "cell_type": "code",
      "execution_count": null,
      "metadata": {
        "colab": {
          "base_uri": "https://localhost:8080/"
        },
        "id": "QVG_jLfAKB-a",
        "outputId": "3d727a0f-448d-4235-d2ed-e171551bdcfa"
      },
      "outputs": [
        {
          "output_type": "execute_result",
          "data": {
            "text/plain": [
              "37 a 41 semanas        22523\n",
              "32 a 36 semanas         2234\n",
              "42 semanas e mais        698\n",
              "28 a 31 semanas          162\n",
              "22 a 27 semanas           85\n",
              "Menos de 22 semanas        7\n",
              "Name: GESTACAO, dtype: int64"
            ]
          },
          "metadata": {},
          "execution_count": 15
        }
      ],
      "source": [
        "#Relacionou o numero de CONSULTAS das pacientes com a semana de GESTACAO para criar uma condicao de ffill e os nan restantes usou dropna.\n",
        "df[\"GESTACAO\"].value_counts()"
      ]
    },
    {
      "cell_type": "code",
      "execution_count": null,
      "metadata": {
        "colab": {
          "base_uri": "https://localhost:8080/"
        },
        "id": "hcaTw4zIKB-a",
        "outputId": "5e457020-0762-49ee-d17c-5a992f13002f"
      },
      "outputs": [
        {
          "output_type": "stream",
          "name": "stdout",
          "text": [
            "       LOCNASC  IDADEMAE  ESTCIVMAE       ESCMAE  QTDFILVIVO GESTACAO  \\\n",
            "1695         1        27        1.0  8 a 11 anos         1.0      NaN   \n",
            "2201         1        26        1.0  8 a 11 anos         1.0      NaN   \n",
            "2359         1        28        2.0   4 a 7 anos         2.0      NaN   \n",
            "2361         1        33        1.0   4 a 7 anos         4.0      NaN   \n",
            "2362         1        15        1.0   4 a 7 anos         1.0      NaN   \n",
            "...        ...       ...        ...          ...         ...      ...   \n",
            "26782        1        19        5.0  8 a 11 anos         1.0      NaN   \n",
            "26786        3        24        5.0   4 a 7 anos         1.0      NaN   \n",
            "26788        1        21        5.0   4 a 7 anos         0.0      NaN   \n",
            "26800        1        24        5.0  8 a 11 anos         1.0      NaN   \n",
            "26855        1        25        5.0  8 a 11 anos         2.0      NaN   \n",
            "\n",
            "      GRAVIDEZ  CONSULTAS  APGAR5  \n",
            "1695     Única          3     9.0  \n",
            "2201     Única          1     8.0  \n",
            "2359     Única          4     9.0  \n",
            "2361     Única          4     9.0  \n",
            "2362     Única          4     9.0  \n",
            "...        ...        ...     ...  \n",
            "26782    Única          4    10.0  \n",
            "26786    Única          4     8.0  \n",
            "26788    Única          4    10.0  \n",
            "26800    Única          3    10.0  \n",
            "26855    Única          3    10.0  \n",
            "\n",
            "[1216 rows x 9 columns]\n"
          ]
        }
      ],
      "source": [
        "dados_ausentes = df.loc[df['GESTACAO'].isna()]\n",
        "print(dados_ausentes)"
      ]
    },
    {
      "cell_type": "code",
      "execution_count": null,
      "metadata": {
        "colab": {
          "base_uri": "https://localhost:8080/"
        },
        "id": "lzoDJ2UXKB-b",
        "outputId": "7bf34858-ab42-4725-e612-138cf5a1c038"
      },
      "outputs": [
        {
          "output_type": "execute_result",
          "data": {
            "text/plain": [
              "37 a 41 semanas      547\n",
              "32 a 36 semanas      114\n",
              "28 a 31 semanas       13\n",
              "22 a 27 semanas       13\n",
              "42 semanas e mais     10\n",
              "Name: GESTACAO, dtype: int64"
            ]
          },
          "metadata": {},
          "execution_count": 17
        }
      ],
      "source": [
        "#Numero de CONSULTAS entre 1 e 4\n",
        "df.loc[df['CONSULTAS'] == 1, 'GESTACAO'].value_counts()\n"
      ]
    },
    {
      "cell_type": "code",
      "execution_count": null,
      "metadata": {
        "colab": {
          "base_uri": "https://localhost:8080/"
        },
        "id": "RHHLqwtgKB-b",
        "outputId": "0d6d7fc6-bbad-40ea-a96e-908cf936a45b"
      },
      "outputs": [
        {
          "output_type": "execute_result",
          "data": {
            "text/plain": [
              "9"
            ]
          },
          "metadata": {},
          "execution_count": 18
        }
      ],
      "source": [
        "df.loc[df['CONSULTAS'] == 4, 'GESTACAO'] = df.loc[df['CONSULTAS'] == 4, 'GESTACAO'].fillna(\"37 a 41 semanas\").ffill()\n",
        "df.loc[df['CONSULTAS'] == 3, 'GESTACAO'] = df.loc[df['CONSULTAS'] == 3, 'GESTACAO'].fillna(\"32 a 36 semanas\").ffill()\n",
        "df.loc[df['CONSULTAS'] == 2, 'GESTACAO'] = df.loc[df['CONSULTAS'] == 2, 'GESTACAO'].fillna(\"28 a 31 semanas\").ffill()\n",
        "df.loc[df['CONSULTAS'] == 1, 'GESTACAO'] = df.loc[df['CONSULTAS'] == 1, 'GESTACAO'].fillna(\"22 a 27 semanas\").ffill()\n",
        "df.loc[df['CONSULTAS'] == 1, 'GESTACAO'] = df.loc[df['CONSULTAS'] == 1, 'GESTACAO'].fillna(\"Menos de 22 semanas\").ffill()\n",
        "df[\"GESTACAO\"].isna().sum()"
      ]
    },
    {
      "cell_type": "code",
      "execution_count": null,
      "metadata": {
        "colab": {
          "base_uri": "https://localhost:8080/"
        },
        "id": "3lIQCcYFKB-b",
        "outputId": "25b04724-ae64-4538-db61-f9a8da33f7a6"
      },
      "outputs": [
        {
          "output_type": "execute_result",
          "data": {
            "text/plain": [
              "0"
            ]
          },
          "metadata": {},
          "execution_count": 19
        }
      ],
      "source": [
        "df = df.dropna(subset=[\"GESTACAO\"])\n",
        "df[\"GESTACAO\"].isna().sum()"
      ]
    },
    {
      "cell_type": "code",
      "execution_count": null,
      "metadata": {
        "colab": {
          "base_uri": "https://localhost:8080/"
        },
        "id": "fCPqnluQKB-b",
        "outputId": "1d3ebb15-513e-4fcb-e52b-93fa7bffb99c"
      },
      "outputs": [
        {
          "output_type": "execute_result",
          "data": {
            "text/plain": [
              "8 a 11 anos        15578\n",
              "12 anos ou mais     5754\n",
              "4 a 7 anos          4725\n",
              "1 a 3 anos           509\n",
              "Nenhuma               40\n",
              "Name: ESCMAE, dtype: int64"
            ]
          },
          "metadata": {},
          "execution_count": 20
        }
      ],
      "source": [
        "#Por ser um valor infimo usou o dropna\n",
        "df[\"ESCMAE\"].value_counts()\n"
      ]
    },
    {
      "cell_type": "code",
      "execution_count": null,
      "metadata": {
        "colab": {
          "base_uri": "https://localhost:8080/"
        },
        "id": "jMPdF847KB-b",
        "outputId": "5decca57-a5fc-464e-c3e6-d3ad0da1ae76"
      },
      "outputs": [
        {
          "output_type": "execute_result",
          "data": {
            "text/plain": [
              "310"
            ]
          },
          "metadata": {},
          "execution_count": 21
        }
      ],
      "source": [
        "df[\"ESCMAE\"].isna().sum()"
      ]
    },
    {
      "cell_type": "code",
      "execution_count": null,
      "metadata": {
        "colab": {
          "base_uri": "https://localhost:8080/"
        },
        "id": "5Pzy_yPbKB-c",
        "outputId": "65c2cd5d-1053-463f-bc2c-16e359a2c392"
      },
      "outputs": [
        {
          "output_type": "execute_result",
          "data": {
            "text/plain": [
              "0"
            ]
          },
          "metadata": {},
          "execution_count": 22
        }
      ],
      "source": [
        "df = df.dropna(subset=[\"ESCMAE\"])\n",
        "df[\"ESCMAE\"].isna().sum()"
      ]
    },
    {
      "cell_type": "code",
      "execution_count": null,
      "metadata": {
        "colab": {
          "base_uri": "https://localhost:8080/"
        },
        "id": "Uilcj2--KB-c",
        "outputId": "e2980805-76d0-4e9f-d232-b82a1e86cde2"
      },
      "outputs": [
        {
          "output_type": "stream",
          "name": "stderr",
          "text": [
            "<ipython-input-23-d975d85b5ef4>:2: SettingWithCopyWarning: \n",
            "A value is trying to be set on a copy of a slice from a DataFrame.\n",
            "Try using .loc[row_indexer,col_indexer] = value instead\n",
            "\n",
            "See the caveats in the documentation: https://pandas.pydata.org/pandas-docs/stable/user_guide/indexing.html#returning-a-view-versus-a-copy\n",
            "  df.loc[df['APGAR5'] <= 3, 'classificacao'] = 'asfixia severa'\n"
          ]
        },
        {
          "output_type": "execute_result",
          "data": {
            "text/plain": [
              "normal              26150\n",
              "asfixia leve          317\n",
              "asfixia severa         74\n",
              "asfixia moderada       65\n",
              "Name: classificacao, dtype: int64"
            ]
          },
          "metadata": {},
          "execution_count": 23
        }
      ],
      "source": [
        "#8) seu código aqui\n",
        "df.loc[df['APGAR5'] <= 3, 'classificacao'] = 'asfixia severa'\n",
        "df.loc[(df['APGAR5'] >= 4) & (df['APGAR5'] <= 5),\n",
        "           'classificacao'] = 'asfixia moderada'\n",
        "df.loc[(df['APGAR5'] >= 6) & (df['APGAR5'] <= 7),\n",
        "           'classificacao'] = 'asfixia leve'\n",
        "df.loc[(df['APGAR5'] >= 8), 'classificacao'] = 'normal'\n",
        "\n",
        "df['classificacao'].value_counts()"
      ]
    },
    {
      "cell_type": "code",
      "execution_count": null,
      "metadata": {
        "colab": {
          "base_uri": "https://localhost:8080/",
          "height": 423
        },
        "id": "Dy1Q-9wTKB-c",
        "outputId": "fbdf5f18-950b-469a-ff2a-1634af13f97b"
      },
      "outputs": [
        {
          "output_type": "execute_result",
          "data": {
            "text/plain": [
              "       locnasc  idademae  estcivmae           escmae  qtdfilvivo  \\\n",
              "0            1        19        5.0      8 a 11 anos         0.0   \n",
              "1            1        29        2.0      8 a 11 anos         1.0   \n",
              "2            1        37        9.0      8 a 11 anos         2.0   \n",
              "3            1        30        5.0  12 anos ou mais         0.0   \n",
              "4            1        30        2.0      8 a 11 anos         1.0   \n",
              "...        ...       ...        ...              ...         ...   \n",
              "27023        1        32        2.0  12 anos ou mais         1.0   \n",
              "27024        1        19        1.0      8 a 11 anos         0.0   \n",
              "27025        1        24        2.0      8 a 11 anos         0.0   \n",
              "27026        1        21        2.0      8 a 11 anos         1.0   \n",
              "27027        1        18        5.0      8 a 11 anos         1.0   \n",
              "\n",
              "              gestacao gravidez  consultas  apgar5 classificacao  \n",
              "0      37 a 41 semanas    Única          4    10.0        normal  \n",
              "1      37 a 41 semanas    Única          4     9.0        normal  \n",
              "2      37 a 41 semanas    Única          4    10.0        normal  \n",
              "3      37 a 41 semanas    Única          3    10.0        normal  \n",
              "4      37 a 41 semanas    Única          4    10.0        normal  \n",
              "...                ...      ...        ...     ...           ...  \n",
              "27023  32 a 36 semanas    Única          4     9.0        normal  \n",
              "27024  37 a 41 semanas    Única          4     9.0        normal  \n",
              "27025  37 a 41 semanas    Única          4    10.0        normal  \n",
              "27026  32 a 36 semanas    Única          4     9.0        normal  \n",
              "27027  37 a 41 semanas    Única          4     8.0        normal  \n",
              "\n",
              "[26606 rows x 10 columns]"
            ],
            "text/html": [
              "\n",
              "  <div id=\"df-35a422c8-04a6-403b-9538-149eaa2308f5\">\n",
              "    <div class=\"colab-df-container\">\n",
              "      <div>\n",
              "<style scoped>\n",
              "    .dataframe tbody tr th:only-of-type {\n",
              "        vertical-align: middle;\n",
              "    }\n",
              "\n",
              "    .dataframe tbody tr th {\n",
              "        vertical-align: top;\n",
              "    }\n",
              "\n",
              "    .dataframe thead th {\n",
              "        text-align: right;\n",
              "    }\n",
              "</style>\n",
              "<table border=\"1\" class=\"dataframe\">\n",
              "  <thead>\n",
              "    <tr style=\"text-align: right;\">\n",
              "      <th></th>\n",
              "      <th>locnasc</th>\n",
              "      <th>idademae</th>\n",
              "      <th>estcivmae</th>\n",
              "      <th>escmae</th>\n",
              "      <th>qtdfilvivo</th>\n",
              "      <th>gestacao</th>\n",
              "      <th>gravidez</th>\n",
              "      <th>consultas</th>\n",
              "      <th>apgar5</th>\n",
              "      <th>classificacao</th>\n",
              "    </tr>\n",
              "  </thead>\n",
              "  <tbody>\n",
              "    <tr>\n",
              "      <th>0</th>\n",
              "      <td>1</td>\n",
              "      <td>19</td>\n",
              "      <td>5.0</td>\n",
              "      <td>8 a 11 anos</td>\n",
              "      <td>0.0</td>\n",
              "      <td>37 a 41 semanas</td>\n",
              "      <td>Única</td>\n",
              "      <td>4</td>\n",
              "      <td>10.0</td>\n",
              "      <td>normal</td>\n",
              "    </tr>\n",
              "    <tr>\n",
              "      <th>1</th>\n",
              "      <td>1</td>\n",
              "      <td>29</td>\n",
              "      <td>2.0</td>\n",
              "      <td>8 a 11 anos</td>\n",
              "      <td>1.0</td>\n",
              "      <td>37 a 41 semanas</td>\n",
              "      <td>Única</td>\n",
              "      <td>4</td>\n",
              "      <td>9.0</td>\n",
              "      <td>normal</td>\n",
              "    </tr>\n",
              "    <tr>\n",
              "      <th>2</th>\n",
              "      <td>1</td>\n",
              "      <td>37</td>\n",
              "      <td>9.0</td>\n",
              "      <td>8 a 11 anos</td>\n",
              "      <td>2.0</td>\n",
              "      <td>37 a 41 semanas</td>\n",
              "      <td>Única</td>\n",
              "      <td>4</td>\n",
              "      <td>10.0</td>\n",
              "      <td>normal</td>\n",
              "    </tr>\n",
              "    <tr>\n",
              "      <th>3</th>\n",
              "      <td>1</td>\n",
              "      <td>30</td>\n",
              "      <td>5.0</td>\n",
              "      <td>12 anos ou mais</td>\n",
              "      <td>0.0</td>\n",
              "      <td>37 a 41 semanas</td>\n",
              "      <td>Única</td>\n",
              "      <td>3</td>\n",
              "      <td>10.0</td>\n",
              "      <td>normal</td>\n",
              "    </tr>\n",
              "    <tr>\n",
              "      <th>4</th>\n",
              "      <td>1</td>\n",
              "      <td>30</td>\n",
              "      <td>2.0</td>\n",
              "      <td>8 a 11 anos</td>\n",
              "      <td>1.0</td>\n",
              "      <td>37 a 41 semanas</td>\n",
              "      <td>Única</td>\n",
              "      <td>4</td>\n",
              "      <td>10.0</td>\n",
              "      <td>normal</td>\n",
              "    </tr>\n",
              "    <tr>\n",
              "      <th>...</th>\n",
              "      <td>...</td>\n",
              "      <td>...</td>\n",
              "      <td>...</td>\n",
              "      <td>...</td>\n",
              "      <td>...</td>\n",
              "      <td>...</td>\n",
              "      <td>...</td>\n",
              "      <td>...</td>\n",
              "      <td>...</td>\n",
              "      <td>...</td>\n",
              "    </tr>\n",
              "    <tr>\n",
              "      <th>27023</th>\n",
              "      <td>1</td>\n",
              "      <td>32</td>\n",
              "      <td>2.0</td>\n",
              "      <td>12 anos ou mais</td>\n",
              "      <td>1.0</td>\n",
              "      <td>32 a 36 semanas</td>\n",
              "      <td>Única</td>\n",
              "      <td>4</td>\n",
              "      <td>9.0</td>\n",
              "      <td>normal</td>\n",
              "    </tr>\n",
              "    <tr>\n",
              "      <th>27024</th>\n",
              "      <td>1</td>\n",
              "      <td>19</td>\n",
              "      <td>1.0</td>\n",
              "      <td>8 a 11 anos</td>\n",
              "      <td>0.0</td>\n",
              "      <td>37 a 41 semanas</td>\n",
              "      <td>Única</td>\n",
              "      <td>4</td>\n",
              "      <td>9.0</td>\n",
              "      <td>normal</td>\n",
              "    </tr>\n",
              "    <tr>\n",
              "      <th>27025</th>\n",
              "      <td>1</td>\n",
              "      <td>24</td>\n",
              "      <td>2.0</td>\n",
              "      <td>8 a 11 anos</td>\n",
              "      <td>0.0</td>\n",
              "      <td>37 a 41 semanas</td>\n",
              "      <td>Única</td>\n",
              "      <td>4</td>\n",
              "      <td>10.0</td>\n",
              "      <td>normal</td>\n",
              "    </tr>\n",
              "    <tr>\n",
              "      <th>27026</th>\n",
              "      <td>1</td>\n",
              "      <td>21</td>\n",
              "      <td>2.0</td>\n",
              "      <td>8 a 11 anos</td>\n",
              "      <td>1.0</td>\n",
              "      <td>32 a 36 semanas</td>\n",
              "      <td>Única</td>\n",
              "      <td>4</td>\n",
              "      <td>9.0</td>\n",
              "      <td>normal</td>\n",
              "    </tr>\n",
              "    <tr>\n",
              "      <th>27027</th>\n",
              "      <td>1</td>\n",
              "      <td>18</td>\n",
              "      <td>5.0</td>\n",
              "      <td>8 a 11 anos</td>\n",
              "      <td>1.0</td>\n",
              "      <td>37 a 41 semanas</td>\n",
              "      <td>Única</td>\n",
              "      <td>4</td>\n",
              "      <td>8.0</td>\n",
              "      <td>normal</td>\n",
              "    </tr>\n",
              "  </tbody>\n",
              "</table>\n",
              "<p>26606 rows × 10 columns</p>\n",
              "</div>\n",
              "      <button class=\"colab-df-convert\" onclick=\"convertToInteractive('df-35a422c8-04a6-403b-9538-149eaa2308f5')\"\n",
              "              title=\"Convert this dataframe to an interactive table.\"\n",
              "              style=\"display:none;\">\n",
              "        \n",
              "  <svg xmlns=\"http://www.w3.org/2000/svg\" height=\"24px\"viewBox=\"0 0 24 24\"\n",
              "       width=\"24px\">\n",
              "    <path d=\"M0 0h24v24H0V0z\" fill=\"none\"/>\n",
              "    <path d=\"M18.56 5.44l.94 2.06.94-2.06 2.06-.94-2.06-.94-.94-2.06-.94 2.06-2.06.94zm-11 1L8.5 8.5l.94-2.06 2.06-.94-2.06-.94L8.5 2.5l-.94 2.06-2.06.94zm10 10l.94 2.06.94-2.06 2.06-.94-2.06-.94-.94-2.06-.94 2.06-2.06.94z\"/><path d=\"M17.41 7.96l-1.37-1.37c-.4-.4-.92-.59-1.43-.59-.52 0-1.04.2-1.43.59L10.3 9.45l-7.72 7.72c-.78.78-.78 2.05 0 2.83L4 21.41c.39.39.9.59 1.41.59.51 0 1.02-.2 1.41-.59l7.78-7.78 2.81-2.81c.8-.78.8-2.07 0-2.86zM5.41 20L4 18.59l7.72-7.72 1.47 1.35L5.41 20z\"/>\n",
              "  </svg>\n",
              "      </button>\n",
              "      \n",
              "  <style>\n",
              "    .colab-df-container {\n",
              "      display:flex;\n",
              "      flex-wrap:wrap;\n",
              "      gap: 12px;\n",
              "    }\n",
              "\n",
              "    .colab-df-convert {\n",
              "      background-color: #E8F0FE;\n",
              "      border: none;\n",
              "      border-radius: 50%;\n",
              "      cursor: pointer;\n",
              "      display: none;\n",
              "      fill: #1967D2;\n",
              "      height: 32px;\n",
              "      padding: 0 0 0 0;\n",
              "      width: 32px;\n",
              "    }\n",
              "\n",
              "    .colab-df-convert:hover {\n",
              "      background-color: #E2EBFA;\n",
              "      box-shadow: 0px 1px 2px rgba(60, 64, 67, 0.3), 0px 1px 3px 1px rgba(60, 64, 67, 0.15);\n",
              "      fill: #174EA6;\n",
              "    }\n",
              "\n",
              "    [theme=dark] .colab-df-convert {\n",
              "      background-color: #3B4455;\n",
              "      fill: #D2E3FC;\n",
              "    }\n",
              "\n",
              "    [theme=dark] .colab-df-convert:hover {\n",
              "      background-color: #434B5C;\n",
              "      box-shadow: 0px 1px 3px 1px rgba(0, 0, 0, 0.15);\n",
              "      filter: drop-shadow(0px 1px 2px rgba(0, 0, 0, 0.3));\n",
              "      fill: #FFFFFF;\n",
              "    }\n",
              "  </style>\n",
              "\n",
              "      <script>\n",
              "        const buttonEl =\n",
              "          document.querySelector('#df-35a422c8-04a6-403b-9538-149eaa2308f5 button.colab-df-convert');\n",
              "        buttonEl.style.display =\n",
              "          google.colab.kernel.accessAllowed ? 'block' : 'none';\n",
              "\n",
              "        async function convertToInteractive(key) {\n",
              "          const element = document.querySelector('#df-35a422c8-04a6-403b-9538-149eaa2308f5');\n",
              "          const dataTable =\n",
              "            await google.colab.kernel.invokeFunction('convertToInteractive',\n",
              "                                                     [key], {});\n",
              "          if (!dataTable) return;\n",
              "\n",
              "          const docLinkHtml = 'Like what you see? Visit the ' +\n",
              "            '<a target=\"_blank\" href=https://colab.research.google.com/notebooks/data_table.ipynb>data table notebook</a>'\n",
              "            + ' to learn more about interactive tables.';\n",
              "          element.innerHTML = '';\n",
              "          dataTable['output_type'] = 'display_data';\n",
              "          await google.colab.output.renderOutput(dataTable, element);\n",
              "          const docLink = document.createElement('div');\n",
              "          docLink.innerHTML = docLinkHtml;\n",
              "          element.appendChild(docLink);\n",
              "        }\n",
              "      </script>\n",
              "    </div>\n",
              "  </div>\n",
              "  "
            ]
          },
          "metadata": {},
          "execution_count": 24
        }
      ],
      "source": [
        "#9) seu código aqui\n",
        "df = df.rename(columns=lambda x: x.lower().replace(' ', '_'))\n",
        "df"
      ]
    }
  ],
  "metadata": {
    "kernelspec": {
      "display_name": "Python 3",
      "language": "python",
      "name": "python3"
    },
    "language_info": {
      "codemirror_mode": {
        "name": "ipython",
        "version": 3
      },
      "file_extension": ".py",
      "mimetype": "text/x-python",
      "name": "python",
      "nbconvert_exporter": "python",
      "pygments_lexer": "ipython3",
      "version": "3.11.2"
    },
    "colab": {
      "provenance": []
    }
  },
  "nbformat": 4,
  "nbformat_minor": 0
}