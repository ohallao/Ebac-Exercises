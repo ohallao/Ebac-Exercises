{
  "cells": [
    {
      "cell_type": "markdown",
      "metadata": {
        "id": "Lq_HwYyPu4SJ"
      },
      "source": [
        "![Cabec%CC%A7alho_notebook.png](cabecalho_notebook.png)"
      ]
    },
    {
      "cell_type": "markdown",
      "metadata": {
        "id": "T5uC7Eiou4SK"
      },
      "source": [
        "# PCA - Tarefa 01: *HAR* com PCA\n",
        "\n",
        "Vamos trabalhar com a base da demonstração feita em aula, mas vamos explorar um pouco melhor como é o desempenho da árvore variando o número de componentes principais."
      ]
    },
    {
      "cell_type": "code",
      "execution_count": 11,
      "metadata": {
        "id": "spZ5JidBu4SK"
      },
      "outputs": [],
      "source": [
        "import pandas as pd\n",
        "import numpy as np\n",
        "import matplotlib.pyplot as plt\n",
        "import seaborn as sns\n",
        "import time\n",
        "\n",
        "from sklearn.tree import DecisionTreeClassifier\n",
        "\n",
        "from sklearn.decomposition import PCA\n",
        "from sklearn.metrics import accuracy_score\n",
        "from sklearn.model_selection import cross_val_score\n",
        "from sklearn.model_selection import GridSearchCV\n",
        "\n",
        "filename_features = \"/content/features_info.txt\"\n",
        "filename_labels = \"/content/activity_labels.txt\"\n",
        "\n",
        "filename_subtrain = \"/content/train/subject_train.txt\"\n",
        "filename_xtrain = \"/content/train/X_train.txt\"\n",
        "filename_ytrain = \"/content/train/y_train.txt\"\n",
        "\n",
        "filename_subtest = \"/content/test/subject_test.txt\"\n",
        "ffilename_xtest = \"/content/test/X_test.txt\"\n",
        "filename_ytest = \"/content/test/y_test.txt\"\n",
        "\n",
        "features = pd.read_csv(filename_features, header=None, names=['nome_var'], sep=\"#\").squeeze()\n",
        "labels = pd.read_csv(filename_labels, delim_whitespace=True, header=None, names=['cod_label', 'label'])\n",
        "\n",
        "subject_train = pd.read_csv(filename_subtrain, header=None, names=['subject_id']).squeeze()\n",
        "X_train = pd.read_csv(filename_xtrain, delim_whitespace=True, header=None, names=features.tolist())\n",
        "y_train = pd.read_csv(filename_ytrain, header=None, names=['cod_label'])\n",
        "\n",
        "subject_test = pd.read_csv(filename_subtest, header=None, names=['subject_id']).squeeze()\n",
        "X_test = pd.read_csv(ffilename_xtest, delim_whitespace=True, header=None, names=features.tolist())\n",
        "y_test = pd.read_csv(filename_ytest, header=None, names=['cod_label'])"
      ]
    },
    {
      "cell_type": "markdown",
      "metadata": {
        "id": "lVGbmpm9u4SL"
      },
      "source": [
        "## Árvore de decisão\n",
        "\n",
        "Rode uma árvore de decisão com todas as variáveis, utilizando o ```ccp_alpha=0.001```. Avalie a acurácia nas bases de treinamento e teste. Avalie o tempo de processamento."
      ]
    },
    {
      "cell_type": "code",
      "execution_count": 12,
      "metadata": {
        "id": "Apa7zXUUu4SL",
        "colab": {
          "base_uri": "https://localhost:8080/"
        },
        "outputId": "18906da8-fc00-4b00-f97c-debf22eda901"
      },
      "outputs": [
        {
          "output_type": "stream",
          "name": "stdout",
          "text": [
            "CPU times: user 544 ms, sys: 0 ns, total: 544 ms\n",
            "Wall time: 542 ms\n"
          ]
        }
      ],
      "source": [
        "%%time\n",
        "clf = DecisionTreeClassifier(ccp_alpha=0.001).fit(X_train, y_train)"
      ]
    },
    {
      "cell_type": "code",
      "source": [
        "train_score = clf.score(X_train, y_train)\n",
        "test_score = clf.score(X_test, y_test)\n",
        "\n",
        "print(f'Acurácia da melhor árvore na base de treino:    {train_score*100:.1f}')\n",
        "print(f'Acurácia da melhor árvore na base de teste:     {test_score*100:.1f}')"
      ],
      "metadata": {
        "colab": {
          "base_uri": "https://localhost:8080/"
        },
        "id": "YroINovZ224w",
        "outputId": "5e31663a-5662-473d-99d8-36815998df89"
      },
      "execution_count": 13,
      "outputs": [
        {
          "output_type": "stream",
          "name": "stdout",
          "text": [
            "Acurácia da melhor árvore na base de treino:    93.9\n",
            "Acurácia da melhor árvore na base de teste:     80.3\n"
          ]
        }
      ]
    },
    {
      "cell_type": "markdown",
      "metadata": {
        "id": "Ui4xDtinu4SL"
      },
      "source": [
        "## Árvore com PCA\n",
        "\n",
        "Faça uma análise de componemtes principais das variáveis originais. Utilize apenas uma componente. Faça uma árvore de decisão com esta componente como variável explicativa.\n",
        "\n",
        "- Avalie a acurácia nas bases de treinamento e teste\n",
        "- Avalie o tempo de processamento"
      ]
    },
    {
      "cell_type": "code",
      "execution_count": 14,
      "metadata": {
        "id": "hm3OPuE2u4SL",
        "colab": {
          "base_uri": "https://localhost:8080/"
        },
        "outputId": "a6c9b73c-f4e5-4bd5-9d25-803fb2fdca7d"
      },
      "outputs": [
        {
          "output_type": "stream",
          "name": "stdout",
          "text": [
            "CPU times: user 215 ms, sys: 109 ms, total: 325 ms\n",
            "Wall time: 172 ms\n"
          ]
        }
      ],
      "source": [
        "%%time\n",
        "prcomp = PCA(n_components=1).fit(X_train)\n",
        "pc_train = prcomp.transform(X_train)\n",
        "pc_test = prcomp.transform(X_test)"
      ]
    },
    {
      "cell_type": "code",
      "source": [
        "clf = DecisionTreeClassifier(ccp_alpha=0.001).fit(pc_train, y_train)\n",
        "\n",
        "train_score = clf.score(pc_train, y_train)\n",
        "test_score = clf.score(pc_test, y_test)\n",
        "\n",
        "print(f'Acurácia da melhor árvore na base de treino:    {train_score*100:.1f}')\n",
        "print(f'Acurácia da melhor árvore na base de teste:     {test_score*100:.1f}')"
      ],
      "metadata": {
        "colab": {
          "base_uri": "https://localhost:8080/"
        },
        "id": "p9bkcm8j3FN4",
        "outputId": "d9e1d66c-5d0d-4334-882d-da63350d1ecf"
      },
      "execution_count": 15,
      "outputs": [
        {
          "output_type": "stream",
          "name": "stdout",
          "text": [
            "Acurácia da melhor árvore na base de treino:    53.5\n",
            "Acurácia da melhor árvore na base de teste:     50.5\n"
          ]
        }
      ]
    },
    {
      "cell_type": "markdown",
      "metadata": {
        "id": "0XTxMcmEu4SL"
      },
      "source": [
        "## Testando o número de componentes\n",
        "\n",
        "Com base no código acima, teste a árvore de classificação com pelo menos as seguintes possibilidades de quantidades de componentes: ```[1, 2, 5, 10, 50]```. Avalie para cada uma delas:\n",
        "\n",
        "- Acurácia nas bases de treino e teste\n",
        "- Tempo de processamento\n"
      ]
    },
    {
      "cell_type": "code",
      "source": [
        "prcomp_list = []\n",
        "n_comp = [1, 2, 5, 10, 50]\n",
        "\n",
        "for n in n_comp:\n",
        "    start = time.time()\n",
        "\n",
        "    n_components = min(n, min(X_train.shape))\n",
        "\n",
        "    prcomp = PCA(n_components=n_components).fit(X_train)\n",
        "    pc_train = prcomp.transform(X_train)\n",
        "    pc_test = prcomp.transform(X_test)\n",
        "\n",
        "    clf = DecisionTreeClassifier(random_state=101, ccp_alpha=0.001).fit(pc_train, y_train)\n",
        "\n",
        "    train_score = clf.score(pc_train, y_train)\n",
        "    test_score = clf.score(pc_test, y_test)\n",
        "\n",
        "    print(f'Acurácia da melhor árvore na base de treino para {n_components} componentes:    {train_score*100:.1f}')\n",
        "    print(f'Acurácia da melhor árvore na base de teste {n_components} componentes:          {test_score*100:.1f}')\n",
        "    print(f'Tempo de processamento: {time.time() - start}')\n",
        "    print('-----')"
      ],
      "metadata": {
        "colab": {
          "base_uri": "https://localhost:8080/"
        },
        "id": "-EmOiHSu3xUl",
        "outputId": "7f85f371-de8e-480d-c260-c2bb50340149"
      },
      "execution_count": 19,
      "outputs": [
        {
          "output_type": "stream",
          "name": "stdout",
          "text": [
            "Acurácia da melhor árvore na base de treino para 1 componentes:    53.5\n",
            "Acurácia da melhor árvore na base de teste 1 componentes:          50.5\n",
            "Tempo de processamento: 0.2924387454986572\n",
            "-----\n",
            "Acurácia da melhor árvore na base de treino para 2 componentes:    56.9\n",
            "Acurácia da melhor árvore na base de teste 2 componentes:          52.5\n",
            "Tempo de processamento: 0.21025395393371582\n",
            "-----\n",
            "Acurácia da melhor árvore na base de treino para 5 componentes:    77.3\n",
            "Acurácia da melhor árvore na base de teste 5 componentes:          71.1\n",
            "Tempo de processamento: 0.31455469131469727\n",
            "-----\n",
            "Acurácia da melhor árvore na base de treino para 10 componentes:    78.8\n",
            "Acurácia da melhor árvore na base de teste 10 componentes:          72.4\n",
            "Tempo de processamento: 0.3581068515777588\n",
            "-----\n",
            "Acurácia da melhor árvore na base de treino para 49 componentes:    85.3\n",
            "Acurácia da melhor árvore na base de teste 49 componentes:          73.0\n",
            "Tempo de processamento: 0.8677287101745605\n",
            "-----\n"
          ]
        }
      ]
    },
    {
      "cell_type": "markdown",
      "metadata": {
        "id": "nL8a0zdZu4SL"
      },
      "source": [
        "## Conclua\n",
        "\n",
        "- O que aconteceu com a acurácia?\n",
        "- O que aconteceu com o tempo de processamento?"
      ]
    },
    {
      "cell_type": "markdown",
      "source": [
        "A acurácia na base de treino aumentou constantemente com mais componentes, mas a acurácia na base de teste não melhorou tanto, sugerindo um risco de overfitting\n",
        "\n",
        "O tempo de processamento aumentou à medida que mais componentes foram usados, resultando em um maior custo computacional para o treinamento do modelo."
      ],
      "metadata": {
        "id": "XfFsBf8377Zq"
      }
    }
  ],
  "metadata": {
    "kernelspec": {
      "display_name": "Python 3",
      "language": "python",
      "name": "python3"
    },
    "language_info": {
      "codemirror_mode": {
        "name": "ipython",
        "version": 3
      },
      "file_extension": ".py",
      "mimetype": "text/x-python",
      "name": "python",
      "nbconvert_exporter": "python",
      "pygments_lexer": "ipython3",
      "version": "3.8.5"
    },
    "toc": {
      "base_numbering": 1,
      "nav_menu": {},
      "number_sections": true,
      "sideBar": true,
      "skip_h1_title": true,
      "title_cell": "Índice",
      "title_sidebar": "Conteúdo",
      "toc_cell": false,
      "toc_position": {},
      "toc_section_display": true,
      "toc_window_display": false
    },
    "varInspector": {
      "cols": {
        "lenName": 16,
        "lenType": 16,
        "lenVar": 40
      },
      "kernels_config": {
        "python": {
          "delete_cmd_postfix": "",
          "delete_cmd_prefix": "del ",
          "library": "var_list.py",
          "varRefreshCmd": "print(var_dic_list())"
        },
        "r": {
          "delete_cmd_postfix": ") ",
          "delete_cmd_prefix": "rm(",
          "library": "var_list.r",
          "varRefreshCmd": "cat(var_dic_list()) "
        }
      },
      "types_to_exclude": [
        "module",
        "function",
        "builtin_function_or_method",
        "instance",
        "_Feature"
      ],
      "window_display": false
    },
    "colab": {
      "provenance": []
    }
  },
  "nbformat": 4,
  "nbformat_minor": 0
}