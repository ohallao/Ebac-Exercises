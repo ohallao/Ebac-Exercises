{
  "cells": [
    {
      "cell_type": "markdown",
      "metadata": {
        "id": "4sHH6c0Y1O9S"
      },
      "source": [
        "# Módulo 07, Tarefa 01\n",
        "\n",
        "Vamos começar a mexer na nossa base de projeto? Já fizemos um exercício de montar a variável resposta, já pudemos perceber que essa atividade pode não ser trivial. Vamos agora trabalhar a base para que fique propícia ao *scikitlearn* para trabalharmos.\n",
        "\n",
        "Lembrando, a base se chama demo01.csv, e originalmente está publicada [aqui](https://www.kaggle.com/rikdifos/credit-card-approval-prediction)."
      ]
    },
    {
      "cell_type": "markdown",
      "metadata": {
        "id": "7bGKP5cE1O9T"
      },
      "source": [
        "#### 1) Carregue a base e avalie:\n",
        "\n",
        "- As variáveis\n",
        "- Tipos de dados de cada variável\n",
        "- Quantidade de missings\n",
        "- Distribuição da variável resposta (mau)"
      ]
    },
    {
      "cell_type": "code",
      "execution_count": 31,
      "metadata": {
        "id": "uGkOF53r1O9U"
      },
      "outputs": [],
      "source": [
        "import pandas as pd\n",
        "\n",
        "import seaborn as sns\n",
        "import matplotlib.pyplot as plt"
      ]
    },
    {
      "cell_type": "code",
      "source": [
        "df = pd.read_csv('/content/demo01.csv')\n",
        "df.head(1)"
      ],
      "metadata": {
        "colab": {
          "base_uri": "https://localhost:8080/",
          "height": 142
        },
        "id": "donP6yRN1gZJ",
        "outputId": "7bbd79c8-00be-44cd-fe8c-562869e3e952"
      },
      "execution_count": 98,
      "outputs": [
        {
          "output_type": "execute_result",
          "data": {
            "text/plain": [
              "  sexo posse_de_veiculo posse_de_imovel  qtd_filhos tipo_renda  \\\n",
              "0    M                Y               Y           0    Working   \n",
              "\n",
              "                        educacao estado_civil    tipo_residencia      idade  \\\n",
              "0  Secondary / secondary special      Married  House / apartment  58.832877   \n",
              "\n",
              "   tempo_emprego  possui_celular  possui_fone_comercial  possui_fone  \\\n",
              "0       3.106849               1                      0            0   \n",
              "\n",
              "   possui_email  qt_pessoas_residencia    mau  \n",
              "0             0                    2.0  False  "
            ],
            "text/html": [
              "\n",
              "  <div id=\"df-b8319d28-66da-48aa-ab71-4a0c25c1769c\">\n",
              "    <div class=\"colab-df-container\">\n",
              "      <div>\n",
              "<style scoped>\n",
              "    .dataframe tbody tr th:only-of-type {\n",
              "        vertical-align: middle;\n",
              "    }\n",
              "\n",
              "    .dataframe tbody tr th {\n",
              "        vertical-align: top;\n",
              "    }\n",
              "\n",
              "    .dataframe thead th {\n",
              "        text-align: right;\n",
              "    }\n",
              "</style>\n",
              "<table border=\"1\" class=\"dataframe\">\n",
              "  <thead>\n",
              "    <tr style=\"text-align: right;\">\n",
              "      <th></th>\n",
              "      <th>sexo</th>\n",
              "      <th>posse_de_veiculo</th>\n",
              "      <th>posse_de_imovel</th>\n",
              "      <th>qtd_filhos</th>\n",
              "      <th>tipo_renda</th>\n",
              "      <th>educacao</th>\n",
              "      <th>estado_civil</th>\n",
              "      <th>tipo_residencia</th>\n",
              "      <th>idade</th>\n",
              "      <th>tempo_emprego</th>\n",
              "      <th>possui_celular</th>\n",
              "      <th>possui_fone_comercial</th>\n",
              "      <th>possui_fone</th>\n",
              "      <th>possui_email</th>\n",
              "      <th>qt_pessoas_residencia</th>\n",
              "      <th>mau</th>\n",
              "    </tr>\n",
              "  </thead>\n",
              "  <tbody>\n",
              "    <tr>\n",
              "      <th>0</th>\n",
              "      <td>M</td>\n",
              "      <td>Y</td>\n",
              "      <td>Y</td>\n",
              "      <td>0</td>\n",
              "      <td>Working</td>\n",
              "      <td>Secondary / secondary special</td>\n",
              "      <td>Married</td>\n",
              "      <td>House / apartment</td>\n",
              "      <td>58.832877</td>\n",
              "      <td>3.106849</td>\n",
              "      <td>1</td>\n",
              "      <td>0</td>\n",
              "      <td>0</td>\n",
              "      <td>0</td>\n",
              "      <td>2.0</td>\n",
              "      <td>False</td>\n",
              "    </tr>\n",
              "  </tbody>\n",
              "</table>\n",
              "</div>\n",
              "      <button class=\"colab-df-convert\" onclick=\"convertToInteractive('df-b8319d28-66da-48aa-ab71-4a0c25c1769c')\"\n",
              "              title=\"Convert this dataframe to an interactive table.\"\n",
              "              style=\"display:none;\">\n",
              "        \n",
              "  <svg xmlns=\"http://www.w3.org/2000/svg\" height=\"24px\"viewBox=\"0 0 24 24\"\n",
              "       width=\"24px\">\n",
              "    <path d=\"M0 0h24v24H0V0z\" fill=\"none\"/>\n",
              "    <path d=\"M18.56 5.44l.94 2.06.94-2.06 2.06-.94-2.06-.94-.94-2.06-.94 2.06-2.06.94zm-11 1L8.5 8.5l.94-2.06 2.06-.94-2.06-.94L8.5 2.5l-.94 2.06-2.06.94zm10 10l.94 2.06.94-2.06 2.06-.94-2.06-.94-.94-2.06-.94 2.06-2.06.94z\"/><path d=\"M17.41 7.96l-1.37-1.37c-.4-.4-.92-.59-1.43-.59-.52 0-1.04.2-1.43.59L10.3 9.45l-7.72 7.72c-.78.78-.78 2.05 0 2.83L4 21.41c.39.39.9.59 1.41.59.51 0 1.02-.2 1.41-.59l7.78-7.78 2.81-2.81c.8-.78.8-2.07 0-2.86zM5.41 20L4 18.59l7.72-7.72 1.47 1.35L5.41 20z\"/>\n",
              "  </svg>\n",
              "      </button>\n",
              "      \n",
              "  <style>\n",
              "    .colab-df-container {\n",
              "      display:flex;\n",
              "      flex-wrap:wrap;\n",
              "      gap: 12px;\n",
              "    }\n",
              "\n",
              "    .colab-df-convert {\n",
              "      background-color: #E8F0FE;\n",
              "      border: none;\n",
              "      border-radius: 50%;\n",
              "      cursor: pointer;\n",
              "      display: none;\n",
              "      fill: #1967D2;\n",
              "      height: 32px;\n",
              "      padding: 0 0 0 0;\n",
              "      width: 32px;\n",
              "    }\n",
              "\n",
              "    .colab-df-convert:hover {\n",
              "      background-color: #E2EBFA;\n",
              "      box-shadow: 0px 1px 2px rgba(60, 64, 67, 0.3), 0px 1px 3px 1px rgba(60, 64, 67, 0.15);\n",
              "      fill: #174EA6;\n",
              "    }\n",
              "\n",
              "    [theme=dark] .colab-df-convert {\n",
              "      background-color: #3B4455;\n",
              "      fill: #D2E3FC;\n",
              "    }\n",
              "\n",
              "    [theme=dark] .colab-df-convert:hover {\n",
              "      background-color: #434B5C;\n",
              "      box-shadow: 0px 1px 3px 1px rgba(0, 0, 0, 0.15);\n",
              "      filter: drop-shadow(0px 1px 2px rgba(0, 0, 0, 0.3));\n",
              "      fill: #FFFFFF;\n",
              "    }\n",
              "  </style>\n",
              "\n",
              "      <script>\n",
              "        const buttonEl =\n",
              "          document.querySelector('#df-b8319d28-66da-48aa-ab71-4a0c25c1769c button.colab-df-convert');\n",
              "        buttonEl.style.display =\n",
              "          google.colab.kernel.accessAllowed ? 'block' : 'none';\n",
              "\n",
              "        async function convertToInteractive(key) {\n",
              "          const element = document.querySelector('#df-b8319d28-66da-48aa-ab71-4a0c25c1769c');\n",
              "          const dataTable =\n",
              "            await google.colab.kernel.invokeFunction('convertToInteractive',\n",
              "                                                     [key], {});\n",
              "          if (!dataTable) return;\n",
              "\n",
              "          const docLinkHtml = 'Like what you see? Visit the ' +\n",
              "            '<a target=\"_blank\" href=https://colab.research.google.com/notebooks/data_table.ipynb>data table notebook</a>'\n",
              "            + ' to learn more about interactive tables.';\n",
              "          element.innerHTML = '';\n",
              "          dataTable['output_type'] = 'display_data';\n",
              "          await google.colab.output.renderOutput(dataTable, element);\n",
              "          const docLink = document.createElement('div');\n",
              "          docLink.innerHTML = docLinkHtml;\n",
              "          element.appendChild(docLink);\n",
              "        }\n",
              "      </script>\n",
              "    </div>\n",
              "  </div>\n",
              "  "
            ]
          },
          "metadata": {},
          "execution_count": 98
        }
      ]
    },
    {
      "cell_type": "code",
      "source": [
        "print(df.dtypes)"
      ],
      "metadata": {
        "colab": {
          "base_uri": "https://localhost:8080/"
        },
        "id": "JEWpQQtk1gQ6",
        "outputId": "86c18d06-bc92-42ae-cbc2-4e4bcc020c84"
      },
      "execution_count": 33,
      "outputs": [
        {
          "output_type": "stream",
          "name": "stdout",
          "text": [
            "sexo                      object\n",
            "posse_de_veiculo          object\n",
            "posse_de_imovel           object\n",
            "qtd_filhos                 int64\n",
            "tipo_renda                object\n",
            "educacao                  object\n",
            "estado_civil              object\n",
            "tipo_residencia           object\n",
            "idade                    float64\n",
            "tempo_emprego            float64\n",
            "possui_celular             int64\n",
            "possui_fone_comercial      int64\n",
            "possui_fone                int64\n",
            "possui_email               int64\n",
            "qt_pessoas_residencia    float64\n",
            "mau                         bool\n",
            "dtype: object\n"
          ]
        }
      ]
    },
    {
      "cell_type": "code",
      "source": [
        "df.isna().sum()"
      ],
      "metadata": {
        "colab": {
          "base_uri": "https://localhost:8080/"
        },
        "id": "YRyDg_Hh1fPj",
        "outputId": "be37cae5-1878-4e14-987f-a403a9f9b5d0"
      },
      "execution_count": 34,
      "outputs": [
        {
          "output_type": "execute_result",
          "data": {
            "text/plain": [
              "sexo                     0\n",
              "posse_de_veiculo         0\n",
              "posse_de_imovel          0\n",
              "qtd_filhos               0\n",
              "tipo_renda               0\n",
              "educacao                 0\n",
              "estado_civil             0\n",
              "tipo_residencia          0\n",
              "idade                    0\n",
              "tempo_emprego            0\n",
              "possui_celular           0\n",
              "possui_fone_comercial    0\n",
              "possui_fone              0\n",
              "possui_email             0\n",
              "qt_pessoas_residencia    0\n",
              "mau                      0\n",
              "dtype: int64"
            ]
          },
          "metadata": {},
          "execution_count": 34
        }
      ]
    },
    {
      "cell_type": "code",
      "source": [
        "print(df['mau'].value_counts())"
      ],
      "metadata": {
        "colab": {
          "base_uri": "https://localhost:8080/"
        },
        "id": "jEQuNW5D1pza",
        "outputId": "014f731b-d368-4328-8517-cebaec9afcba"
      },
      "execution_count": 35,
      "outputs": [
        {
          "output_type": "stream",
          "name": "stdout",
          "text": [
            "False    16260\n",
            "True       390\n",
            "Name: mau, dtype: int64\n"
          ]
        }
      ]
    },
    {
      "cell_type": "markdown",
      "metadata": {
        "id": "LD9YF8Ze1O9U"
      },
      "source": [
        "#### 2) Vamos montar um metadados\n",
        "\n",
        "1. Crie um dataframe com os nomes de cada variável e o tipo de dados de cada variável.\n",
        "2. Adicione uma coluna nesse *dataframe* chamada \"qtd_categorias\" e coloque nela o número de categorias correspondente de cada variável. \n",
        "    Dica: \n",
        "        1. inicie uma lista vazia\n",
        "        2. faça um for ao longo dos nomes das variáveis, \n",
        "        3. conte o número de categorias dessa variável \n",
        "        4. acumule essa informação de 3. na lista que você criou em 1. \n",
        "        5. No final, essa lista pode ser atribuída à nossa variável.\n",
        "3. Crie variáveis dummy para as variáveis necessárias (i.e. aquelas que são qualitativas e não estão armazenadas como {0, 1} ou {True, False}."
      ]
    },
    {
      "cell_type": "code",
      "source": [
        "variaveis = ['sexo', 'posse_de_veiculo', 'posse_de_imovel', 'qtd_filhos',\n",
        "             'tipo_renda', 'educacao', 'estado_civil', 'tipo_residencia',\n",
        "             'idade', 'tempo_emprego', 'possui_celular', 'possui_fone_comercial',\n",
        "             'possui_fone', 'possui_email', 'qt_pessoas_residencia', 'mau']\n",
        "\n",
        "tipos_dados = [type(object).__name__, type(object).__name__, type(object).__name__,\n",
        "               type(int).__name__, type(object).__name__, type(object).__name__,\n",
        "               type(object).__name__, type(object).__name__, type(float).__name__,\n",
        "               type(float).__name__, type(int).__name__, type(int).__name__,\n",
        "               type(int).__name__, type(int).__name__, type(float).__name__, type(bool).__name__]\n",
        "\n",
        "qtd_categorias = []\n",
        "\n",
        " #Logica para contar o numero de categorias da variavel\n",
        "def contar_categorias(variavel):\n",
        "    return len(df[variavel].unique())"
      ],
      "metadata": {
        "id": "wIUqFmoTmKuH"
      },
      "execution_count": 36,
      "outputs": []
    },
    {
      "cell_type": "code",
      "source": [
        "for variavel in variaveis:\n",
        "  qtd_categorias.append(contar_categorias(variavel))"
      ],
      "metadata": {
        "id": "AkRNJek7meCf"
      },
      "execution_count": 37,
      "outputs": []
    },
    {
      "cell_type": "code",
      "source": [
        "dados = {'variavel': variaveis, 'tipo': tipos_dados, 'qtd_categorias': qtd_categorias}\n",
        "\n",
        "df_metadados = pd.DataFrame(dados)"
      ],
      "metadata": {
        "id": "H-Nwf9RHpGp2"
      },
      "execution_count": 38,
      "outputs": []
    },
    {
      "cell_type": "code",
      "source": [
        "qtd_categorias"
      ],
      "metadata": {
        "colab": {
          "base_uri": "https://localhost:8080/"
        },
        "id": "R3gfiyJEpIl-",
        "outputId": "a149f008-1abb-4e7a-9ec0-b9d7de004573"
      },
      "execution_count": 21,
      "outputs": [
        {
          "output_type": "execute_result",
          "data": {
            "text/plain": [
              "[2, 2, 2, 8, 5, 5, 5, 6, 5298, 3005, 1, 2, 2, 2, 9, 2]"
            ]
          },
          "metadata": {},
          "execution_count": 21
        }
      ]
    },
    {
      "cell_type": "code",
      "source": [
        "#Unindo os dataframes de tipos de dados e quantidade de categorias\n",
        "df_metadados = pd.merge(tipos_dados, qtd_categorias, on='index')"
      ],
      "metadata": {
        "id": "OZX_LeA2pTjC"
      },
      "execution_count": null,
      "outputs": []
    },
    {
      "cell_type": "code",
      "source": [
        "variaveis_qualitativas = ['sexo','posse_de_veiculo','posse_de_imovel','tipo_renda', 'educacao', 'estado_civil', 'tipo_residencia']\n",
        "df_dummies = pd.get_dummies(df[variaveis_qualitativas], drop_first=True)\n",
        "df_dummies.head(1)"
      ],
      "metadata": {
        "colab": {
          "base_uri": "https://localhost:8080/",
          "height": 179
        },
        "id": "5IlCFiKkqjA7",
        "outputId": "3f814711-2f78-49e9-9fd9-42c58aee6a85"
      },
      "execution_count": 99,
      "outputs": [
        {
          "output_type": "execute_result",
          "data": {
            "text/plain": [
              "   sexo_M  posse_de_veiculo_Y  posse_de_imovel_Y  tipo_renda_Pensioner  \\\n",
              "0       1                   1                  1                     0   \n",
              "\n",
              "   tipo_renda_State servant  tipo_renda_Student  tipo_renda_Working  \\\n",
              "0                         0                   0                   1   \n",
              "\n",
              "   educacao_Higher education  educacao_Incomplete higher  \\\n",
              "0                          0                           0   \n",
              "\n",
              "   educacao_Lower secondary  educacao_Secondary / secondary special  \\\n",
              "0                         0                                       1   \n",
              "\n",
              "   estado_civil_Married  estado_civil_Separated  \\\n",
              "0                     1                       0   \n",
              "\n",
              "   estado_civil_Single / not married  estado_civil_Widow  \\\n",
              "0                                  0                   0   \n",
              "\n",
              "   tipo_residencia_House / apartment  tipo_residencia_Municipal apartment  \\\n",
              "0                                  1                                    0   \n",
              "\n",
              "   tipo_residencia_Office apartment  tipo_residencia_Rented apartment  \\\n",
              "0                                 0                                 0   \n",
              "\n",
              "   tipo_residencia_With parents  \n",
              "0                             0  "
            ],
            "text/html": [
              "\n",
              "  <div id=\"df-5073abca-3c16-4e74-8c07-71a67ab5f815\">\n",
              "    <div class=\"colab-df-container\">\n",
              "      <div>\n",
              "<style scoped>\n",
              "    .dataframe tbody tr th:only-of-type {\n",
              "        vertical-align: middle;\n",
              "    }\n",
              "\n",
              "    .dataframe tbody tr th {\n",
              "        vertical-align: top;\n",
              "    }\n",
              "\n",
              "    .dataframe thead th {\n",
              "        text-align: right;\n",
              "    }\n",
              "</style>\n",
              "<table border=\"1\" class=\"dataframe\">\n",
              "  <thead>\n",
              "    <tr style=\"text-align: right;\">\n",
              "      <th></th>\n",
              "      <th>sexo_M</th>\n",
              "      <th>posse_de_veiculo_Y</th>\n",
              "      <th>posse_de_imovel_Y</th>\n",
              "      <th>tipo_renda_Pensioner</th>\n",
              "      <th>tipo_renda_State servant</th>\n",
              "      <th>tipo_renda_Student</th>\n",
              "      <th>tipo_renda_Working</th>\n",
              "      <th>educacao_Higher education</th>\n",
              "      <th>educacao_Incomplete higher</th>\n",
              "      <th>educacao_Lower secondary</th>\n",
              "      <th>educacao_Secondary / secondary special</th>\n",
              "      <th>estado_civil_Married</th>\n",
              "      <th>estado_civil_Separated</th>\n",
              "      <th>estado_civil_Single / not married</th>\n",
              "      <th>estado_civil_Widow</th>\n",
              "      <th>tipo_residencia_House / apartment</th>\n",
              "      <th>tipo_residencia_Municipal apartment</th>\n",
              "      <th>tipo_residencia_Office apartment</th>\n",
              "      <th>tipo_residencia_Rented apartment</th>\n",
              "      <th>tipo_residencia_With parents</th>\n",
              "    </tr>\n",
              "  </thead>\n",
              "  <tbody>\n",
              "    <tr>\n",
              "      <th>0</th>\n",
              "      <td>1</td>\n",
              "      <td>1</td>\n",
              "      <td>1</td>\n",
              "      <td>0</td>\n",
              "      <td>0</td>\n",
              "      <td>0</td>\n",
              "      <td>1</td>\n",
              "      <td>0</td>\n",
              "      <td>0</td>\n",
              "      <td>0</td>\n",
              "      <td>1</td>\n",
              "      <td>1</td>\n",
              "      <td>0</td>\n",
              "      <td>0</td>\n",
              "      <td>0</td>\n",
              "      <td>1</td>\n",
              "      <td>0</td>\n",
              "      <td>0</td>\n",
              "      <td>0</td>\n",
              "      <td>0</td>\n",
              "    </tr>\n",
              "  </tbody>\n",
              "</table>\n",
              "</div>\n",
              "      <button class=\"colab-df-convert\" onclick=\"convertToInteractive('df-5073abca-3c16-4e74-8c07-71a67ab5f815')\"\n",
              "              title=\"Convert this dataframe to an interactive table.\"\n",
              "              style=\"display:none;\">\n",
              "        \n",
              "  <svg xmlns=\"http://www.w3.org/2000/svg\" height=\"24px\"viewBox=\"0 0 24 24\"\n",
              "       width=\"24px\">\n",
              "    <path d=\"M0 0h24v24H0V0z\" fill=\"none\"/>\n",
              "    <path d=\"M18.56 5.44l.94 2.06.94-2.06 2.06-.94-2.06-.94-.94-2.06-.94 2.06-2.06.94zm-11 1L8.5 8.5l.94-2.06 2.06-.94-2.06-.94L8.5 2.5l-.94 2.06-2.06.94zm10 10l.94 2.06.94-2.06 2.06-.94-2.06-.94-.94-2.06-.94 2.06-2.06.94z\"/><path d=\"M17.41 7.96l-1.37-1.37c-.4-.4-.92-.59-1.43-.59-.52 0-1.04.2-1.43.59L10.3 9.45l-7.72 7.72c-.78.78-.78 2.05 0 2.83L4 21.41c.39.39.9.59 1.41.59.51 0 1.02-.2 1.41-.59l7.78-7.78 2.81-2.81c.8-.78.8-2.07 0-2.86zM5.41 20L4 18.59l7.72-7.72 1.47 1.35L5.41 20z\"/>\n",
              "  </svg>\n",
              "      </button>\n",
              "      \n",
              "  <style>\n",
              "    .colab-df-container {\n",
              "      display:flex;\n",
              "      flex-wrap:wrap;\n",
              "      gap: 12px;\n",
              "    }\n",
              "\n",
              "    .colab-df-convert {\n",
              "      background-color: #E8F0FE;\n",
              "      border: none;\n",
              "      border-radius: 50%;\n",
              "      cursor: pointer;\n",
              "      display: none;\n",
              "      fill: #1967D2;\n",
              "      height: 32px;\n",
              "      padding: 0 0 0 0;\n",
              "      width: 32px;\n",
              "    }\n",
              "\n",
              "    .colab-df-convert:hover {\n",
              "      background-color: #E2EBFA;\n",
              "      box-shadow: 0px 1px 2px rgba(60, 64, 67, 0.3), 0px 1px 3px 1px rgba(60, 64, 67, 0.15);\n",
              "      fill: #174EA6;\n",
              "    }\n",
              "\n",
              "    [theme=dark] .colab-df-convert {\n",
              "      background-color: #3B4455;\n",
              "      fill: #D2E3FC;\n",
              "    }\n",
              "\n",
              "    [theme=dark] .colab-df-convert:hover {\n",
              "      background-color: #434B5C;\n",
              "      box-shadow: 0px 1px 3px 1px rgba(0, 0, 0, 0.15);\n",
              "      filter: drop-shadow(0px 1px 2px rgba(0, 0, 0, 0.3));\n",
              "      fill: #FFFFFF;\n",
              "    }\n",
              "  </style>\n",
              "\n",
              "      <script>\n",
              "        const buttonEl =\n",
              "          document.querySelector('#df-5073abca-3c16-4e74-8c07-71a67ab5f815 button.colab-df-convert');\n",
              "        buttonEl.style.display =\n",
              "          google.colab.kernel.accessAllowed ? 'block' : 'none';\n",
              "\n",
              "        async function convertToInteractive(key) {\n",
              "          const element = document.querySelector('#df-5073abca-3c16-4e74-8c07-71a67ab5f815');\n",
              "          const dataTable =\n",
              "            await google.colab.kernel.invokeFunction('convertToInteractive',\n",
              "                                                     [key], {});\n",
              "          if (!dataTable) return;\n",
              "\n",
              "          const docLinkHtml = 'Like what you see? Visit the ' +\n",
              "            '<a target=\"_blank\" href=https://colab.research.google.com/notebooks/data_table.ipynb>data table notebook</a>'\n",
              "            + ' to learn more about interactive tables.';\n",
              "          element.innerHTML = '';\n",
              "          dataTable['output_type'] = 'display_data';\n",
              "          await google.colab.output.renderOutput(dataTable, element);\n",
              "          const docLink = document.createElement('div');\n",
              "          docLink.innerHTML = docLinkHtml;\n",
              "          element.appendChild(docLink);\n",
              "        }\n",
              "      </script>\n",
              "    </div>\n",
              "  </div>\n",
              "  "
            ]
          },
          "metadata": {},
          "execution_count": 99
        }
      ]
    },
    {
      "cell_type": "code",
      "source": [
        "df_metadados = pd.concat([df_metadados, df_dummies], axis=1)\n"
      ],
      "metadata": {
        "id": "FIMlRE8L8c4m"
      },
      "execution_count": 103,
      "outputs": []
    },
    {
      "cell_type": "markdown",
      "metadata": {
        "id": "HQ7NZ32o1O9V"
      },
      "source": [
        "#### 3) Crie variáveis dummy para as variáveis necessárias (i.e. aquelas que são qualitativas e não estão armazenadas como {0, 1} ou {True, False}. Crie um *dataframe* apenas com as variáveis apropriadas para entrada no scikitlearn - elimine as variáveis tipo *str*, mantendo apenas suas versões *dummy*."
      ]
    },
    {
      "cell_type": "code",
      "execution_count": 105,
      "metadata": {
        "id": "n5jWgcwp1O9V"
      },
      "outputs": [],
      "source": [
        "dummy_data = pd.get_dummies(df, columns=['sexo','posse_de_veiculo','posse_de_imovel','tipo_renda', 'educacao', 'estado_civil', 'tipo_residencia'], drop_first=True)"
      ]
    },
    {
      "cell_type": "code",
      "source": [
        "numeric_data = dummy_data.select_dtypes(include=['number'])\n",
        "numeric_data.columns"
      ],
      "metadata": {
        "colab": {
          "base_uri": "https://localhost:8080/"
        },
        "id": "pfnXUwcJ9SOj",
        "outputId": "dcf35d74-3f09-4666-cdfb-1bac51825d13"
      },
      "execution_count": 112,
      "outputs": [
        {
          "output_type": "execute_result",
          "data": {
            "text/plain": [
              "Index(['qtd_filhos', 'idade', 'tempo_emprego', 'possui_celular',\n",
              "       'possui_fone_comercial', 'possui_fone', 'possui_email',\n",
              "       'qt_pessoas_residencia', 'sexo_M', 'posse_de_veiculo_Y',\n",
              "       'posse_de_imovel_Y', 'tipo_renda_Pensioner', 'tipo_renda_State servant',\n",
              "       'tipo_renda_Student', 'tipo_renda_Working', 'educacao_Higher education',\n",
              "       'educacao_Incomplete higher', 'educacao_Lower secondary',\n",
              "       'educacao_Secondary / secondary special', 'estado_civil_Married',\n",
              "       'estado_civil_Separated', 'estado_civil_Single / not married',\n",
              "       'estado_civil_Widow', 'tipo_residencia_House / apartment',\n",
              "       'tipo_residencia_Municipal apartment',\n",
              "       'tipo_residencia_Office apartment', 'tipo_residencia_Rented apartment',\n",
              "       'tipo_residencia_With parents'],\n",
              "      dtype='object')"
            ]
          },
          "metadata": {},
          "execution_count": 112
        }
      ]
    },
    {
      "cell_type": "markdown",
      "metadata": {
        "id": "RAqDpL191O9W"
      },
      "source": [
        "#### 4) Qual variável é mais poderosa?\n",
        "\n",
        "Considere as variáveis ```possui_email``` e ```posse_de_veiculo```. Faça uma tabela cruzada entre elas e responda qual delas te parece mais poderosa para prever a probabilidade de ```mau = 1```?"
      ]
    },
    {
      "cell_type": "code",
      "source": [
        "tabela_cruzada = pd.crosstab(index=numeric_data['possui_email'], columns=numeric_data['posse_de_veiculo_Y'],)\n",
        "print(tabela_cruzada)\n"
      ],
      "metadata": {
        "colab": {
          "base_uri": "https://localhost:8080/"
        },
        "id": "GNGctAJg_0UC",
        "outputId": "608bcd8f-5af9-48f2-c718-cd7f953b3900"
      },
      "execution_count": 119,
      "outputs": [
        {
          "output_type": "stream",
          "name": "stdout",
          "text": [
            "posse_de_veiculo_Y     0     1\n",
            "possui_email                  \n",
            "0                   9341  5829\n",
            "1                    837   643\n"
          ]
        }
      ]
    },
    {
      "cell_type": "markdown",
      "source": [
        "Na tabela cruzada podemos perceber que a quantidade de pessoas que possuem veiculos mas nao possuem e-mails (5829) é muito maior que as pessoas que possuem e-mails mas nao possuem carros (837). \n",
        "Logo a variavel 'posse_de_veiculo' pode entregar mais informações."
      ],
      "metadata": {
        "id": "u-807EGQA5X-"
      }
    },
    {
      "cell_type": "markdown",
      "metadata": {
        "id": "JWRs8zCF1O9W"
      },
      "source": [
        "#### 5) Salve a base, pois ela será utilizada no final deste módulo."
      ]
    },
    {
      "cell_type": "code",
      "execution_count": 120,
      "metadata": {
        "id": "GToK5Ce81O9W"
      },
      "outputs": [],
      "source": [
        "numeric_data.to_csv('metadados_demo01.csv', index=False)"
      ]
    }
  ],
  "metadata": {
    "kernelspec": {
      "display_name": "Python 3",
      "language": "python",
      "name": "python3"
    },
    "language_info": {
      "codemirror_mode": {
        "name": "ipython",
        "version": 3
      },
      "file_extension": ".py",
      "mimetype": "text/x-python",
      "name": "python",
      "nbconvert_exporter": "python",
      "pygments_lexer": "ipython3",
      "version": "3.8.5"
    },
    "colab": {
      "provenance": []
    }
  },
  "nbformat": 4,
  "nbformat_minor": 0
}