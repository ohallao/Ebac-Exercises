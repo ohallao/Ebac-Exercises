{
  "cells": [
    {
      "cell_type": "markdown",
      "metadata": {
        "id": "t1Rfh-Zsfo0p"
      },
      "source": [
        "![image.png](attachment:image.png)"
      ]
    },
    {
      "cell_type": "markdown",
      "metadata": {
        "id": "mdkBLRnjfo0r"
      },
      "source": [
        "# Árvores II - Tarefa 3"
      ]
    },
    {
      "cell_type": "markdown",
      "metadata": {
        "id": "ErjNEDvZfo0r"
      },
      "source": [
        "### 1. Carregar as bases\n",
        "\n",
        "Vamos utilizar nesta tarefa as bases de reconhecimento de atividade humana através do celular. Carregue novamente as bases salvas na tarefa I."
      ]
    },
    {
      "cell_type": "code",
      "execution_count": 5,
      "metadata": {
        "id": "TEXTq6glfo0r"
      },
      "outputs": [],
      "source": [
        "import pandas as pd\n",
        "import seaborn as sns\n",
        "import matplotlib.pyplot as plt\n",
        "import numpy as np\n",
        "from sklearn.tree import DecisionTreeClassifier\n",
        "from sklearn.model_selection import train_test_split\n",
        "from sklearn.metrics import confusion_matrix, ConfusionMatrixDisplay, classification_report\n",
        "from sklearn.model_selection import GridSearchCV\n",
        "\n",
        "## nao funciona \"from sklearn.metrics import plot_confusion_matrix\""
      ]
    },
    {
      "cell_type": "code",
      "source": [
        "#Carregue a base X_train_combined.csv\n",
        "X_train = pd.read_csv(\"/content/X_train_combined.csv\", index_col=0)\n",
        "#Carregue a base X_test_combined.csv\n",
        "X_test = pd.read_csv(\"/content/X_test_combined.csv\", index_col=0)\n",
        "#Carregue a base y_train.tx\n",
        "y_train = pd.read_csv(\"/content/y_train.txt\", delim_whitespace=True, header=None)\n",
        "#Carregue a base y_test.txt\n",
        "y_test = pd.read_csv(\"/content/y_test.txt\", delim_whitespace=True, header=None)"
      ],
      "metadata": {
        "id": "BGNQ7VdGijIB"
      },
      "execution_count": 6,
      "outputs": []
    },
    {
      "cell_type": "markdown",
      "metadata": {
        "id": "BjEVAezMfo0s"
      },
      "source": [
        "### 2. Calcule os ```ccp_alphas```.\n",
        "\n",
        "Vamos seguir uma lógica bem em linha com o que já estamso acostumados, com as seguintes orientações:\n",
        "\n",
        "- Utilizar treinamento e teste conforme já vieram definidos originalmente\n",
        "- Por pragmatismo, utilizar ```min_samples_leaf=20```\n",
        "- Utilize as mesmas \"3 melhores variáveis\" identificadas no exercício anterior."
      ]
    },
    {
      "cell_type": "code",
      "source": [
        "#árvore com min_samples_leaf=20\n",
        "modelo = DecisionTreeClassifier(min_samples_leaf=20).fit(X_train, y_train)\n",
        "## Obter a importância das top 3 variáveis\n",
        "top3 = np.argpartition(modelo.feature_importances_, -3)[-3:]"
      ],
      "metadata": {
        "id": "AIfXdGQNs4Z6"
      },
      "execution_count": 7,
      "outputs": []
    },
    {
      "cell_type": "code",
      "execution_count": 8,
      "metadata": {
        "colab": {
          "base_uri": "https://localhost:8080/"
        },
        "id": "6QnpnDqDfo0t",
        "outputId": "85a99a11-68cb-4935-feec-f3d5cd97651a"
      },
      "outputs": [
        {
          "output_type": "stream",
          "name": "stdout",
          "text": [
            "CPU times: user 9.04 s, sys: 19.9 ms, total: 9.06 s\n",
            "Wall time: 9.1 s\n"
          ]
        }
      ],
      "source": [
        "%%time\n",
        "## Inicializa um modelo de árvore de decisão para determinar o caminho de poda de complexidade de custo\n",
        "modelo_clf = DecisionTreeClassifier(random_state=101)\n",
        "path = modelo_clf.cost_complexity_pruning_path(X_train.iloc[:, top3], y_train)\n",
        "ccp_alphas, impurities = path.ccp_alphas, path.impurities\n",
        "#Loop sobre os valores de ccp_alpha para treinar os modelos correspondentes\n",
        "models = []\n",
        "for ccp_alpha in ccp_alphas:\n",
        "    modelo = DecisionTreeClassifier(min_samples_leaf=20, ccp_alpha=ccp_alpha, random_state=101).fit(X_train.iloc[:, top3], y_train)\n",
        "    models.append(modelo)"
      ]
    },
    {
      "cell_type": "markdown",
      "metadata": {
        "id": "6tAnnw7Afo0t"
      },
      "source": [
        "### 3. *Grid Search*\n",
        "\n",
        "Vou deixar especificações iniciais mínimas, que visam limitar o tempo de máquina, pois um procedimento desses pode demorar muito tempo dependendo da especificação. Mas conforme você for ficando confortável com o tempo consumido pelo procedimento, pode fazer um algoritmo mais exaustivo, por exemplo, avaliando mais valores de ```ccp_alpha```.\n",
        "\n",
        "- Meça o tempo\n",
        "- Utilize a base de treinamento\n",
        "- Utilize um *cross validation* do tipo *k-fold*, especifique k=10\n",
        "- Você pode ler 1 a cada ```k``` valores para uma melhor varredura utilizando, por exemplo, ```ccp_alpha[::10]```\n",
        "- Não se esqueça de limitar o número de variáveis"
      ]
    },
    {
      "cell_type": "code",
      "source": [
        "#número total de elementos\n",
        "ccp_alphas.size"
      ],
      "metadata": {
        "colab": {
          "base_uri": "https://localhost:8080/"
        },
        "id": "WiFMGxccuKFf",
        "outputId": "359bb7ea-d9ab-4c38-d223-6e6011e0f35e"
      },
      "execution_count": 9,
      "outputs": [
        {
          "output_type": "execute_result",
          "data": {
            "text/plain": [
              "368"
            ]
          },
          "metadata": {},
          "execution_count": 9
        }
      ]
    },
    {
      "cell_type": "code",
      "execution_count": null,
      "metadata": {
        "id": "8mvEyKFyfo0t"
      },
      "outputs": [],
      "source": [
        "%%time\n",
        "#Seleciona os valores únicos de ccp_alpha que são únicos e positivos\n",
        "ccp_alphas = np.unique(ccp_alphas[ccp_alphas>=0])\n",
        "clf = DecisionTreeClassifier(random_state=2360873)\n",
        "grid_parametros = {\"ccp_alpha\": ccp_alphas[::10]} # Seleciona cada 10º valor de ccp_alpha\n",
        "\n",
        "grid = GridSearchCV(estimator = clf, param_grid=grid_parametros,cv=10, verbose=100)\n",
        "grid.fit(X_train.iloc[:, top3], y_train)"
      ]
    },
    {
      "cell_type": "markdown",
      "metadata": {
        "id": "_9T7VOMcfo0t"
      },
      "source": [
        "### 4. Avaliando a árvore\n",
        "\n",
        "- Obtenha a árvore na melhor configuração treinada em toda a base de treino\n",
        "- Calcule a acurácia dessa árvore na base de testes\n",
        "- Visualize a matriz de confusão"
      ]
    },
    {
      "cell_type": "code",
      "execution_count": 29,
      "metadata": {
        "colab": {
          "base_uri": "https://localhost:8080/",
          "height": 295
        },
        "id": "9By8JTFtfo0t",
        "outputId": "36a7e4ff-fc9d-48d1-e7b6-dd8913e42a18"
      },
      "outputs": [
        {
          "output_type": "execute_result",
          "data": {
            "text/plain": [
              "   mean_fit_time  std_fit_time  mean_score_time  std_score_time  \\\n",
              "0       0.041999      0.003731         0.005591        0.000687   \n",
              "1       0.039851      0.002666         0.005379        0.000938   \n",
              "2       0.040836      0.002911         0.004546        0.000373   \n",
              "3       0.038719      0.002167         0.004420        0.000311   \n",
              "4       0.039775      0.002254         0.005117        0.001396   \n",
              "\n",
              "  param_ccp_alpha                                 params  split0_test_score  \\\n",
              "0             0.0                     {'ccp_alpha': 0.0}           0.839674   \n",
              "1        0.000024  {'ccp_alpha': 2.3758669963906535e-05}           0.839674   \n",
              "2        0.000111  {'ccp_alpha': 0.00011116710038064663}           0.839674   \n",
              "3        0.000335   {'ccp_alpha': 0.0003346028291621325}           0.839674   \n",
              "4        0.000483  {'ccp_alpha': 0.00048297802077654304}           0.838315   \n",
              "\n",
              "   split1_test_score  split2_test_score  split3_test_score  split4_test_score  \\\n",
              "0           0.828804           0.888435           0.772789           0.808163   \n",
              "1           0.827446           0.888435           0.772789           0.808163   \n",
              "2           0.827446           0.888435           0.772789           0.808163   \n",
              "3           0.828804           0.889796           0.772789           0.808163   \n",
              "4           0.827446           0.889796           0.772789           0.809524   \n",
              "\n",
              "   split5_test_score  split6_test_score  split7_test_score  split8_test_score  \\\n",
              "0           0.910204           0.897959           0.877551           0.900680   \n",
              "1           0.910204           0.897959           0.877551           0.900680   \n",
              "2           0.910204           0.897959           0.877551           0.900680   \n",
              "3           0.910204           0.897959           0.877551           0.900680   \n",
              "4           0.911565           0.899320           0.877551           0.902041   \n",
              "\n",
              "   split9_test_score  mean_test_score  std_test_score  rank_test_score  \n",
              "0           0.844898         0.856916        0.043064                4  \n",
              "1           0.844898         0.856780        0.043154                5  \n",
              "2           0.844898         0.856780        0.043154                5  \n",
              "3           0.844898         0.857052        0.043165                3  \n",
              "4           0.844898         0.857324        0.043599                2  "
            ],
            "text/html": [
              "\n",
              "  <div id=\"df-6ea566d4-dac7-4f85-9527-5df331062504\" class=\"colab-df-container\">\n",
              "    <div>\n",
              "<style scoped>\n",
              "    .dataframe tbody tr th:only-of-type {\n",
              "        vertical-align: middle;\n",
              "    }\n",
              "\n",
              "    .dataframe tbody tr th {\n",
              "        vertical-align: top;\n",
              "    }\n",
              "\n",
              "    .dataframe thead th {\n",
              "        text-align: right;\n",
              "    }\n",
              "</style>\n",
              "<table border=\"1\" class=\"dataframe\">\n",
              "  <thead>\n",
              "    <tr style=\"text-align: right;\">\n",
              "      <th></th>\n",
              "      <th>mean_fit_time</th>\n",
              "      <th>std_fit_time</th>\n",
              "      <th>mean_score_time</th>\n",
              "      <th>std_score_time</th>\n",
              "      <th>param_ccp_alpha</th>\n",
              "      <th>params</th>\n",
              "      <th>split0_test_score</th>\n",
              "      <th>split1_test_score</th>\n",
              "      <th>split2_test_score</th>\n",
              "      <th>split3_test_score</th>\n",
              "      <th>split4_test_score</th>\n",
              "      <th>split5_test_score</th>\n",
              "      <th>split6_test_score</th>\n",
              "      <th>split7_test_score</th>\n",
              "      <th>split8_test_score</th>\n",
              "      <th>split9_test_score</th>\n",
              "      <th>mean_test_score</th>\n",
              "      <th>std_test_score</th>\n",
              "      <th>rank_test_score</th>\n",
              "    </tr>\n",
              "  </thead>\n",
              "  <tbody>\n",
              "    <tr>\n",
              "      <th>0</th>\n",
              "      <td>0.041999</td>\n",
              "      <td>0.003731</td>\n",
              "      <td>0.005591</td>\n",
              "      <td>0.000687</td>\n",
              "      <td>0.0</td>\n",
              "      <td>{'ccp_alpha': 0.0}</td>\n",
              "      <td>0.839674</td>\n",
              "      <td>0.828804</td>\n",
              "      <td>0.888435</td>\n",
              "      <td>0.772789</td>\n",
              "      <td>0.808163</td>\n",
              "      <td>0.910204</td>\n",
              "      <td>0.897959</td>\n",
              "      <td>0.877551</td>\n",
              "      <td>0.900680</td>\n",
              "      <td>0.844898</td>\n",
              "      <td>0.856916</td>\n",
              "      <td>0.043064</td>\n",
              "      <td>4</td>\n",
              "    </tr>\n",
              "    <tr>\n",
              "      <th>1</th>\n",
              "      <td>0.039851</td>\n",
              "      <td>0.002666</td>\n",
              "      <td>0.005379</td>\n",
              "      <td>0.000938</td>\n",
              "      <td>0.000024</td>\n",
              "      <td>{'ccp_alpha': 2.3758669963906535e-05}</td>\n",
              "      <td>0.839674</td>\n",
              "      <td>0.827446</td>\n",
              "      <td>0.888435</td>\n",
              "      <td>0.772789</td>\n",
              "      <td>0.808163</td>\n",
              "      <td>0.910204</td>\n",
              "      <td>0.897959</td>\n",
              "      <td>0.877551</td>\n",
              "      <td>0.900680</td>\n",
              "      <td>0.844898</td>\n",
              "      <td>0.856780</td>\n",
              "      <td>0.043154</td>\n",
              "      <td>5</td>\n",
              "    </tr>\n",
              "    <tr>\n",
              "      <th>2</th>\n",
              "      <td>0.040836</td>\n",
              "      <td>0.002911</td>\n",
              "      <td>0.004546</td>\n",
              "      <td>0.000373</td>\n",
              "      <td>0.000111</td>\n",
              "      <td>{'ccp_alpha': 0.00011116710038064663}</td>\n",
              "      <td>0.839674</td>\n",
              "      <td>0.827446</td>\n",
              "      <td>0.888435</td>\n",
              "      <td>0.772789</td>\n",
              "      <td>0.808163</td>\n",
              "      <td>0.910204</td>\n",
              "      <td>0.897959</td>\n",
              "      <td>0.877551</td>\n",
              "      <td>0.900680</td>\n",
              "      <td>0.844898</td>\n",
              "      <td>0.856780</td>\n",
              "      <td>0.043154</td>\n",
              "      <td>5</td>\n",
              "    </tr>\n",
              "    <tr>\n",
              "      <th>3</th>\n",
              "      <td>0.038719</td>\n",
              "      <td>0.002167</td>\n",
              "      <td>0.004420</td>\n",
              "      <td>0.000311</td>\n",
              "      <td>0.000335</td>\n",
              "      <td>{'ccp_alpha': 0.0003346028291621325}</td>\n",
              "      <td>0.839674</td>\n",
              "      <td>0.828804</td>\n",
              "      <td>0.889796</td>\n",
              "      <td>0.772789</td>\n",
              "      <td>0.808163</td>\n",
              "      <td>0.910204</td>\n",
              "      <td>0.897959</td>\n",
              "      <td>0.877551</td>\n",
              "      <td>0.900680</td>\n",
              "      <td>0.844898</td>\n",
              "      <td>0.857052</td>\n",
              "      <td>0.043165</td>\n",
              "      <td>3</td>\n",
              "    </tr>\n",
              "    <tr>\n",
              "      <th>4</th>\n",
              "      <td>0.039775</td>\n",
              "      <td>0.002254</td>\n",
              "      <td>0.005117</td>\n",
              "      <td>0.001396</td>\n",
              "      <td>0.000483</td>\n",
              "      <td>{'ccp_alpha': 0.00048297802077654304}</td>\n",
              "      <td>0.838315</td>\n",
              "      <td>0.827446</td>\n",
              "      <td>0.889796</td>\n",
              "      <td>0.772789</td>\n",
              "      <td>0.809524</td>\n",
              "      <td>0.911565</td>\n",
              "      <td>0.899320</td>\n",
              "      <td>0.877551</td>\n",
              "      <td>0.902041</td>\n",
              "      <td>0.844898</td>\n",
              "      <td>0.857324</td>\n",
              "      <td>0.043599</td>\n",
              "      <td>2</td>\n",
              "    </tr>\n",
              "  </tbody>\n",
              "</table>\n",
              "</div>\n",
              "    <div class=\"colab-df-buttons\">\n",
              "\n",
              "  <div class=\"colab-df-container\">\n",
              "    <button class=\"colab-df-convert\" onclick=\"convertToInteractive('df-6ea566d4-dac7-4f85-9527-5df331062504')\"\n",
              "            title=\"Convert this dataframe to an interactive table.\"\n",
              "            style=\"display:none;\">\n",
              "\n",
              "  <svg xmlns=\"http://www.w3.org/2000/svg\" height=\"24px\" viewBox=\"0 -960 960 960\">\n",
              "    <path d=\"M120-120v-720h720v720H120Zm60-500h600v-160H180v160Zm220 220h160v-160H400v160Zm0 220h160v-160H400v160ZM180-400h160v-160H180v160Zm440 0h160v-160H620v160ZM180-180h160v-160H180v160Zm440 0h160v-160H620v160Z\"/>\n",
              "  </svg>\n",
              "    </button>\n",
              "\n",
              "  <style>\n",
              "    .colab-df-container {\n",
              "      display:flex;\n",
              "      gap: 12px;\n",
              "    }\n",
              "\n",
              "    .colab-df-convert {\n",
              "      background-color: #E8F0FE;\n",
              "      border: none;\n",
              "      border-radius: 50%;\n",
              "      cursor: pointer;\n",
              "      display: none;\n",
              "      fill: #1967D2;\n",
              "      height: 32px;\n",
              "      padding: 0 0 0 0;\n",
              "      width: 32px;\n",
              "    }\n",
              "\n",
              "    .colab-df-convert:hover {\n",
              "      background-color: #E2EBFA;\n",
              "      box-shadow: 0px 1px 2px rgba(60, 64, 67, 0.3), 0px 1px 3px 1px rgba(60, 64, 67, 0.15);\n",
              "      fill: #174EA6;\n",
              "    }\n",
              "\n",
              "    .colab-df-buttons div {\n",
              "      margin-bottom: 4px;\n",
              "    }\n",
              "\n",
              "    [theme=dark] .colab-df-convert {\n",
              "      background-color: #3B4455;\n",
              "      fill: #D2E3FC;\n",
              "    }\n",
              "\n",
              "    [theme=dark] .colab-df-convert:hover {\n",
              "      background-color: #434B5C;\n",
              "      box-shadow: 0px 1px 3px 1px rgba(0, 0, 0, 0.15);\n",
              "      filter: drop-shadow(0px 1px 2px rgba(0, 0, 0, 0.3));\n",
              "      fill: #FFFFFF;\n",
              "    }\n",
              "  </style>\n",
              "\n",
              "    <script>\n",
              "      const buttonEl =\n",
              "        document.querySelector('#df-6ea566d4-dac7-4f85-9527-5df331062504 button.colab-df-convert');\n",
              "      buttonEl.style.display =\n",
              "        google.colab.kernel.accessAllowed ? 'block' : 'none';\n",
              "\n",
              "      async function convertToInteractive(key) {\n",
              "        const element = document.querySelector('#df-6ea566d4-dac7-4f85-9527-5df331062504');\n",
              "        const dataTable =\n",
              "          await google.colab.kernel.invokeFunction('convertToInteractive',\n",
              "                                                    [key], {});\n",
              "        if (!dataTable) return;\n",
              "\n",
              "        const docLinkHtml = 'Like what you see? Visit the ' +\n",
              "          '<a target=\"_blank\" href=https://colab.research.google.com/notebooks/data_table.ipynb>data table notebook</a>'\n",
              "          + ' to learn more about interactive tables.';\n",
              "        element.innerHTML = '';\n",
              "        dataTable['output_type'] = 'display_data';\n",
              "        await google.colab.output.renderOutput(dataTable, element);\n",
              "        const docLink = document.createElement('div');\n",
              "        docLink.innerHTML = docLinkHtml;\n",
              "        element.appendChild(docLink);\n",
              "      }\n",
              "    </script>\n",
              "  </div>\n",
              "\n",
              "\n",
              "<div id=\"df-3d3ed89a-b5aa-4db2-a942-551a32922648\">\n",
              "  <button class=\"colab-df-quickchart\" onclick=\"quickchart('df-3d3ed89a-b5aa-4db2-a942-551a32922648')\"\n",
              "            title=\"Suggest charts\"\n",
              "            style=\"display:none;\">\n",
              "\n",
              "<svg xmlns=\"http://www.w3.org/2000/svg\" height=\"24px\"viewBox=\"0 0 24 24\"\n",
              "     width=\"24px\">\n",
              "    <g>\n",
              "        <path d=\"M19 3H5c-1.1 0-2 .9-2 2v14c0 1.1.9 2 2 2h14c1.1 0 2-.9 2-2V5c0-1.1-.9-2-2-2zM9 17H7v-7h2v7zm4 0h-2V7h2v10zm4 0h-2v-4h2v4z\"/>\n",
              "    </g>\n",
              "</svg>\n",
              "  </button>\n",
              "\n",
              "<style>\n",
              "  .colab-df-quickchart {\n",
              "      --bg-color: #E8F0FE;\n",
              "      --fill-color: #1967D2;\n",
              "      --hover-bg-color: #E2EBFA;\n",
              "      --hover-fill-color: #174EA6;\n",
              "      --disabled-fill-color: #AAA;\n",
              "      --disabled-bg-color: #DDD;\n",
              "  }\n",
              "\n",
              "  [theme=dark] .colab-df-quickchart {\n",
              "      --bg-color: #3B4455;\n",
              "      --fill-color: #D2E3FC;\n",
              "      --hover-bg-color: #434B5C;\n",
              "      --hover-fill-color: #FFFFFF;\n",
              "      --disabled-bg-color: #3B4455;\n",
              "      --disabled-fill-color: #666;\n",
              "  }\n",
              "\n",
              "  .colab-df-quickchart {\n",
              "    background-color: var(--bg-color);\n",
              "    border: none;\n",
              "    border-radius: 50%;\n",
              "    cursor: pointer;\n",
              "    display: none;\n",
              "    fill: var(--fill-color);\n",
              "    height: 32px;\n",
              "    padding: 0;\n",
              "    width: 32px;\n",
              "  }\n",
              "\n",
              "  .colab-df-quickchart:hover {\n",
              "    background-color: var(--hover-bg-color);\n",
              "    box-shadow: 0 1px 2px rgba(60, 64, 67, 0.3), 0 1px 3px 1px rgba(60, 64, 67, 0.15);\n",
              "    fill: var(--button-hover-fill-color);\n",
              "  }\n",
              "\n",
              "  .colab-df-quickchart-complete:disabled,\n",
              "  .colab-df-quickchart-complete:disabled:hover {\n",
              "    background-color: var(--disabled-bg-color);\n",
              "    fill: var(--disabled-fill-color);\n",
              "    box-shadow: none;\n",
              "  }\n",
              "\n",
              "  .colab-df-spinner {\n",
              "    border: 2px solid var(--fill-color);\n",
              "    border-color: transparent;\n",
              "    border-bottom-color: var(--fill-color);\n",
              "    animation:\n",
              "      spin 1s steps(1) infinite;\n",
              "  }\n",
              "\n",
              "  @keyframes spin {\n",
              "    0% {\n",
              "      border-color: transparent;\n",
              "      border-bottom-color: var(--fill-color);\n",
              "      border-left-color: var(--fill-color);\n",
              "    }\n",
              "    20% {\n",
              "      border-color: transparent;\n",
              "      border-left-color: var(--fill-color);\n",
              "      border-top-color: var(--fill-color);\n",
              "    }\n",
              "    30% {\n",
              "      border-color: transparent;\n",
              "      border-left-color: var(--fill-color);\n",
              "      border-top-color: var(--fill-color);\n",
              "      border-right-color: var(--fill-color);\n",
              "    }\n",
              "    40% {\n",
              "      border-color: transparent;\n",
              "      border-right-color: var(--fill-color);\n",
              "      border-top-color: var(--fill-color);\n",
              "    }\n",
              "    60% {\n",
              "      border-color: transparent;\n",
              "      border-right-color: var(--fill-color);\n",
              "    }\n",
              "    80% {\n",
              "      border-color: transparent;\n",
              "      border-right-color: var(--fill-color);\n",
              "      border-bottom-color: var(--fill-color);\n",
              "    }\n",
              "    90% {\n",
              "      border-color: transparent;\n",
              "      border-bottom-color: var(--fill-color);\n",
              "    }\n",
              "  }\n",
              "</style>\n",
              "\n",
              "  <script>\n",
              "    async function quickchart(key) {\n",
              "      const quickchartButtonEl =\n",
              "        document.querySelector('#' + key + ' button');\n",
              "      quickchartButtonEl.disabled = true;  // To prevent multiple clicks.\n",
              "      quickchartButtonEl.classList.add('colab-df-spinner');\n",
              "      try {\n",
              "        const charts = await google.colab.kernel.invokeFunction(\n",
              "            'suggestCharts', [key], {});\n",
              "      } catch (error) {\n",
              "        console.error('Error during call to suggestCharts:', error);\n",
              "      }\n",
              "      quickchartButtonEl.classList.remove('colab-df-spinner');\n",
              "      quickchartButtonEl.classList.add('colab-df-quickchart-complete');\n",
              "    }\n",
              "    (() => {\n",
              "      let quickchartButtonEl =\n",
              "        document.querySelector('#df-3d3ed89a-b5aa-4db2-a942-551a32922648 button');\n",
              "      quickchartButtonEl.style.display =\n",
              "        google.colab.kernel.accessAllowed ? 'block' : 'none';\n",
              "    })();\n",
              "  </script>\n",
              "</div>\n",
              "\n",
              "    </div>\n",
              "  </div>\n"
            ],
            "application/vnd.google.colaboratory.intrinsic+json": {
              "type": "dataframe",
              "variable_name": "resultados",
              "summary": "{\n  \"name\": \"resultados\",\n  \"rows\": 9,\n  \"fields\": [\n    {\n      \"column\": \"mean_fit_time\",\n      \"properties\": {\n        \"dtype\": \"number\",\n        \"std\": 0.0071675855124267935,\n        \"min\": 0.03871941566467285,\n        \"max\": 0.054807066917419434,\n        \"num_unique_values\": 9,\n        \"samples\": [\n          0.05282130241394043,\n          0.039850711822509766,\n          0.05431611537933349\n        ],\n        \"semantic_type\": \"\",\n        \"description\": \"\"\n      }\n    },\n    {\n      \"column\": \"std_fit_time\",\n      \"properties\": {\n        \"dtype\": \"number\",\n        \"std\": 0.0007761522886304968,\n        \"min\": 0.002167086502416154,\n        \"max\": 0.004511803731248159,\n        \"num_unique_values\": 9,\n        \"samples\": [\n          0.0027034010941710523,\n          0.002665662401283692,\n          0.004511803731248159\n        ],\n        \"semantic_type\": \"\",\n        \"description\": \"\"\n      }\n    },\n    {\n      \"column\": \"mean_score_time\",\n      \"properties\": {\n        \"dtype\": \"number\",\n        \"std\": 0.0010666351813507534,\n        \"min\": 0.004420065879821777,\n        \"max\": 0.007556939125061035,\n        \"num_unique_values\": 9,\n        \"samples\": [\n          0.006427240371704101,\n          0.005379152297973633,\n          0.006423521041870117\n        ],\n        \"semantic_type\": \"\",\n        \"description\": \"\"\n      }\n    },\n    {\n      \"column\": \"std_score_time\",\n      \"properties\": {\n        \"dtype\": \"number\",\n        \"std\": 0.00039901170842738864,\n        \"min\": 0.00031107760293281586,\n        \"max\": 0.001396302275960473,\n        \"num_unique_values\": 9,\n        \"samples\": [\n          0.0004525988475242235,\n          0.0009378715184666798,\n          0.0005201012727357846\n        ],\n        \"semantic_type\": \"\",\n        \"description\": \"\"\n      }\n    },\n    {\n      \"column\": \"param_ccp_alpha\",\n      \"properties\": {\n        \"dtype\": \"date\",\n        \"min\": 0.0,\n        \"max\": 0.00955046040465022,\n        \"num_unique_values\": 9,\n        \"samples\": [\n          0.002875280345527772,\n          2.3758669963906535e-05,\n          0.0008805719106363429\n        ],\n        \"semantic_type\": \"\",\n        \"description\": \"\"\n      }\n    },\n    {\n      \"column\": \"params\",\n      \"properties\": {\n        \"dtype\": \"object\",\n        \"semantic_type\": \"\",\n        \"description\": \"\"\n      }\n    },\n    {\n      \"column\": \"split0_test_score\",\n      \"properties\": {\n        \"dtype\": \"number\",\n        \"std\": 0.01015493085361353,\n        \"min\": 0.8260869565217391,\n        \"max\": 0.8627717391304348,\n        \"num_unique_values\": 6,\n        \"samples\": [\n          0.8396739130434783,\n          0.8383152173913043,\n          0.8260869565217391\n        ],\n        \"semantic_type\": \"\",\n        \"description\": \"\"\n      }\n    },\n    {\n      \"column\": \"split1_test_score\",\n      \"properties\": {\n        \"dtype\": \"number\",\n        \"std\": 0.010222874402441762,\n        \"min\": 0.813858695652174,\n        \"max\": 0.845108695652174,\n        \"num_unique_values\": 6,\n        \"samples\": [\n          0.8288043478260869,\n          0.8274456521739131,\n          0.84375\n        ],\n        \"semantic_type\": \"\",\n        \"description\": \"\"\n      }\n    },\n    {\n      \"column\": \"split2_test_score\",\n      \"properties\": {\n        \"dtype\": \"number\",\n        \"std\": 0.010452998250898958,\n        \"min\": 0.8884353741496599,\n        \"max\": 0.9129251700680272,\n        \"num_unique_values\": 6,\n        \"samples\": [\n          0.8884353741496599,\n          0.889795918367347,\n          0.9047619047619048\n        ],\n        \"semantic_type\": \"\",\n        \"description\": \"\"\n      }\n    },\n    {\n      \"column\": \"split3_test_score\",\n      \"properties\": {\n        \"dtype\": \"number\",\n        \"std\": 0.013554325745014488,\n        \"min\": 0.7319727891156462,\n        \"max\": 0.7727891156462585,\n        \"num_unique_values\": 5,\n        \"samples\": [\n          0.763265306122449,\n          0.7319727891156462,\n          0.7591836734693878\n        ],\n        \"semantic_type\": \"\",\n        \"description\": \"\"\n      }\n    },\n    {\n      \"column\": \"split4_test_score\",\n      \"properties\": {\n        \"dtype\": \"number\",\n        \"std\": 0.013697721823618114,\n        \"min\": 0.7836734693877551,\n        \"max\": 0.8326530612244898,\n        \"num_unique_values\": 6,\n        \"samples\": [\n          0.8081632653061225,\n          0.8095238095238095,\n          0.8326530612244898\n        ],\n        \"semantic_type\": \"\",\n        \"description\": \"\"\n      }\n    },\n    {\n      \"column\": \"split5_test_score\",\n      \"properties\": {\n        \"dtype\": \"number\",\n        \"std\": 0.01136278441393883,\n        \"min\": 0.8761904761904762,\n        \"max\": 0.9115646258503401,\n        \"num_unique_values\": 6,\n        \"samples\": [\n          0.9102040816326531,\n          0.9115646258503401,\n          0.8761904761904762\n        ],\n        \"semantic_type\": \"\",\n        \"description\": \"\"\n      }\n    },\n    {\n      \"column\": \"split6_test_score\",\n      \"properties\": {\n        \"dtype\": \"number\",\n        \"std\": 0.015060172260608,\n        \"min\": 0.8979591836734694,\n        \"max\": 0.9442176870748299,\n        \"num_unique_values\": 6,\n        \"samples\": [\n          0.8979591836734694,\n          0.8993197278911564,\n          0.9006802721088435\n        ],\n        \"semantic_type\": \"\",\n        \"description\": \"\"\n      }\n    },\n    {\n      \"column\": \"split7_test_score\",\n      \"properties\": {\n        \"dtype\": \"number\",\n        \"std\": 0.008811500783548934,\n        \"min\": 0.8517006802721089,\n        \"max\": 0.8775510204081632,\n        \"num_unique_values\": 4,\n        \"samples\": [\n          0.8666666666666667,\n          0.8748299319727891,\n          0.8775510204081632\n        ],\n        \"semantic_type\": \"\",\n        \"description\": \"\"\n      }\n    },\n    {\n      \"column\": \"split8_test_score\",\n      \"properties\": {\n        \"dtype\": \"number\",\n        \"std\": 0.004308390022675715,\n        \"min\": 0.8884353741496599,\n        \"max\": 0.9020408163265307,\n        \"num_unique_values\": 5,\n        \"samples\": [\n          0.9020408163265307,\n          0.8884353741496599,\n          0.8952380952380953\n        ],\n        \"semantic_type\": \"\",\n        \"description\": \"\"\n      }\n    },\n    {\n      \"column\": \"split9_test_score\",\n      \"properties\": {\n        \"dtype\": \"number\",\n        \"std\": 0.020234839705888092,\n        \"min\": 0.7986394557823129,\n        \"max\": 0.8598639455782313,\n        \"num_unique_values\": 5,\n        \"samples\": [\n          0.8489795918367347,\n          0.7986394557823129,\n          0.8598639455782313\n        ],\n        \"semantic_type\": \"\",\n        \"description\": \"\"\n      }\n    },\n    {\n      \"column\": \"mean_test_score\",\n      \"properties\": {\n        \"dtype\": \"number\",\n        \"std\": 0.00318524202210591,\n        \"min\": 0.8478000221827863,\n        \"max\": 0.8589513087843834,\n        \"num_unique_values\": 8,\n        \"samples\": [\n          0.8567799837326235,\n          0.8565075051759834,\n          0.8569158532978409\n        ],\n        \"semantic_type\": \"\",\n        \"description\": \"\"\n      }\n    },\n    {\n      \"column\": \"std_test_score\",\n      \"properties\": {\n        \"dtype\": \"number\",\n        \"std\": 0.004256914919095753,\n        \"min\": 0.04306378845851966,\n        \"max\": 0.05384332823843551,\n        \"num_unique_values\": 8,\n        \"samples\": [\n          0.043154316322947445,\n          0.05086530579086871,\n          0.04306378845851966\n        ],\n        \"semantic_type\": \"\",\n        \"description\": \"\"\n      }\n    },\n    {\n      \"column\": \"rank_test_score\",\n      \"properties\": {\n        \"dtype\": \"int32\",\n        \"num_unique_values\": 8,\n        \"samples\": [\n          5,\n          7,\n          4\n        ],\n        \"semantic_type\": \"\",\n        \"description\": \"\"\n      }\n    }\n  ]\n}"
            }
          },
          "metadata": {},
          "execution_count": 29
        }
      ],
      "source": [
        "resultados = pd.DataFrame(grid.cv_results_)\n",
        "resultados.head()"
      ]
    },
    {
      "cell_type": "code",
      "source": [
        "#Achar o melhor valor encontrado para o hiperparâmetro ccp_alpha\n",
        "melhor_ccp = grid.best_params_['ccp_alpha']\n",
        "melhor_modelo = DecisionTreeClassifier(min_samples_leaf=20, ccp_alpha=melhor_ccp, random_state=101)\n",
        "melhor_modelo.fit(X_test.iloc[:, top3], y_test)"
      ],
      "metadata": {
        "colab": {
          "base_uri": "https://localhost:8080/",
          "height": 92
        },
        "id": "fJPUwybH3s3W",
        "outputId": "da7c7f9f-75c0-4907-a145-ac81462a4b28"
      },
      "execution_count": 12,
      "outputs": [
        {
          "output_type": "execute_result",
          "data": {
            "text/plain": [
              "DecisionTreeClassifier(ccp_alpha=0.0036062124242923956, min_samples_leaf=20,\n",
              "                       random_state=101)"
            ],
            "text/html": [
              "<style>#sk-container-id-2 {color: black;background-color: white;}#sk-container-id-2 pre{padding: 0;}#sk-container-id-2 div.sk-toggleable {background-color: white;}#sk-container-id-2 label.sk-toggleable__label {cursor: pointer;display: block;width: 100%;margin-bottom: 0;padding: 0.3em;box-sizing: border-box;text-align: center;}#sk-container-id-2 label.sk-toggleable__label-arrow:before {content: \"▸\";float: left;margin-right: 0.25em;color: #696969;}#sk-container-id-2 label.sk-toggleable__label-arrow:hover:before {color: black;}#sk-container-id-2 div.sk-estimator:hover label.sk-toggleable__label-arrow:before {color: black;}#sk-container-id-2 div.sk-toggleable__content {max-height: 0;max-width: 0;overflow: hidden;text-align: left;background-color: #f0f8ff;}#sk-container-id-2 div.sk-toggleable__content pre {margin: 0.2em;color: black;border-radius: 0.25em;background-color: #f0f8ff;}#sk-container-id-2 input.sk-toggleable__control:checked~div.sk-toggleable__content {max-height: 200px;max-width: 100%;overflow: auto;}#sk-container-id-2 input.sk-toggleable__control:checked~label.sk-toggleable__label-arrow:before {content: \"▾\";}#sk-container-id-2 div.sk-estimator input.sk-toggleable__control:checked~label.sk-toggleable__label {background-color: #d4ebff;}#sk-container-id-2 div.sk-label input.sk-toggleable__control:checked~label.sk-toggleable__label {background-color: #d4ebff;}#sk-container-id-2 input.sk-hidden--visually {border: 0;clip: rect(1px 1px 1px 1px);clip: rect(1px, 1px, 1px, 1px);height: 1px;margin: -1px;overflow: hidden;padding: 0;position: absolute;width: 1px;}#sk-container-id-2 div.sk-estimator {font-family: monospace;background-color: #f0f8ff;border: 1px dotted black;border-radius: 0.25em;box-sizing: border-box;margin-bottom: 0.5em;}#sk-container-id-2 div.sk-estimator:hover {background-color: #d4ebff;}#sk-container-id-2 div.sk-parallel-item::after {content: \"\";width: 100%;border-bottom: 1px solid gray;flex-grow: 1;}#sk-container-id-2 div.sk-label:hover label.sk-toggleable__label {background-color: #d4ebff;}#sk-container-id-2 div.sk-serial::before {content: \"\";position: absolute;border-left: 1px solid gray;box-sizing: border-box;top: 0;bottom: 0;left: 50%;z-index: 0;}#sk-container-id-2 div.sk-serial {display: flex;flex-direction: column;align-items: center;background-color: white;padding-right: 0.2em;padding-left: 0.2em;position: relative;}#sk-container-id-2 div.sk-item {position: relative;z-index: 1;}#sk-container-id-2 div.sk-parallel {display: flex;align-items: stretch;justify-content: center;background-color: white;position: relative;}#sk-container-id-2 div.sk-item::before, #sk-container-id-2 div.sk-parallel-item::before {content: \"\";position: absolute;border-left: 1px solid gray;box-sizing: border-box;top: 0;bottom: 0;left: 50%;z-index: -1;}#sk-container-id-2 div.sk-parallel-item {display: flex;flex-direction: column;z-index: 1;position: relative;background-color: white;}#sk-container-id-2 div.sk-parallel-item:first-child::after {align-self: flex-end;width: 50%;}#sk-container-id-2 div.sk-parallel-item:last-child::after {align-self: flex-start;width: 50%;}#sk-container-id-2 div.sk-parallel-item:only-child::after {width: 0;}#sk-container-id-2 div.sk-dashed-wrapped {border: 1px dashed gray;margin: 0 0.4em 0.5em 0.4em;box-sizing: border-box;padding-bottom: 0.4em;background-color: white;}#sk-container-id-2 div.sk-label label {font-family: monospace;font-weight: bold;display: inline-block;line-height: 1.2em;}#sk-container-id-2 div.sk-label-container {text-align: center;}#sk-container-id-2 div.sk-container {/* jupyter's `normalize.less` sets `[hidden] { display: none; }` but bootstrap.min.css set `[hidden] { display: none !important; }` so we also need the `!important` here to be able to override the default hidden behavior on the sphinx rendered scikit-learn.org. See: https://github.com/scikit-learn/scikit-learn/issues/21755 */display: inline-block !important;position: relative;}#sk-container-id-2 div.sk-text-repr-fallback {display: none;}</style><div id=\"sk-container-id-2\" class=\"sk-top-container\"><div class=\"sk-text-repr-fallback\"><pre>DecisionTreeClassifier(ccp_alpha=0.0036062124242923956, min_samples_leaf=20,\n",
              "                       random_state=101)</pre><b>In a Jupyter environment, please rerun this cell to show the HTML representation or trust the notebook. <br />On GitHub, the HTML representation is unable to render, please try loading this page with nbviewer.org.</b></div><div class=\"sk-container\" hidden><div class=\"sk-item\"><div class=\"sk-estimator sk-toggleable\"><input class=\"sk-toggleable__control sk-hidden--visually\" id=\"sk-estimator-id-4\" type=\"checkbox\" checked><label for=\"sk-estimator-id-4\" class=\"sk-toggleable__label sk-toggleable__label-arrow\">DecisionTreeClassifier</label><div class=\"sk-toggleable__content\"><pre>DecisionTreeClassifier(ccp_alpha=0.0036062124242923956, min_samples_leaf=20,\n",
              "                       random_state=101)</pre></div></div></div></div></div>"
            ]
          },
          "metadata": {},
          "execution_count": 12
        }
      ]
    },
    {
      "cell_type": "code",
      "source": [
        "#calcula a acurácia do modelo usando os dados de teste e a função do modelo\n",
        "acuracia_test = melhor_modelo.score(X_test.iloc[:, top3], y_test)\n",
        "print(f\"Acurácia: {acuracia_test*100:.2f}\")"
      ],
      "metadata": {
        "colab": {
          "base_uri": "https://localhost:8080/"
        },
        "id": "JOHWxqP64XHC",
        "outputId": "c78f8b66-cd56-410f-e430-84e7338bde7b"
      },
      "execution_count": 13,
      "outputs": [
        {
          "output_type": "stream",
          "name": "stdout",
          "text": [
            "Acurácia: 88.67\n"
          ]
        }
      ]
    },
    {
      "cell_type": "code",
      "source": [
        "#Calcular a matriz de confusão entre os rótulos reais e as previsões feitas pelo melhor modelo\n",
        "matrix = confusion_matrix(y_test, melhor_modelo.predict(X_test.iloc[:, top3]))\n",
        "ConfusionMatrixDisplay(matrix).plot()"
      ],
      "metadata": {
        "colab": {
          "base_uri": "https://localhost:8080/",
          "height": 466
        },
        "id": "2kiYU6oo4k7u",
        "outputId": "3753e2e9-eab9-45ad-b996-fcb29e5f54bc"
      },
      "execution_count": 14,
      "outputs": [
        {
          "output_type": "execute_result",
          "data": {
            "text/plain": [
              "<sklearn.metrics._plot.confusion_matrix.ConfusionMatrixDisplay at 0x7b7d396ba1a0>"
            ]
          },
          "metadata": {},
          "execution_count": 14
        },
        {
          "output_type": "display_data",
          "data": {
            "text/plain": [
              "<Figure size 640x480 with 2 Axes>"
            ],
            "image/png": "[encoded data removed]"
          },
          "metadata": {}
        }
      ]
    },
    {
      "cell_type": "markdown",
      "metadata": {
        "id": "02sHyksKfo0t"
      },
      "source": [
        "### 5. Melhorando a árvore\n",
        "\n",
        "A melhor forma de se melhorar um algoritmo é colocando nele novas variáveis que agreguem valor. Podemos usar a força-bruta e ir colocando variáveis aleatoriamente - ou colocar todas e deixar rodando por um bom tempo - ou utilizar uma lógica eficiente e fazer uma seleção de variáveis.\n",
        "\n",
        "- Observe que há classes mais fáceis e mais difíceis de se identificar\n",
        "- Crie uma variável binária para uma das classes de maior erro\n",
        "- Fala uma árvore de classificação bem simples para esta variável:\n",
        "    - utilize ```mean_samples_leaf=20```\n",
        "    - utilize ```max_depth=4```\n",
        "    - coloque todas as variáveis\n",
        "- Observe a importância das variáveis, e selecione as 3 com maior importância\n",
        "- Rode novamente o algoritmo acima com as 3 novas variáveis e avalie a acurácia"
      ]
    },
    {
      "cell_type": "code",
      "execution_count": 18,
      "metadata": {
        "id": "HwP34azIfo0u",
        "colab": {
          "base_uri": "https://localhost:8080/"
        },
        "outputId": "233792bc-7ee7-499a-9fa6-dddecc0c3df1"
      },
      "outputs": [
        {
          "output_type": "stream",
          "name": "stdout",
          "text": [
            "              precision    recall  f1-score   support\n",
            "\n",
            "           1       0.80      0.95      0.87       496\n",
            "           2       0.90      0.84      0.87       471\n",
            "           3       0.84      0.73      0.78       420\n",
            "           4       0.83      0.95      0.89       491\n",
            "           5       0.94      0.83      0.88       532\n",
            "           6       1.00      1.00      1.00       537\n",
            "\n",
            "    accuracy                           0.89      2947\n",
            "   macro avg       0.89      0.88      0.88      2947\n",
            "weighted avg       0.89      0.89      0.89      2947\n",
            "\n"
          ]
        }
      ],
      "source": [
        "#identificar classes mais fáceis e mais difíceis\n",
        "classificacao = classification_report(y_test, melhor_modelo.predict(X_test.iloc[:, top3]))\n",
        "print(classificacao)"
      ]
    },
    {
      "cell_type": "code",
      "source": [
        "#tratando os rótulos de treinamento como binários\n",
        "y_train_bin = y_train.copy()\n",
        "y_train_bin[0] = [1 if x==1 else 0 for x in y_train_bin[0]]\n",
        "y_train_bin.value_counts()"
      ],
      "metadata": {
        "colab": {
          "base_uri": "https://localhost:8080/"
        },
        "id": "xlFRiNDEoMkh",
        "outputId": "00beb2da-9d77-4fa9-d1d1-d8c2b3fc7e06"
      },
      "execution_count": 19,
      "outputs": [
        {
          "output_type": "execute_result",
          "data": {
            "text/plain": [
              "0    6126\n",
              "1    1226\n",
              "dtype: int64"
            ]
          },
          "metadata": {},
          "execution_count": 19
        }
      ]
    },
    {
      "cell_type": "code",
      "source": [
        "#treinando uma arvore de decisao\n",
        "modelo_binario = DecisionTreeClassifier(min_samples_leaf=20, max_depth=4).fit(X_train, y_train_bin)\n",
        "# identificadas 3 características mais importantes no modelo treinado\n",
        "top3_binario = np.argpartition(modelo_binario.feature_importances_, -3)[-3:]\n",
        "top6 = np.unique(np.append(top3, top3_binario))\n",
        "top6"
      ],
      "metadata": {
        "colab": {
          "base_uri": "https://localhost:8080/"
        },
        "id": "QAKrfrkhqcSE",
        "outputId": "00c63f8a-76bc-4755-bf3b-f1d370f6e09c"
      },
      "execution_count": 20,
      "outputs": [
        {
          "output_type": "execute_result",
          "data": {
            "text/plain": [
              "array([ 53,  66, 167, 394, 504, 560])"
            ]
          },
          "metadata": {},
          "execution_count": 20
        }
      ]
    },
    {
      "cell_type": "code",
      "source": [
        "#otimizando hiperparâmetros para encontrar o modelo mais adequado para os dados\n",
        "%%time\n",
        "model = DecisionTreeClassifier(min_samples_leaf=20 ,random_state=101)\n",
        "path = model.cost_complexity_pruning_path(X_train.iloc[:, top6], y_train)\n",
        "ccp_alphas, impurities = path.ccp_alphas, path.impurities\n",
        "\n",
        "ccp_alphas = np.unique(ccp_alphas[ccp_alphas >= 0])\n",
        "model = DecisionTreeClassifier(min_samples_leaf=20)\n",
        "params = {\"ccp_alpha\": ccp_alphas[::10]}\n",
        "grid = GridSearchCV(model, param_grid=params, cv=10, verbose=100)\n",
        "grid.fit(X_train.iloc[:, top6], y_train)"
      ],
      "metadata": {
        "colab": {
          "base_uri": "https://localhost:8080/",
          "height": 1000
        },
        "id": "Z-Cl-aM2vBDE",
        "outputId": "29505072-c79b-461d-e02d-ea68135b13e3"
      },
      "execution_count": 23,
      "outputs": [
        {
          "output_type": "stream",
          "name": "stdout",
          "text": [
            "Fitting 10 folds for each of 9 candidates, totalling 90 fits\n",
            "[CV 1/10; 1/9] START ccp_alpha=0.0..............................................\n",
            "[CV 1/10; 1/9] END ...............ccp_alpha=0.0;, score=0.840 total time=   0.0s\n",
            "[CV 2/10; 1/9] START ccp_alpha=0.0..............................................\n",
            "[CV 2/10; 1/9] END ...............ccp_alpha=0.0;, score=0.829 total time=   0.0s\n",
            "[CV 3/10; 1/9] START ccp_alpha=0.0..............................................\n",
            "[CV 3/10; 1/9] END ...............ccp_alpha=0.0;, score=0.888 total time=   0.0s\n",
            "[CV 4/10; 1/9] START ccp_alpha=0.0..............................................\n",
            "[CV 4/10; 1/9] END ...............ccp_alpha=0.0;, score=0.773 total time=   0.0s\n",
            "[CV 5/10; 1/9] START ccp_alpha=0.0..............................................\n",
            "[CV 5/10; 1/9] END ...............ccp_alpha=0.0;, score=0.808 total time=   0.1s\n",
            "[CV 6/10; 1/9] START ccp_alpha=0.0..............................................\n",
            "[CV 6/10; 1/9] END ...............ccp_alpha=0.0;, score=0.910 total time=   0.0s\n",
            "[CV 7/10; 1/9] START ccp_alpha=0.0..............................................\n",
            "[CV 7/10; 1/9] END ...............ccp_alpha=0.0;, score=0.898 total time=   0.1s\n",
            "[CV 8/10; 1/9] START ccp_alpha=0.0..............................................\n",
            "[CV 8/10; 1/9] END ...............ccp_alpha=0.0;, score=0.878 total time=   0.1s\n",
            "[CV 9/10; 1/9] START ccp_alpha=0.0..............................................\n",
            "[CV 9/10; 1/9] END ...............ccp_alpha=0.0;, score=0.901 total time=   0.0s\n",
            "[CV 10/10; 1/9] START ccp_alpha=0.0.............................................\n",
            "[CV 10/10; 1/9] END ..............ccp_alpha=0.0;, score=0.845 total time=   0.0s\n",
            "[CV 1/10; 2/9] START ccp_alpha=2.3758669963906535e-05...........................\n",
            "[CV 1/10; 2/9] END ccp_alpha=2.3758669963906535e-05;, score=0.840 total time=   0.0s\n",
            "[CV 2/10; 2/9] START ccp_alpha=2.3758669963906535e-05...........................\n",
            "[CV 2/10; 2/9] END ccp_alpha=2.3758669963906535e-05;, score=0.827 total time=   0.0s\n",
            "[CV 3/10; 2/9] START ccp_alpha=2.3758669963906535e-05...........................\n",
            "[CV 3/10; 2/9] END ccp_alpha=2.3758669963906535e-05;, score=0.888 total time=   0.0s\n",
            "[CV 4/10; 2/9] START ccp_alpha=2.3758669963906535e-05...........................\n",
            "[CV 4/10; 2/9] END ccp_alpha=2.3758669963906535e-05;, score=0.773 total time=   0.0s\n",
            "[CV 5/10; 2/9] START ccp_alpha=2.3758669963906535e-05...........................\n",
            "[CV 5/10; 2/9] END ccp_alpha=2.3758669963906535e-05;, score=0.808 total time=   0.0s\n",
            "[CV 6/10; 2/9] START ccp_alpha=2.3758669963906535e-05...........................\n",
            "[CV 6/10; 2/9] END ccp_alpha=2.3758669963906535e-05;, score=0.910 total time=   0.1s\n",
            "[CV 7/10; 2/9] START ccp_alpha=2.3758669963906535e-05...........................\n",
            "[CV 7/10; 2/9] END ccp_alpha=2.3758669963906535e-05;, score=0.898 total time=   0.0s\n",
            "[CV 8/10; 2/9] START ccp_alpha=2.3758669963906535e-05...........................\n",
            "[CV 8/10; 2/9] END ccp_alpha=2.3758669963906535e-05;, score=0.878 total time=   0.0s\n",
            "[CV 9/10; 2/9] START ccp_alpha=2.3758669963906535e-05...........................\n",
            "[CV 9/10; 2/9] END ccp_alpha=2.3758669963906535e-05;, score=0.901 total time=   0.0s\n",
            "[CV 10/10; 2/9] START ccp_alpha=2.3758669963906535e-05..........................\n",
            "[CV 10/10; 2/9] END ccp_alpha=2.3758669963906535e-05;, score=0.845 total time=   0.0s\n",
            "[CV 1/10; 3/9] START ccp_alpha=0.00011116710038064663...........................\n",
            "[CV 1/10; 3/9] END ccp_alpha=0.00011116710038064663;, score=0.840 total time=   0.0s\n",
            "[CV 2/10; 3/9] START ccp_alpha=0.00011116710038064663...........................\n",
            "[CV 2/10; 3/9] END ccp_alpha=0.00011116710038064663;, score=0.827 total time=   0.0s\n",
            "[CV 3/10; 3/9] START ccp_alpha=0.00011116710038064663...........................\n",
            "[CV 3/10; 3/9] END ccp_alpha=0.00011116710038064663;, score=0.888 total time=   0.0s\n",
            "[CV 4/10; 3/9] START ccp_alpha=0.00011116710038064663...........................\n",
            "[CV 4/10; 3/9] END ccp_alpha=0.00011116710038064663;, score=0.773 total time=   0.0s\n",
            "[CV 5/10; 3/9] START ccp_alpha=0.00011116710038064663...........................\n",
            "[CV 5/10; 3/9] END ccp_alpha=0.00011116710038064663;, score=0.808 total time=   0.0s\n",
            "[CV 6/10; 3/9] START ccp_alpha=0.00011116710038064663...........................\n",
            "[CV 6/10; 3/9] END ccp_alpha=0.00011116710038064663;, score=0.910 total time=   0.0s\n",
            "[CV 7/10; 3/9] START ccp_alpha=0.00011116710038064663...........................\n",
            "[CV 7/10; 3/9] END ccp_alpha=0.00011116710038064663;, score=0.898 total time=   0.0s\n",
            "[CV 8/10; 3/9] START ccp_alpha=0.00011116710038064663...........................\n",
            "[CV 8/10; 3/9] END ccp_alpha=0.00011116710038064663;, score=0.878 total time=   0.0s\n",
            "[CV 9/10; 3/9] START ccp_alpha=0.00011116710038064663...........................\n",
            "[CV 9/10; 3/9] END ccp_alpha=0.00011116710038064663;, score=0.901 total time=   0.1s\n",
            "[CV 10/10; 3/9] START ccp_alpha=0.00011116710038064663..........................\n",
            "[CV 10/10; 3/9] END ccp_alpha=0.00011116710038064663;, score=0.845 total time=   0.0s\n",
            "[CV 1/10; 4/9] START ccp_alpha=0.0003346028291621325............................\n",
            "[CV 1/10; 4/9] END ccp_alpha=0.0003346028291621325;, score=0.840 total time=   0.0s\n",
            "[CV 2/10; 4/9] START ccp_alpha=0.0003346028291621325............................\n",
            "[CV 2/10; 4/9] END ccp_alpha=0.0003346028291621325;, score=0.829 total time=   0.0s\n",
            "[CV 3/10; 4/9] START ccp_alpha=0.0003346028291621325............................\n",
            "[CV 3/10; 4/9] END ccp_alpha=0.0003346028291621325;, score=0.890 total time=   0.0s\n",
            "[CV 4/10; 4/9] START ccp_alpha=0.0003346028291621325............................\n",
            "[CV 4/10; 4/9] END ccp_alpha=0.0003346028291621325;, score=0.773 total time=   0.0s\n",
            "[CV 5/10; 4/9] START ccp_alpha=0.0003346028291621325............................\n",
            "[CV 5/10; 4/9] END ccp_alpha=0.0003346028291621325;, score=0.808 total time=   0.0s\n",
            "[CV 6/10; 4/9] START ccp_alpha=0.0003346028291621325............................\n",
            "[CV 6/10; 4/9] END ccp_alpha=0.0003346028291621325;, score=0.910 total time=   0.0s\n",
            "[CV 7/10; 4/9] START ccp_alpha=0.0003346028291621325............................\n",
            "[CV 7/10; 4/9] END ccp_alpha=0.0003346028291621325;, score=0.898 total time=   0.0s\n",
            "[CV 8/10; 4/9] START ccp_alpha=0.0003346028291621325............................\n",
            "[CV 8/10; 4/9] END ccp_alpha=0.0003346028291621325;, score=0.878 total time=   0.0s\n",
            "[CV 9/10; 4/9] START ccp_alpha=0.0003346028291621325............................\n",
            "[CV 9/10; 4/9] END ccp_alpha=0.0003346028291621325;, score=0.901 total time=   0.0s\n",
            "[CV 10/10; 4/9] START ccp_alpha=0.0003346028291621325...........................\n",
            "[CV 10/10; 4/9] END ccp_alpha=0.0003346028291621325;, score=0.845 total time=   0.0s\n",
            "[CV 1/10; 5/9] START ccp_alpha=0.00048297802077654304...........................\n",
            "[CV 1/10; 5/9] END ccp_alpha=0.00048297802077654304;, score=0.838 total time=   0.0s\n",
            "[CV 2/10; 5/9] START ccp_alpha=0.00048297802077654304...........................\n",
            "[CV 2/10; 5/9] END ccp_alpha=0.00048297802077654304;, score=0.827 total time=   0.0s\n",
            "[CV 3/10; 5/9] START ccp_alpha=0.00048297802077654304...........................\n",
            "[CV 3/10; 5/9] END ccp_alpha=0.00048297802077654304;, score=0.890 total time=   0.0s\n",
            "[CV 4/10; 5/9] START ccp_alpha=0.00048297802077654304...........................\n",
            "[CV 4/10; 5/9] END ccp_alpha=0.00048297802077654304;, score=0.773 total time=   0.0s\n",
            "[CV 5/10; 5/9] START ccp_alpha=0.00048297802077654304...........................\n",
            "[CV 5/10; 5/9] END ccp_alpha=0.00048297802077654304;, score=0.810 total time=   0.0s\n",
            "[CV 6/10; 5/9] START ccp_alpha=0.00048297802077654304...........................\n",
            "[CV 6/10; 5/9] END ccp_alpha=0.00048297802077654304;, score=0.912 total time=   0.0s\n",
            "[CV 7/10; 5/9] START ccp_alpha=0.00048297802077654304...........................\n",
            "[CV 7/10; 5/9] END ccp_alpha=0.00048297802077654304;, score=0.899 total time=   0.0s\n",
            "[CV 8/10; 5/9] START ccp_alpha=0.00048297802077654304...........................\n",
            "[CV 8/10; 5/9] END ccp_alpha=0.00048297802077654304;, score=0.878 total time=   0.0s\n",
            "[CV 9/10; 5/9] START ccp_alpha=0.00048297802077654304...........................\n",
            "[CV 9/10; 5/9] END ccp_alpha=0.00048297802077654304;, score=0.902 total time=   0.0s\n",
            "[CV 10/10; 5/9] START ccp_alpha=0.00048297802077654304..........................\n",
            "[CV 10/10; 5/9] END ccp_alpha=0.00048297802077654304;, score=0.845 total time=   0.1s\n",
            "[CV 1/10; 6/9] START ccp_alpha=0.0008805719106363429............................\n",
            "[CV 1/10; 6/9] END ccp_alpha=0.0008805719106363429;, score=0.845 total time=   0.1s\n",
            "[CV 2/10; 6/9] START ccp_alpha=0.0008805719106363429............................\n",
            "[CV 2/10; 6/9] END ccp_alpha=0.0008805719106363429;, score=0.814 total time=   0.1s\n",
            "[CV 3/10; 6/9] START ccp_alpha=0.0008805719106363429............................\n",
            "[CV 3/10; 6/9] END ccp_alpha=0.0008805719106363429;, score=0.902 total time=   0.1s\n",
            "[CV 4/10; 6/9] START ccp_alpha=0.0008805719106363429............................\n",
            "[CV 4/10; 6/9] END ccp_alpha=0.0008805719106363429;, score=0.763 total time=   0.1s\n",
            "[CV 5/10; 6/9] START ccp_alpha=0.0008805719106363429............................\n",
            "[CV 5/10; 6/9] END ccp_alpha=0.0008805719106363429;, score=0.811 total time=   0.1s\n",
            "[CV 6/10; 6/9] START ccp_alpha=0.0008805719106363429............................\n",
            "[CV 6/10; 6/9] END ccp_alpha=0.0008805719106363429;, score=0.907 total time=   0.1s\n",
            "[CV 7/10; 6/9] START ccp_alpha=0.0008805719106363429............................\n",
            "[CV 7/10; 6/9] END ccp_alpha=0.0008805719106363429;, score=0.903 total time=   0.1s\n",
            "[CV 8/10; 6/9] START ccp_alpha=0.0008805719106363429............................\n",
            "[CV 8/10; 6/9] END ccp_alpha=0.0008805719106363429;, score=0.867 total time=   0.1s\n",
            "[CV 9/10; 6/9] START ccp_alpha=0.0008805719106363429............................\n",
            "[CV 9/10; 6/9] END ccp_alpha=0.0008805719106363429;, score=0.901 total time=   0.1s\n",
            "[CV 10/10; 6/9] START ccp_alpha=0.0008805719106363429...........................\n",
            "[CV 10/10; 6/9] END ccp_alpha=0.0008805719106363429;, score=0.849 total time=   0.1s\n",
            "[CV 1/10; 7/9] START ccp_alpha=0.001425118383532539.............................\n",
            "[CV 1/10; 7/9] END ccp_alpha=0.001425118383532539;, score=0.852 total time=   0.1s\n",
            "[CV 2/10; 7/9] START ccp_alpha=0.001425118383532539.............................\n",
            "[CV 2/10; 7/9] END ccp_alpha=0.001425118383532539;, score=0.818 total time=   0.1s\n",
            "[CV 3/10; 7/9] START ccp_alpha=0.001425118383532539.............................\n",
            "[CV 3/10; 7/9] END ccp_alpha=0.001425118383532539;, score=0.912 total time=   0.1s\n",
            "[CV 4/10; 7/9] START ccp_alpha=0.001425118383532539.............................\n",
            "[CV 4/10; 7/9] END ccp_alpha=0.001425118383532539;, score=0.759 total time=   0.1s\n",
            "[CV 5/10; 7/9] START ccp_alpha=0.001425118383532539.............................\n",
            "[CV 5/10; 7/9] END ccp_alpha=0.001425118383532539;, score=0.784 total time=   0.1s\n",
            "[CV 6/10; 7/9] START ccp_alpha=0.001425118383532539.............................\n",
            "[CV 6/10; 7/9] END ccp_alpha=0.001425118383532539;, score=0.898 total time=   0.1s\n",
            "[CV 7/10; 7/9] START ccp_alpha=0.001425118383532539.............................\n",
            "[CV 7/10; 7/9] END ccp_alpha=0.001425118383532539;, score=0.910 total time=   0.1s\n",
            "[CV 8/10; 7/9] START ccp_alpha=0.001425118383532539.............................\n",
            "[CV 8/10; 7/9] END ccp_alpha=0.001425118383532539;, score=0.878 total time=   0.1s\n",
            "[CV 9/10; 7/9] START ccp_alpha=0.001425118383532539.............................\n",
            "[CV 9/10; 7/9] END ccp_alpha=0.001425118383532539;, score=0.895 total time=   0.1s\n",
            "[CV 10/10; 7/9] START ccp_alpha=0.001425118383532539............................\n",
            "[CV 10/10; 7/9] END ccp_alpha=0.001425118383532539;, score=0.860 total time=   0.1s\n",
            "[CV 1/10; 8/9] START ccp_alpha=0.002875280345527772.............................\n",
            "[CV 1/10; 8/9] END ccp_alpha=0.002875280345527772;, score=0.863 total time=   0.1s\n",
            "[CV 2/10; 8/9] START ccp_alpha=0.002875280345527772.............................\n",
            "[CV 2/10; 8/9] END ccp_alpha=0.002875280345527772;, score=0.845 total time=   0.1s\n",
            "[CV 3/10; 8/9] START ccp_alpha=0.002875280345527772.............................\n",
            "[CV 3/10; 8/9] END ccp_alpha=0.002875280345527772;, score=0.913 total time=   0.1s\n",
            "[CV 4/10; 8/9] START ccp_alpha=0.002875280345527772.............................\n",
            "[CV 4/10; 8/9] END ccp_alpha=0.002875280345527772;, score=0.771 total time=   0.1s\n",
            "[CV 5/10; 8/9] START ccp_alpha=0.002875280345527772.............................\n",
            "[CV 5/10; 8/9] END ccp_alpha=0.002875280345527772;, score=0.790 total time=   0.1s\n",
            "[CV 6/10; 8/9] START ccp_alpha=0.002875280345527772.............................\n",
            "[CV 6/10; 8/9] END ccp_alpha=0.002875280345527772;, score=0.905 total time=   0.1s\n",
            "[CV 7/10; 8/9] START ccp_alpha=0.002875280345527772.............................\n",
            "[CV 7/10; 8/9] END ccp_alpha=0.002875280345527772;, score=0.944 total time=   0.1s\n",
            "[CV 8/10; 8/9] START ccp_alpha=0.002875280345527772.............................\n",
            "[CV 8/10; 8/9] END ccp_alpha=0.002875280345527772;, score=0.852 total time=   0.1s\n",
            "[CV 9/10; 8/9] START ccp_alpha=0.002875280345527772.............................\n",
            "[CV 9/10; 8/9] END ccp_alpha=0.002875280345527772;, score=0.898 total time=   0.1s\n",
            "[CV 10/10; 8/9] START ccp_alpha=0.002875280345527772............................\n",
            "[CV 10/10; 8/9] END ccp_alpha=0.002875280345527772;, score=0.808 total time=   0.1s\n",
            "[CV 1/10; 9/9] START ccp_alpha=0.00955046040465022..............................\n",
            "[CV 1/10; 9/9] END ccp_alpha=0.00955046040465022;, score=0.826 total time=   0.1s\n",
            "[CV 2/10; 9/9] START ccp_alpha=0.00955046040465022..............................\n",
            "[CV 2/10; 9/9] END ccp_alpha=0.00955046040465022;, score=0.844 total time=   0.1s\n",
            "[CV 3/10; 9/9] START ccp_alpha=0.00955046040465022..............................\n",
            "[CV 3/10; 9/9] END ccp_alpha=0.00955046040465022;, score=0.905 total time=   0.1s\n",
            "[CV 4/10; 9/9] START ccp_alpha=0.00955046040465022..............................\n",
            "[CV 4/10; 9/9] END ccp_alpha=0.00955046040465022;, score=0.732 total time=   0.1s\n",
            "[CV 5/10; 9/9] START ccp_alpha=0.00955046040465022..............................\n",
            "[CV 5/10; 9/9] END ccp_alpha=0.00955046040465022;, score=0.833 total time=   0.1s\n",
            "[CV 6/10; 9/9] START ccp_alpha=0.00955046040465022..............................\n",
            "[CV 6/10; 9/9] END ccp_alpha=0.00955046040465022;, score=0.876 total time=   0.1s\n",
            "[CV 7/10; 9/9] START ccp_alpha=0.00955046040465022..............................\n",
            "[CV 7/10; 9/9] END ccp_alpha=0.00955046040465022;, score=0.901 total time=   0.1s\n",
            "[CV 8/10; 9/9] START ccp_alpha=0.00955046040465022..............................\n",
            "[CV 8/10; 9/9] END ccp_alpha=0.00955046040465022;, score=0.875 total time=   0.1s\n",
            "[CV 9/10; 9/9] START ccp_alpha=0.00955046040465022..............................\n",
            "[CV 9/10; 9/9] END ccp_alpha=0.00955046040465022;, score=0.888 total time=   0.1s\n",
            "[CV 10/10; 9/9] START ccp_alpha=0.00955046040465022.............................\n",
            "[CV 10/10; 9/9] END ccp_alpha=0.00955046040465022;, score=0.799 total time=   0.1s\n",
            "CPU times: user 4.82 s, sys: 17.3 ms, total: 4.84 s\n",
            "Wall time: 4.96 s\n"
          ]
        },
        {
          "output_type": "execute_result",
          "data": {
            "text/plain": [
              "GridSearchCV(cv=10, estimator=DecisionTreeClassifier(min_samples_leaf=20),\n",
              "             param_grid={'ccp_alpha': array([0.00000000e+00, 2.37586700e-05, 1.11167100e-04, 3.34602829e-04,\n",
              "       4.82978021e-04, 8.80571911e-04, 1.42511838e-03, 2.87528035e-03,\n",
              "       9.55046040e-03])},\n",
              "             verbose=100)"
            ],
            "text/html": [
              "<style>#sk-container-id-5 {color: black;background-color: white;}#sk-container-id-5 pre{padding: 0;}#sk-container-id-5 div.sk-toggleable {background-color: white;}#sk-container-id-5 label.sk-toggleable__label {cursor: pointer;display: block;width: 100%;margin-bottom: 0;padding: 0.3em;box-sizing: border-box;text-align: center;}#sk-container-id-5 label.sk-toggleable__label-arrow:before {content: \"▸\";float: left;margin-right: 0.25em;color: #696969;}#sk-container-id-5 label.sk-toggleable__label-arrow:hover:before {color: black;}#sk-container-id-5 div.sk-estimator:hover label.sk-toggleable__label-arrow:before {color: black;}#sk-container-id-5 div.sk-toggleable__content {max-height: 0;max-width: 0;overflow: hidden;text-align: left;background-color: #f0f8ff;}#sk-container-id-5 div.sk-toggleable__content pre {margin: 0.2em;color: black;border-radius: 0.25em;background-color: #f0f8ff;}#sk-container-id-5 input.sk-toggleable__control:checked~div.sk-toggleable__content {max-height: 200px;max-width: 100%;overflow: auto;}#sk-container-id-5 input.sk-toggleable__control:checked~label.sk-toggleable__label-arrow:before {content: \"▾\";}#sk-container-id-5 div.sk-estimator input.sk-toggleable__control:checked~label.sk-toggleable__label {background-color: #d4ebff;}#sk-container-id-5 div.sk-label input.sk-toggleable__control:checked~label.sk-toggleable__label {background-color: #d4ebff;}#sk-container-id-5 input.sk-hidden--visually {border: 0;clip: rect(1px 1px 1px 1px);clip: rect(1px, 1px, 1px, 1px);height: 1px;margin: -1px;overflow: hidden;padding: 0;position: absolute;width: 1px;}#sk-container-id-5 div.sk-estimator {font-family: monospace;background-color: #f0f8ff;border: 1px dotted black;border-radius: 0.25em;box-sizing: border-box;margin-bottom: 0.5em;}#sk-container-id-5 div.sk-estimator:hover {background-color: #d4ebff;}#sk-container-id-5 div.sk-parallel-item::after {content: \"\";width: 100%;border-bottom: 1px solid gray;flex-grow: 1;}#sk-container-id-5 div.sk-label:hover label.sk-toggleable__label {background-color: #d4ebff;}#sk-container-id-5 div.sk-serial::before {content: \"\";position: absolute;border-left: 1px solid gray;box-sizing: border-box;top: 0;bottom: 0;left: 50%;z-index: 0;}#sk-container-id-5 div.sk-serial {display: flex;flex-direction: column;align-items: center;background-color: white;padding-right: 0.2em;padding-left: 0.2em;position: relative;}#sk-container-id-5 div.sk-item {position: relative;z-index: 1;}#sk-container-id-5 div.sk-parallel {display: flex;align-items: stretch;justify-content: center;background-color: white;position: relative;}#sk-container-id-5 div.sk-item::before, #sk-container-id-5 div.sk-parallel-item::before {content: \"\";position: absolute;border-left: 1px solid gray;box-sizing: border-box;top: 0;bottom: 0;left: 50%;z-index: -1;}#sk-container-id-5 div.sk-parallel-item {display: flex;flex-direction: column;z-index: 1;position: relative;background-color: white;}#sk-container-id-5 div.sk-parallel-item:first-child::after {align-self: flex-end;width: 50%;}#sk-container-id-5 div.sk-parallel-item:last-child::after {align-self: flex-start;width: 50%;}#sk-container-id-5 div.sk-parallel-item:only-child::after {width: 0;}#sk-container-id-5 div.sk-dashed-wrapped {border: 1px dashed gray;margin: 0 0.4em 0.5em 0.4em;box-sizing: border-box;padding-bottom: 0.4em;background-color: white;}#sk-container-id-5 div.sk-label label {font-family: monospace;font-weight: bold;display: inline-block;line-height: 1.2em;}#sk-container-id-5 div.sk-label-container {text-align: center;}#sk-container-id-5 div.sk-container {/* jupyter's `normalize.less` sets `[hidden] { display: none; }` but bootstrap.min.css set `[hidden] { display: none !important; }` so we also need the `!important` here to be able to override the default hidden behavior on the sphinx rendered scikit-learn.org. See: https://github.com/scikit-learn/scikit-learn/issues/21755 */display: inline-block !important;position: relative;}#sk-container-id-5 div.sk-text-repr-fallback {display: none;}</style><div id=\"sk-container-id-5\" class=\"sk-top-container\"><div class=\"sk-text-repr-fallback\"><pre>GridSearchCV(cv=10, estimator=DecisionTreeClassifier(min_samples_leaf=20),\n",
              "             param_grid={&#x27;ccp_alpha&#x27;: array([0.00000000e+00, 2.37586700e-05, 1.11167100e-04, 3.34602829e-04,\n",
              "       4.82978021e-04, 8.80571911e-04, 1.42511838e-03, 2.87528035e-03,\n",
              "       9.55046040e-03])},\n",
              "             verbose=100)</pre><b>In a Jupyter environment, please rerun this cell to show the HTML representation or trust the notebook. <br />On GitHub, the HTML representation is unable to render, please try loading this page with nbviewer.org.</b></div><div class=\"sk-container\" hidden><div class=\"sk-item sk-dashed-wrapped\"><div class=\"sk-label-container\"><div class=\"sk-label sk-toggleable\"><input class=\"sk-toggleable__control sk-hidden--visually\" id=\"sk-estimator-id-11\" type=\"checkbox\" ><label for=\"sk-estimator-id-11\" class=\"sk-toggleable__label sk-toggleable__label-arrow\">GridSearchCV</label><div class=\"sk-toggleable__content\"><pre>GridSearchCV(cv=10, estimator=DecisionTreeClassifier(min_samples_leaf=20),\n",
              "             param_grid={&#x27;ccp_alpha&#x27;: array([0.00000000e+00, 2.37586700e-05, 1.11167100e-04, 3.34602829e-04,\n",
              "       4.82978021e-04, 8.80571911e-04, 1.42511838e-03, 2.87528035e-03,\n",
              "       9.55046040e-03])},\n",
              "             verbose=100)</pre></div></div></div><div class=\"sk-parallel\"><div class=\"sk-parallel-item\"><div class=\"sk-item\"><div class=\"sk-label-container\"><div class=\"sk-label sk-toggleable\"><input class=\"sk-toggleable__control sk-hidden--visually\" id=\"sk-estimator-id-12\" type=\"checkbox\" ><label for=\"sk-estimator-id-12\" class=\"sk-toggleable__label sk-toggleable__label-arrow\">estimator: DecisionTreeClassifier</label><div class=\"sk-toggleable__content\"><pre>DecisionTreeClassifier(min_samples_leaf=20)</pre></div></div></div><div class=\"sk-serial\"><div class=\"sk-item\"><div class=\"sk-estimator sk-toggleable\"><input class=\"sk-toggleable__control sk-hidden--visually\" id=\"sk-estimator-id-13\" type=\"checkbox\" ><label for=\"sk-estimator-id-13\" class=\"sk-toggleable__label sk-toggleable__label-arrow\">DecisionTreeClassifier</label><div class=\"sk-toggleable__content\"><pre>DecisionTreeClassifier(min_samples_leaf=20)</pre></div></div></div></div></div></div></div></div></div></div>"
            ]
          },
          "metadata": {},
          "execution_count": 23
        }
      ]
    },
    {
      "cell_type": "code",
      "source": [
        "resultados = pd.DataFrame(grid.cv_results_)\n",
        "resultados.head()"
      ],
      "metadata": {
        "colab": {
          "base_uri": "https://localhost:8080/",
          "height": 295
        },
        "id": "9rME3hkXvYdc",
        "outputId": "d857e9fa-bd04-4817-a728-27600be4eee3"
      },
      "execution_count": 25,
      "outputs": [
        {
          "output_type": "execute_result",
          "data": {
            "text/plain": [
              "   mean_fit_time  std_fit_time  mean_score_time  std_score_time  \\\n",
              "0       0.041999      0.003731         0.005591        0.000687   \n",
              "1       0.039851      0.002666         0.005379        0.000938   \n",
              "2       0.040836      0.002911         0.004546        0.000373   \n",
              "3       0.038719      0.002167         0.004420        0.000311   \n",
              "4       0.039775      0.002254         0.005117        0.001396   \n",
              "\n",
              "  param_ccp_alpha                                 params  split0_test_score  \\\n",
              "0             0.0                     {'ccp_alpha': 0.0}           0.839674   \n",
              "1        0.000024  {'ccp_alpha': 2.3758669963906535e-05}           0.839674   \n",
              "2        0.000111  {'ccp_alpha': 0.00011116710038064663}           0.839674   \n",
              "3        0.000335   {'ccp_alpha': 0.0003346028291621325}           0.839674   \n",
              "4        0.000483  {'ccp_alpha': 0.00048297802077654304}           0.838315   \n",
              "\n",
              "   split1_test_score  split2_test_score  split3_test_score  split4_test_score  \\\n",
              "0           0.828804           0.888435           0.772789           0.808163   \n",
              "1           0.827446           0.888435           0.772789           0.808163   \n",
              "2           0.827446           0.888435           0.772789           0.808163   \n",
              "3           0.828804           0.889796           0.772789           0.808163   \n",
              "4           0.827446           0.889796           0.772789           0.809524   \n",
              "\n",
              "   split5_test_score  split6_test_score  split7_test_score  split8_test_score  \\\n",
              "0           0.910204           0.897959           0.877551           0.900680   \n",
              "1           0.910204           0.897959           0.877551           0.900680   \n",
              "2           0.910204           0.897959           0.877551           0.900680   \n",
              "3           0.910204           0.897959           0.877551           0.900680   \n",
              "4           0.911565           0.899320           0.877551           0.902041   \n",
              "\n",
              "   split9_test_score  mean_test_score  std_test_score  rank_test_score  \n",
              "0           0.844898         0.856916        0.043064                4  \n",
              "1           0.844898         0.856780        0.043154                5  \n",
              "2           0.844898         0.856780        0.043154                5  \n",
              "3           0.844898         0.857052        0.043165                3  \n",
              "4           0.844898         0.857324        0.043599                2  "
            ],
            "text/html": [
              "\n",
              "  <div id=\"df-94bf9a1f-9adb-404a-9679-4b9f8ff4b7d5\" class=\"colab-df-container\">\n",
              "    <div>\n",
              "<style scoped>\n",
              "    .dataframe tbody tr th:only-of-type {\n",
              "        vertical-align: middle;\n",
              "    }\n",
              "\n",
              "    .dataframe tbody tr th {\n",
              "        vertical-align: top;\n",
              "    }\n",
              "\n",
              "    .dataframe thead th {\n",
              "        text-align: right;\n",
              "    }\n",
              "</style>\n",
              "<table border=\"1\" class=\"dataframe\">\n",
              "  <thead>\n",
              "    <tr style=\"text-align: right;\">\n",
              "      <th></th>\n",
              "      <th>mean_fit_time</th>\n",
              "      <th>std_fit_time</th>\n",
              "      <th>mean_score_time</th>\n",
              "      <th>std_score_time</th>\n",
              "      <th>param_ccp_alpha</th>\n",
              "      <th>params</th>\n",
              "      <th>split0_test_score</th>\n",
              "      <th>split1_test_score</th>\n",
              "      <th>split2_test_score</th>\n",
              "      <th>split3_test_score</th>\n",
              "      <th>split4_test_score</th>\n",
              "      <th>split5_test_score</th>\n",
              "      <th>split6_test_score</th>\n",
              "      <th>split7_test_score</th>\n",
              "      <th>split8_test_score</th>\n",
              "      <th>split9_test_score</th>\n",
              "      <th>mean_test_score</th>\n",
              "      <th>std_test_score</th>\n",
              "      <th>rank_test_score</th>\n",
              "    </tr>\n",
              "  </thead>\n",
              "  <tbody>\n",
              "    <tr>\n",
              "      <th>0</th>\n",
              "      <td>0.041999</td>\n",
              "      <td>0.003731</td>\n",
              "      <td>0.005591</td>\n",
              "      <td>0.000687</td>\n",
              "      <td>0.0</td>\n",
              "      <td>{'ccp_alpha': 0.0}</td>\n",
              "      <td>0.839674</td>\n",
              "      <td>0.828804</td>\n",
              "      <td>0.888435</td>\n",
              "      <td>0.772789</td>\n",
              "      <td>0.808163</td>\n",
              "      <td>0.910204</td>\n",
              "      <td>0.897959</td>\n",
              "      <td>0.877551</td>\n",
              "      <td>0.900680</td>\n",
              "      <td>0.844898</td>\n",
              "      <td>0.856916</td>\n",
              "      <td>0.043064</td>\n",
              "      <td>4</td>\n",
              "    </tr>\n",
              "    <tr>\n",
              "      <th>1</th>\n",
              "      <td>0.039851</td>\n",
              "      <td>0.002666</td>\n",
              "      <td>0.005379</td>\n",
              "      <td>0.000938</td>\n",
              "      <td>0.000024</td>\n",
              "      <td>{'ccp_alpha': 2.3758669963906535e-05}</td>\n",
              "      <td>0.839674</td>\n",
              "      <td>0.827446</td>\n",
              "      <td>0.888435</td>\n",
              "      <td>0.772789</td>\n",
              "      <td>0.808163</td>\n",
              "      <td>0.910204</td>\n",
              "      <td>0.897959</td>\n",
              "      <td>0.877551</td>\n",
              "      <td>0.900680</td>\n",
              "      <td>0.844898</td>\n",
              "      <td>0.856780</td>\n",
              "      <td>0.043154</td>\n",
              "      <td>5</td>\n",
              "    </tr>\n",
              "    <tr>\n",
              "      <th>2</th>\n",
              "      <td>0.040836</td>\n",
              "      <td>0.002911</td>\n",
              "      <td>0.004546</td>\n",
              "      <td>0.000373</td>\n",
              "      <td>0.000111</td>\n",
              "      <td>{'ccp_alpha': 0.00011116710038064663}</td>\n",
              "      <td>0.839674</td>\n",
              "      <td>0.827446</td>\n",
              "      <td>0.888435</td>\n",
              "      <td>0.772789</td>\n",
              "      <td>0.808163</td>\n",
              "      <td>0.910204</td>\n",
              "      <td>0.897959</td>\n",
              "      <td>0.877551</td>\n",
              "      <td>0.900680</td>\n",
              "      <td>0.844898</td>\n",
              "      <td>0.856780</td>\n",
              "      <td>0.043154</td>\n",
              "      <td>5</td>\n",
              "    </tr>\n",
              "    <tr>\n",
              "      <th>3</th>\n",
              "      <td>0.038719</td>\n",
              "      <td>0.002167</td>\n",
              "      <td>0.004420</td>\n",
              "      <td>0.000311</td>\n",
              "      <td>0.000335</td>\n",
              "      <td>{'ccp_alpha': 0.0003346028291621325}</td>\n",
              "      <td>0.839674</td>\n",
              "      <td>0.828804</td>\n",
              "      <td>0.889796</td>\n",
              "      <td>0.772789</td>\n",
              "      <td>0.808163</td>\n",
              "      <td>0.910204</td>\n",
              "      <td>0.897959</td>\n",
              "      <td>0.877551</td>\n",
              "      <td>0.900680</td>\n",
              "      <td>0.844898</td>\n",
              "      <td>0.857052</td>\n",
              "      <td>0.043165</td>\n",
              "      <td>3</td>\n",
              "    </tr>\n",
              "    <tr>\n",
              "      <th>4</th>\n",
              "      <td>0.039775</td>\n",
              "      <td>0.002254</td>\n",
              "      <td>0.005117</td>\n",
              "      <td>0.001396</td>\n",
              "      <td>0.000483</td>\n",
              "      <td>{'ccp_alpha': 0.00048297802077654304}</td>\n",
              "      <td>0.838315</td>\n",
              "      <td>0.827446</td>\n",
              "      <td>0.889796</td>\n",
              "      <td>0.772789</td>\n",
              "      <td>0.809524</td>\n",
              "      <td>0.911565</td>\n",
              "      <td>0.899320</td>\n",
              "      <td>0.877551</td>\n",
              "      <td>0.902041</td>\n",
              "      <td>0.844898</td>\n",
              "      <td>0.857324</td>\n",
              "      <td>0.043599</td>\n",
              "      <td>2</td>\n",
              "    </tr>\n",
              "  </tbody>\n",
              "</table>\n",
              "</div>\n",
              "    <div class=\"colab-df-buttons\">\n",
              "\n",
              "  <div class=\"colab-df-container\">\n",
              "    <button class=\"colab-df-convert\" onclick=\"convertToInteractive('df-94bf9a1f-9adb-404a-9679-4b9f8ff4b7d5')\"\n",
              "            title=\"Convert this dataframe to an interactive table.\"\n",
              "            style=\"display:none;\">\n",
              "\n",
              "  <svg xmlns=\"http://www.w3.org/2000/svg\" height=\"24px\" viewBox=\"0 -960 960 960\">\n",
              "    <path d=\"M120-120v-720h720v720H120Zm60-500h600v-160H180v160Zm220 220h160v-160H400v160Zm0 220h160v-160H400v160ZM180-400h160v-160H180v160Zm440 0h160v-160H620v160ZM180-180h160v-160H180v160Zm440 0h160v-160H620v160Z\"/>\n",
              "  </svg>\n",
              "    </button>\n",
              "\n",
              "  <style>\n",
              "    .colab-df-container {\n",
              "      display:flex;\n",
              "      gap: 12px;\n",
              "    }\n",
              "\n",
              "    .colab-df-convert {\n",
              "      background-color: #E8F0FE;\n",
              "      border: none;\n",
              "      border-radius: 50%;\n",
              "      cursor: pointer;\n",
              "      display: none;\n",
              "      fill: #1967D2;\n",
              "      height: 32px;\n",
              "      padding: 0 0 0 0;\n",
              "      width: 32px;\n",
              "    }\n",
              "\n",
              "    .colab-df-convert:hover {\n",
              "      background-color: #E2EBFA;\n",
              "      box-shadow: 0px 1px 2px rgba(60, 64, 67, 0.3), 0px 1px 3px 1px rgba(60, 64, 67, 0.15);\n",
              "      fill: #174EA6;\n",
              "    }\n",
              "\n",
              "    .colab-df-buttons div {\n",
              "      margin-bottom: 4px;\n",
              "    }\n",
              "\n",
              "    [theme=dark] .colab-df-convert {\n",
              "      background-color: #3B4455;\n",
              "      fill: #D2E3FC;\n",
              "    }\n",
              "\n",
              "    [theme=dark] .colab-df-convert:hover {\n",
              "      background-color: #434B5C;\n",
              "      box-shadow: 0px 1px 3px 1px rgba(0, 0, 0, 0.15);\n",
              "      filter: drop-shadow(0px 1px 2px rgba(0, 0, 0, 0.3));\n",
              "      fill: #FFFFFF;\n",
              "    }\n",
              "  </style>\n",
              "\n",
              "    <script>\n",
              "      const buttonEl =\n",
              "        document.querySelector('#df-94bf9a1f-9adb-404a-9679-4b9f8ff4b7d5 button.colab-df-convert');\n",
              "      buttonEl.style.display =\n",
              "        google.colab.kernel.accessAllowed ? 'block' : 'none';\n",
              "\n",
              "      async function convertToInteractive(key) {\n",
              "        const element = document.querySelector('#df-94bf9a1f-9adb-404a-9679-4b9f8ff4b7d5');\n",
              "        const dataTable =\n",
              "          await google.colab.kernel.invokeFunction('convertToInteractive',\n",
              "                                                    [key], {});\n",
              "        if (!dataTable) return;\n",
              "\n",
              "        const docLinkHtml = 'Like what you see? Visit the ' +\n",
              "          '<a target=\"_blank\" href=https://colab.research.google.com/notebooks/data_table.ipynb>data table notebook</a>'\n",
              "          + ' to learn more about interactive tables.';\n",
              "        element.innerHTML = '';\n",
              "        dataTable['output_type'] = 'display_data';\n",
              "        await google.colab.output.renderOutput(dataTable, element);\n",
              "        const docLink = document.createElement('div');\n",
              "        docLink.innerHTML = docLinkHtml;\n",
              "        element.appendChild(docLink);\n",
              "      }\n",
              "    </script>\n",
              "  </div>\n",
              "\n",
              "\n",
              "<div id=\"df-6981cb60-f096-4d5a-b097-d6d8fda5b551\">\n",
              "  <button class=\"colab-df-quickchart\" onclick=\"quickchart('df-6981cb60-f096-4d5a-b097-d6d8fda5b551')\"\n",
              "            title=\"Suggest charts\"\n",
              "            style=\"display:none;\">\n",
              "\n",
              "<svg xmlns=\"http://www.w3.org/2000/svg\" height=\"24px\"viewBox=\"0 0 24 24\"\n",
              "     width=\"24px\">\n",
              "    <g>\n",
              "        <path d=\"M19 3H5c-1.1 0-2 .9-2 2v14c0 1.1.9 2 2 2h14c1.1 0 2-.9 2-2V5c0-1.1-.9-2-2-2zM9 17H7v-7h2v7zm4 0h-2V7h2v10zm4 0h-2v-4h2v4z\"/>\n",
              "    </g>\n",
              "</svg>\n",
              "  </button>\n",
              "\n",
              "<style>\n",
              "  .colab-df-quickchart {\n",
              "      --bg-color: #E8F0FE;\n",
              "      --fill-color: #1967D2;\n",
              "      --hover-bg-color: #E2EBFA;\n",
              "      --hover-fill-color: #174EA6;\n",
              "      --disabled-fill-color: #AAA;\n",
              "      --disabled-bg-color: #DDD;\n",
              "  }\n",
              "\n",
              "  [theme=dark] .colab-df-quickchart {\n",
              "      --bg-color: #3B4455;\n",
              "      --fill-color: #D2E3FC;\n",
              "      --hover-bg-color: #434B5C;\n",
              "      --hover-fill-color: #FFFFFF;\n",
              "      --disabled-bg-color: #3B4455;\n",
              "      --disabled-fill-color: #666;\n",
              "  }\n",
              "\n",
              "  .colab-df-quickchart {\n",
              "    background-color: var(--bg-color);\n",
              "    border: none;\n",
              "    border-radius: 50%;\n",
              "    cursor: pointer;\n",
              "    display: none;\n",
              "    fill: var(--fill-color);\n",
              "    height: 32px;\n",
              "    padding: 0;\n",
              "    width: 32px;\n",
              "  }\n",
              "\n",
              "  .colab-df-quickchart:hover {\n",
              "    background-color: var(--hover-bg-color);\n",
              "    box-shadow: 0 1px 2px rgba(60, 64, 67, 0.3), 0 1px 3px 1px rgba(60, 64, 67, 0.15);\n",
              "    fill: var(--button-hover-fill-color);\n",
              "  }\n",
              "\n",
              "  .colab-df-quickchart-complete:disabled,\n",
              "  .colab-df-quickchart-complete:disabled:hover {\n",
              "    background-color: var(--disabled-bg-color);\n",
              "    fill: var(--disabled-fill-color);\n",
              "    box-shadow: none;\n",
              "  }\n",
              "\n",
              "  .colab-df-spinner {\n",
              "    border: 2px solid var(--fill-color);\n",
              "    border-color: transparent;\n",
              "    border-bottom-color: var(--fill-color);\n",
              "    animation:\n",
              "      spin 1s steps(1) infinite;\n",
              "  }\n",
              "\n",
              "  @keyframes spin {\n",
              "    0% {\n",
              "      border-color: transparent;\n",
              "      border-bottom-color: var(--fill-color);\n",
              "      border-left-color: var(--fill-color);\n",
              "    }\n",
              "    20% {\n",
              "      border-color: transparent;\n",
              "      border-left-color: var(--fill-color);\n",
              "      border-top-color: var(--fill-color);\n",
              "    }\n",
              "    30% {\n",
              "      border-color: transparent;\n",
              "      border-left-color: var(--fill-color);\n",
              "      border-top-color: var(--fill-color);\n",
              "      border-right-color: var(--fill-color);\n",
              "    }\n",
              "    40% {\n",
              "      border-color: transparent;\n",
              "      border-right-color: var(--fill-color);\n",
              "      border-top-color: var(--fill-color);\n",
              "    }\n",
              "    60% {\n",
              "      border-color: transparent;\n",
              "      border-right-color: var(--fill-color);\n",
              "    }\n",
              "    80% {\n",
              "      border-color: transparent;\n",
              "      border-right-color: var(--fill-color);\n",
              "      border-bottom-color: var(--fill-color);\n",
              "    }\n",
              "    90% {\n",
              "      border-color: transparent;\n",
              "      border-bottom-color: var(--fill-color);\n",
              "    }\n",
              "  }\n",
              "</style>\n",
              "\n",
              "  <script>\n",
              "    async function quickchart(key) {\n",
              "      const quickchartButtonEl =\n",
              "        document.querySelector('#' + key + ' button');\n",
              "      quickchartButtonEl.disabled = true;  // To prevent multiple clicks.\n",
              "      quickchartButtonEl.classList.add('colab-df-spinner');\n",
              "      try {\n",
              "        const charts = await google.colab.kernel.invokeFunction(\n",
              "            'suggestCharts', [key], {});\n",
              "      } catch (error) {\n",
              "        console.error('Error during call to suggestCharts:', error);\n",
              "      }\n",
              "      quickchartButtonEl.classList.remove('colab-df-spinner');\n",
              "      quickchartButtonEl.classList.add('colab-df-quickchart-complete');\n",
              "    }\n",
              "    (() => {\n",
              "      let quickchartButtonEl =\n",
              "        document.querySelector('#df-6981cb60-f096-4d5a-b097-d6d8fda5b551 button');\n",
              "      quickchartButtonEl.style.display =\n",
              "        google.colab.kernel.accessAllowed ? 'block' : 'none';\n",
              "    })();\n",
              "  </script>\n",
              "</div>\n",
              "\n",
              "    </div>\n",
              "  </div>\n"
            ],
            "application/vnd.google.colaboratory.intrinsic+json": {
              "type": "dataframe",
              "variable_name": "resultados",
              "summary": "{\n  \"name\": \"resultados\",\n  \"rows\": 9,\n  \"fields\": [\n    {\n      \"column\": \"mean_fit_time\",\n      \"properties\": {\n        \"dtype\": \"number\",\n        \"std\": 0.0071675855124267935,\n        \"min\": 0.03871941566467285,\n        \"max\": 0.054807066917419434,\n        \"num_unique_values\": 9,\n        \"samples\": [\n          0.05282130241394043,\n          0.039850711822509766,\n          0.05431611537933349\n        ],\n        \"semantic_type\": \"\",\n        \"description\": \"\"\n      }\n    },\n    {\n      \"column\": \"std_fit_time\",\n      \"properties\": {\n        \"dtype\": \"number\",\n        \"std\": 0.0007761522886304968,\n        \"min\": 0.002167086502416154,\n        \"max\": 0.004511803731248159,\n        \"num_unique_values\": 9,\n        \"samples\": [\n          0.0027034010941710523,\n          0.002665662401283692,\n          0.004511803731248159\n        ],\n        \"semantic_type\": \"\",\n        \"description\": \"\"\n      }\n    },\n    {\n      \"column\": \"mean_score_time\",\n      \"properties\": {\n        \"dtype\": \"number\",\n        \"std\": 0.0010666351813507534,\n        \"min\": 0.004420065879821777,\n        \"max\": 0.007556939125061035,\n        \"num_unique_values\": 9,\n        \"samples\": [\n          0.006427240371704101,\n          0.005379152297973633,\n          0.006423521041870117\n        ],\n        \"semantic_type\": \"\",\n        \"description\": \"\"\n      }\n    },\n    {\n      \"column\": \"std_score_time\",\n      \"properties\": {\n        \"dtype\": \"number\",\n        \"std\": 0.00039901170842738864,\n        \"min\": 0.00031107760293281586,\n        \"max\": 0.001396302275960473,\n        \"num_unique_values\": 9,\n        \"samples\": [\n          0.0004525988475242235,\n          0.0009378715184666798,\n          0.0005201012727357846\n        ],\n        \"semantic_type\": \"\",\n        \"description\": \"\"\n      }\n    },\n    {\n      \"column\": \"param_ccp_alpha\",\n      \"properties\": {\n        \"dtype\": \"date\",\n        \"min\": 0.0,\n        \"max\": 0.00955046040465022,\n        \"num_unique_values\": 9,\n        \"samples\": [\n          0.002875280345527772,\n          2.3758669963906535e-05,\n          0.0008805719106363429\n        ],\n        \"semantic_type\": \"\",\n        \"description\": \"\"\n      }\n    },\n    {\n      \"column\": \"params\",\n      \"properties\": {\n        \"dtype\": \"object\",\n        \"semantic_type\": \"\",\n        \"description\": \"\"\n      }\n    },\n    {\n      \"column\": \"split0_test_score\",\n      \"properties\": {\n        \"dtype\": \"number\",\n        \"std\": 0.01015493085361353,\n        \"min\": 0.8260869565217391,\n        \"max\": 0.8627717391304348,\n        \"num_unique_values\": 6,\n        \"samples\": [\n          0.8396739130434783,\n          0.8383152173913043,\n          0.8260869565217391\n        ],\n        \"semantic_type\": \"\",\n        \"description\": \"\"\n      }\n    },\n    {\n      \"column\": \"split1_test_score\",\n      \"properties\": {\n        \"dtype\": \"number\",\n        \"std\": 0.010222874402441762,\n        \"min\": 0.813858695652174,\n        \"max\": 0.845108695652174,\n        \"num_unique_values\": 6,\n        \"samples\": [\n          0.8288043478260869,\n          0.8274456521739131,\n          0.84375\n        ],\n        \"semantic_type\": \"\",\n        \"description\": \"\"\n      }\n    },\n    {\n      \"column\": \"split2_test_score\",\n      \"properties\": {\n        \"dtype\": \"number\",\n        \"std\": 0.010452998250898958,\n        \"min\": 0.8884353741496599,\n        \"max\": 0.9129251700680272,\n        \"num_unique_values\": 6,\n        \"samples\": [\n          0.8884353741496599,\n          0.889795918367347,\n          0.9047619047619048\n        ],\n        \"semantic_type\": \"\",\n        \"description\": \"\"\n      }\n    },\n    {\n      \"column\": \"split3_test_score\",\n      \"properties\": {\n        \"dtype\": \"number\",\n        \"std\": 0.013554325745014488,\n        \"min\": 0.7319727891156462,\n        \"max\": 0.7727891156462585,\n        \"num_unique_values\": 5,\n        \"samples\": [\n          0.763265306122449,\n          0.7319727891156462,\n          0.7591836734693878\n        ],\n        \"semantic_type\": \"\",\n        \"description\": \"\"\n      }\n    },\n    {\n      \"column\": \"split4_test_score\",\n      \"properties\": {\n        \"dtype\": \"number\",\n        \"std\": 0.013697721823618114,\n        \"min\": 0.7836734693877551,\n        \"max\": 0.8326530612244898,\n        \"num_unique_values\": 6,\n        \"samples\": [\n          0.8081632653061225,\n          0.8095238095238095,\n          0.8326530612244898\n        ],\n        \"semantic_type\": \"\",\n        \"description\": \"\"\n      }\n    },\n    {\n      \"column\": \"split5_test_score\",\n      \"properties\": {\n        \"dtype\": \"number\",\n        \"std\": 0.01136278441393883,\n        \"min\": 0.8761904761904762,\n        \"max\": 0.9115646258503401,\n        \"num_unique_values\": 6,\n        \"samples\": [\n          0.9102040816326531,\n          0.9115646258503401,\n          0.8761904761904762\n        ],\n        \"semantic_type\": \"\",\n        \"description\": \"\"\n      }\n    },\n    {\n      \"column\": \"split6_test_score\",\n      \"properties\": {\n        \"dtype\": \"number\",\n        \"std\": 0.015060172260608,\n        \"min\": 0.8979591836734694,\n        \"max\": 0.9442176870748299,\n        \"num_unique_values\": 6,\n        \"samples\": [\n          0.8979591836734694,\n          0.8993197278911564,\n          0.9006802721088435\n        ],\n        \"semantic_type\": \"\",\n        \"description\": \"\"\n      }\n    },\n    {\n      \"column\": \"split7_test_score\",\n      \"properties\": {\n        \"dtype\": \"number\",\n        \"std\": 0.008811500783548934,\n        \"min\": 0.8517006802721089,\n        \"max\": 0.8775510204081632,\n        \"num_unique_values\": 4,\n        \"samples\": [\n          0.8666666666666667,\n          0.8748299319727891,\n          0.8775510204081632\n        ],\n        \"semantic_type\": \"\",\n        \"description\": \"\"\n      }\n    },\n    {\n      \"column\": \"split8_test_score\",\n      \"properties\": {\n        \"dtype\": \"number\",\n        \"std\": 0.004308390022675715,\n        \"min\": 0.8884353741496599,\n        \"max\": 0.9020408163265307,\n        \"num_unique_values\": 5,\n        \"samples\": [\n          0.9020408163265307,\n          0.8884353741496599,\n          0.8952380952380953\n        ],\n        \"semantic_type\": \"\",\n        \"description\": \"\"\n      }\n    },\n    {\n      \"column\": \"split9_test_score\",\n      \"properties\": {\n        \"dtype\": \"number\",\n        \"std\": 0.020234839705888092,\n        \"min\": 0.7986394557823129,\n        \"max\": 0.8598639455782313,\n        \"num_unique_values\": 5,\n        \"samples\": [\n          0.8489795918367347,\n          0.7986394557823129,\n          0.8598639455782313\n        ],\n        \"semantic_type\": \"\",\n        \"description\": \"\"\n      }\n    },\n    {\n      \"column\": \"mean_test_score\",\n      \"properties\": {\n        \"dtype\": \"number\",\n        \"std\": 0.00318524202210591,\n        \"min\": 0.8478000221827863,\n        \"max\": 0.8589513087843834,\n        \"num_unique_values\": 8,\n        \"samples\": [\n          0.8567799837326235,\n          0.8565075051759834,\n          0.8569158532978409\n        ],\n        \"semantic_type\": \"\",\n        \"description\": \"\"\n      }\n    },\n    {\n      \"column\": \"std_test_score\",\n      \"properties\": {\n        \"dtype\": \"number\",\n        \"std\": 0.004256914919095753,\n        \"min\": 0.04306378845851966,\n        \"max\": 0.05384332823843551,\n        \"num_unique_values\": 8,\n        \"samples\": [\n          0.043154316322947445,\n          0.05086530579086871,\n          0.04306378845851966\n        ],\n        \"semantic_type\": \"\",\n        \"description\": \"\"\n      }\n    },\n    {\n      \"column\": \"rank_test_score\",\n      \"properties\": {\n        \"dtype\": \"int32\",\n        \"num_unique_values\": 8,\n        \"samples\": [\n          5,\n          7,\n          4\n        ],\n        \"semantic_type\": \"\",\n        \"description\": \"\"\n      }\n    }\n  ]\n}"
            }
          },
          "metadata": {},
          "execution_count": 25
        }
      ]
    },
    {
      "cell_type": "code",
      "source": [
        "#Achar o melhor valor encontrado para o hiperparâmetro ccp_alpha\n",
        "melhor_ccp_alpha = grid.best_params_['ccp_alpha']\n",
        "melhor_modelo = DecisionTreeClassifier(min_samples_leaf=20, ccp_alpha=melhor_ccp_alpha, random_state=101)\n",
        "melhor_modelo.fit(X_test.iloc[:, top6], y_test)"
      ],
      "metadata": {
        "colab": {
          "base_uri": "https://localhost:8080/",
          "height": 92
        },
        "id": "iW2rHUSpwxB_",
        "outputId": "c5309bd5-efc4-413d-ce75-e4dc06cabd00"
      },
      "execution_count": 26,
      "outputs": [
        {
          "output_type": "execute_result",
          "data": {
            "text/plain": [
              "DecisionTreeClassifier(ccp_alpha=0.002875280345527772, min_samples_leaf=20,\n",
              "                       random_state=101)"
            ],
            "text/html": [
              "<style>#sk-container-id-6 {color: black;background-color: white;}#sk-container-id-6 pre{padding: 0;}#sk-container-id-6 div.sk-toggleable {background-color: white;}#sk-container-id-6 label.sk-toggleable__label {cursor: pointer;display: block;width: 100%;margin-bottom: 0;padding: 0.3em;box-sizing: border-box;text-align: center;}#sk-container-id-6 label.sk-toggleable__label-arrow:before {content: \"▸\";float: left;margin-right: 0.25em;color: #696969;}#sk-container-id-6 label.sk-toggleable__label-arrow:hover:before {color: black;}#sk-container-id-6 div.sk-estimator:hover label.sk-toggleable__label-arrow:before {color: black;}#sk-container-id-6 div.sk-toggleable__content {max-height: 0;max-width: 0;overflow: hidden;text-align: left;background-color: #f0f8ff;}#sk-container-id-6 div.sk-toggleable__content pre {margin: 0.2em;color: black;border-radius: 0.25em;background-color: #f0f8ff;}#sk-container-id-6 input.sk-toggleable__control:checked~div.sk-toggleable__content {max-height: 200px;max-width: 100%;overflow: auto;}#sk-container-id-6 input.sk-toggleable__control:checked~label.sk-toggleable__label-arrow:before {content: \"▾\";}#sk-container-id-6 div.sk-estimator input.sk-toggleable__control:checked~label.sk-toggleable__label {background-color: #d4ebff;}#sk-container-id-6 div.sk-label input.sk-toggleable__control:checked~label.sk-toggleable__label {background-color: #d4ebff;}#sk-container-id-6 input.sk-hidden--visually {border: 0;clip: rect(1px 1px 1px 1px);clip: rect(1px, 1px, 1px, 1px);height: 1px;margin: -1px;overflow: hidden;padding: 0;position: absolute;width: 1px;}#sk-container-id-6 div.sk-estimator {font-family: monospace;background-color: #f0f8ff;border: 1px dotted black;border-radius: 0.25em;box-sizing: border-box;margin-bottom: 0.5em;}#sk-container-id-6 div.sk-estimator:hover {background-color: #d4ebff;}#sk-container-id-6 div.sk-parallel-item::after {content: \"\";width: 100%;border-bottom: 1px solid gray;flex-grow: 1;}#sk-container-id-6 div.sk-label:hover label.sk-toggleable__label {background-color: #d4ebff;}#sk-container-id-6 div.sk-serial::before {content: \"\";position: absolute;border-left: 1px solid gray;box-sizing: border-box;top: 0;bottom: 0;left: 50%;z-index: 0;}#sk-container-id-6 div.sk-serial {display: flex;flex-direction: column;align-items: center;background-color: white;padding-right: 0.2em;padding-left: 0.2em;position: relative;}#sk-container-id-6 div.sk-item {position: relative;z-index: 1;}#sk-container-id-6 div.sk-parallel {display: flex;align-items: stretch;justify-content: center;background-color: white;position: relative;}#sk-container-id-6 div.sk-item::before, #sk-container-id-6 div.sk-parallel-item::before {content: \"\";position: absolute;border-left: 1px solid gray;box-sizing: border-box;top: 0;bottom: 0;left: 50%;z-index: -1;}#sk-container-id-6 div.sk-parallel-item {display: flex;flex-direction: column;z-index: 1;position: relative;background-color: white;}#sk-container-id-6 div.sk-parallel-item:first-child::after {align-self: flex-end;width: 50%;}#sk-container-id-6 div.sk-parallel-item:last-child::after {align-self: flex-start;width: 50%;}#sk-container-id-6 div.sk-parallel-item:only-child::after {width: 0;}#sk-container-id-6 div.sk-dashed-wrapped {border: 1px dashed gray;margin: 0 0.4em 0.5em 0.4em;box-sizing: border-box;padding-bottom: 0.4em;background-color: white;}#sk-container-id-6 div.sk-label label {font-family: monospace;font-weight: bold;display: inline-block;line-height: 1.2em;}#sk-container-id-6 div.sk-label-container {text-align: center;}#sk-container-id-6 div.sk-container {/* jupyter's `normalize.less` sets `[hidden] { display: none; }` but bootstrap.min.css set `[hidden] { display: none !important; }` so we also need the `!important` here to be able to override the default hidden behavior on the sphinx rendered scikit-learn.org. See: https://github.com/scikit-learn/scikit-learn/issues/21755 */display: inline-block !important;position: relative;}#sk-container-id-6 div.sk-text-repr-fallback {display: none;}</style><div id=\"sk-container-id-6\" class=\"sk-top-container\"><div class=\"sk-text-repr-fallback\"><pre>DecisionTreeClassifier(ccp_alpha=0.002875280345527772, min_samples_leaf=20,\n",
              "                       random_state=101)</pre><b>In a Jupyter environment, please rerun this cell to show the HTML representation or trust the notebook. <br />On GitHub, the HTML representation is unable to render, please try loading this page with nbviewer.org.</b></div><div class=\"sk-container\" hidden><div class=\"sk-item\"><div class=\"sk-estimator sk-toggleable\"><input class=\"sk-toggleable__control sk-hidden--visually\" id=\"sk-estimator-id-14\" type=\"checkbox\" checked><label for=\"sk-estimator-id-14\" class=\"sk-toggleable__label sk-toggleable__label-arrow\">DecisionTreeClassifier</label><div class=\"sk-toggleable__content\"><pre>DecisionTreeClassifier(ccp_alpha=0.002875280345527772, min_samples_leaf=20,\n",
              "                       random_state=101)</pre></div></div></div></div></div>"
            ]
          },
          "metadata": {},
          "execution_count": 26
        }
      ]
    },
    {
      "cell_type": "code",
      "source": [
        "#Calcular a acurácia do modelo usando os dados de teste e a função do modelo\n",
        "acuracia_test = melhor_modelo.score(X_test.iloc[:, top6], y_test)\n",
        "print(f\"Acurácia: {acuracia_test*100:.2f}\")\n",
        "#Calcular a matriz de confusão entre os rótulos reais e as previsões feitas pelo melhor modelo\n",
        "matrix = confusion_matrix(y_test, melhor_modelo.predict(X_test.iloc[:, top6]))\n",
        "ConfusionMatrixDisplay(matrix).plot()"
      ],
      "metadata": {
        "colab": {
          "base_uri": "https://localhost:8080/",
          "height": 484
        },
        "id": "4tZul2RaxHtT",
        "outputId": "6d266a83-5cc5-4204-9406-592815b77133"
      },
      "execution_count": 27,
      "outputs": [
        {
          "output_type": "stream",
          "name": "stdout",
          "text": [
            "Acurácia: 91.69\n"
          ]
        },
        {
          "output_type": "execute_result",
          "data": {
            "text/plain": [
              "<sklearn.metrics._plot.confusion_matrix.ConfusionMatrixDisplay at 0x7b7d3704db70>"
            ]
          },
          "metadata": {},
          "execution_count": 27
        },
        {
          "output_type": "display_data",
          "data": {
            "text/plain": [
              "<Figure size 640x480 with 2 Axes>"
            ],
            "image/png": "[encoded data removed]"
          },
          "metadata": {}
        }
      ]
    },
    {
      "cell_type": "markdown",
      "source": [
        "#Conclusao"
      ],
      "metadata": {
        "id": "OW06wii9zF6t"
      }
    },
    {
      "cell_type": "markdown",
      "source": [
        "Utilizando a matriz de confusão visualmente, é possível perceber uma melhor performance. O que mais chamou a atenção foi a classe 2, onde 72 valores que originalmente eram considerados da classe 0 foram redistribuídos para as classes 1 e 2."
      ],
      "metadata": {
        "id": "M47up2jizIrR"
      }
    }
  ],
  "metadata": {
    "kernelspec": {
      "display_name": "Python 3",
      "language": "python",
      "name": "python3"
    },
    "language_info": {
      "codemirror_mode": {
        "name": "ipython",
        "version": 3
      },
      "file_extension": ".py",
      "mimetype": "text/x-python",
      "name": "python",
      "nbconvert_exporter": "python",
      "pygments_lexer": "ipython3",
      "version": "3.8.5"
    },
    "toc": {
      "base_numbering": 1,
      "nav_menu": {},
      "number_sections": false,
      "sideBar": true,
      "skip_h1_title": true,
      "title_cell": "Índice",
      "title_sidebar": "Conteúdo",
      "toc_cell": false,
      "toc_position": {},
      "toc_section_display": true,
      "toc_window_display": true
    },
    "varInspector": {
      "cols": {
        "lenName": 16,
        "lenType": 16,
        "lenVar": 40
      },
      "kernels_config": {
        "python": {
          "delete_cmd_postfix": "",
          "delete_cmd_prefix": "del ",
          "library": "var_list.py",
          "varRefreshCmd": "print(var_dic_list())"
        },
        "r": {
          "delete_cmd_postfix": ") ",
          "delete_cmd_prefix": "rm(",
          "library": "var_list.r",
          "varRefreshCmd": "cat(var_dic_list()) "
        }
      },
      "types_to_exclude": [
        "module",
        "function",
        "builtin_function_or_method",
        "instance",
        "_Feature"
      ],
      "window_display": false
    },
    "colab": {
      "provenance": []
    }
  },
  "nbformat": 4,
  "nbformat_minor": 0
}