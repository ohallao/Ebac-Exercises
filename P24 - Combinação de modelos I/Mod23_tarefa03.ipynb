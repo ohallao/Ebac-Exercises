{
  "cells": [
    {
      "cell_type": "markdown",
      "id": "dbb066cc-0f05-4df4-8890-e9f68a0de1c0",
      "metadata": {
        "id": "dbb066cc-0f05-4df4-8890-e9f68a0de1c0"
      },
      "source": [
        "# 1. Quais são os hiperparâmetros do RF?\n",
        "\n",
        "**Resposta:**\n",
        "*   Out-of-bag: Refere-se a uma parte dos dados que não é utilizada no treinamento dos diversos modelos. Esses dados podem ser usados para testar a predição dos modelos, permitindo verificar quais modelos acertaram ou erraram suas previsões. Isso é semelhante a um processo de separação entre treino e teste.\n",
        "*   Max Features: Define a quantidade máxima de atributos (variáveis explicativas) que serão utilizados em cada subconjunto para treinar os modelos.\n",
        "*   Min Samples Leaf: Especifica a quantidade mínima de elementos que uma folha da árvore de decisão pode ter.\n",
        "*   Max Depth: Estabelece a profundidade máxima da árvore de decisão.\n",
        "*   N estimators: Determina a quantidade de modelos que serão treinados usando subconjuntos aleatórios dos dados."
      ]
    },
    {
      "cell_type": "markdown",
      "id": "767ae4d0-b3d3-4ee4-8e56-e2e8154b1453",
      "metadata": {
        "id": "767ae4d0-b3d3-4ee4-8e56-e2e8154b1453"
      },
      "source": [
        "# 2. Pra que serve cada um deles?\n",
        "\n",
        "**Resposta:**\n",
        "\n",
        "*   Out-of-bag (OOB): Ajuda a criar métricas de erro para o conjunto de modelos, permitindo avaliar a precisão dos modelos sem a necessidade de um conjunto de teste separado.\n",
        "\n",
        "*   Max Features: Permite variar a combinação de diferentes variáveis, o que ajuda a evitar problemas de multicolinearidade e covariância.\n",
        "\n",
        "*   Min Samples Leaf: Evita a criação de nós com amostras muito pequenas, reduzindo a chance de overfitting (superajuste) ao garantir que cada folha tenha um número suficiente de amostras.\n",
        "\n",
        "*   Max Depth: Limita a profundidade máxima da árvore, ajudando a evitar que a árvore se torne excessivamente complexa e, assim, reduz a probabilidade de overfitting.\n",
        "\n",
        "*   N Estimators: Controla a quantidade de modelos (árvores) no ensemble, o que pode ser ajustado para melhorar a eficácia geral do Random Forest. Mais estimadores geralmente aumentam a precisão, mas também exigem mais tempo de computação.\n"
      ]
    }
  ],
  "metadata": {
    "kernelspec": {
      "display_name": "Python 3 (ipykernel)",
      "language": "python",
      "name": "python3"
    },
    "language_info": {
      "codemirror_mode": {
        "name": "ipython",
        "version": 3
      },
      "file_extension": ".py",
      "mimetype": "text/x-python",
      "name": "python",
      "nbconvert_exporter": "python",
      "pygments_lexer": "ipython3",
      "version": "3.10.7"
    },
    "colab": {
      "provenance": []
    }
  },
  "nbformat": 4,
  "nbformat_minor": 5
}