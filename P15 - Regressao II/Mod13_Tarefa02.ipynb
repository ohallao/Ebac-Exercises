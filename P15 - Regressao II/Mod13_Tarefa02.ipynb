{
  "cells": [
    {
      "cell_type": "markdown",
      "metadata": {
        "id": "yV0R6c4Vyk1H"
      },
      "source": [
        "# EBAC - Regressão II - regressão múltipla\n",
        "\n",
        "## Tarefa I"
      ]
    },
    {
      "cell_type": "markdown",
      "metadata": {
        "id": "n8PjeUNByk1K"
      },
      "source": [
        "#### Previsão de renda II\n",
        "\n",
        "Vamos continuar trabalhando com a base 'previsao_de_renda.csv', que é a base do seu próximo projeto. Vamos usar os recursos que vimos até aqui nesta base.\n",
        "\n",
        "|variavel|descrição|\n",
        "|-|-|\n",
        "|data_ref                | Data de referência de coleta das variáveis |\n",
        "|index                   | Código de identificação do cliente|\n",
        "|sexo                    | Sexo do cliente|\n",
        "|posse_de_veiculo        | Indica se o cliente possui veículo|\n",
        "|posse_de_imovel         | Indica se o cliente possui imóvel|\n",
        "|qtd_filhos              | Quantidade de filhos do cliente|\n",
        "|tipo_renda              | Tipo de renda do cliente|\n",
        "|educacao                | Grau de instrução do cliente|\n",
        "|estado_civil            | Estado civil do cliente|\n",
        "|tipo_residencia         | Tipo de residência do cliente (própria, alugada etc)|\n",
        "|idade                   | Idade do cliente|\n",
        "|tempo_emprego           | Tempo no emprego atual|\n",
        "|qt_pessoas_residencia   | Quantidade de pessoas que moram na residência|\n",
        "|renda                   | Renda em reais|"
      ]
    },
    {
      "cell_type": "code",
      "execution_count": 1,
      "metadata": {
        "id": "KvDGBHK_yk1K"
      },
      "outputs": [],
      "source": [
        "import numpy as np\n",
        "import pandas as pd\n",
        "\n",
        "import matplotlib.pyplot as plt\n",
        "import seaborn as sns\n",
        "\n",
        "from sklearn.model_selection import train_test_split\n",
        "\n",
        "import patsy\n",
        "import statsmodels.api as sm\n",
        "import statsmodels.formula.api as smf\n",
        "\n",
        "from sklearn.tree import DecisionTreeRegressor\n",
        "from sklearn.metrics import r2_score"
      ]
    },
    {
      "cell_type": "code",
      "execution_count": 2,
      "metadata": {
        "id": "SalpPvFQyk1L"
      },
      "outputs": [],
      "source": [
        "df = pd.read_csv('/content/previsao_de_renda.csv')"
      ]
    },
    {
      "cell_type": "code",
      "execution_count": 3,
      "metadata": {
        "colab": {
          "base_uri": "https://localhost:8080/"
        },
        "id": "It2ke52ayk1M",
        "outputId": "83bb7c82-42b6-41b3-c35a-73381e9102b6"
      },
      "outputs": [
        {
          "output_type": "stream",
          "name": "stdout",
          "text": [
            "<class 'pandas.core.frame.DataFrame'>\n",
            "RangeIndex: 15000 entries, 0 to 14999\n",
            "Data columns (total 15 columns):\n",
            " #   Column                 Non-Null Count  Dtype  \n",
            "---  ------                 --------------  -----  \n",
            " 0   Unnamed: 0             15000 non-null  int64  \n",
            " 1   data_ref               15000 non-null  object \n",
            " 2   id_cliente             15000 non-null  int64  \n",
            " 3   sexo                   15000 non-null  object \n",
            " 4   posse_de_veiculo       15000 non-null  bool   \n",
            " 5   posse_de_imovel        15000 non-null  bool   \n",
            " 6   qtd_filhos             15000 non-null  int64  \n",
            " 7   tipo_renda             15000 non-null  object \n",
            " 8   educacao               15000 non-null  object \n",
            " 9   estado_civil           15000 non-null  object \n",
            " 10  tipo_residencia        15000 non-null  object \n",
            " 11  idade                  15000 non-null  int64  \n",
            " 12  tempo_emprego          12427 non-null  float64\n",
            " 13  qt_pessoas_residencia  15000 non-null  float64\n",
            " 14  renda                  15000 non-null  float64\n",
            "dtypes: bool(2), float64(3), int64(4), object(6)\n",
            "memory usage: 1.5+ MB\n"
          ]
        }
      ],
      "source": [
        "df.info()"
      ]
    },
    {
      "cell_type": "markdown",
      "metadata": {
        "id": "Ta5x5BcFyk1N"
      },
      "source": [
        "1. Separe a base em treinamento e teste (25% para teste, 75% para treinamento).\n",
        "2. Rode uma regularização *ridge* com alpha = [0, 0.001, 0.005, 0.01, 0.05, 0.1] e avalie o $R^2$ na base de testes. Qual o melhor modelo?\n",
        "3. Faça o mesmo que no passo 2, com uma regressão *LASSO*. Qual método chega a um melhor resultado?\n",
        "4. Rode um modelo *stepwise*. Avalie o $R^2$ na vase de testes. Qual o melhor resultado?\n",
        "5. Compare os parâmetros e avalie eventuais diferenças. Qual modelo você acha o melhor de todos?\n",
        "6. Partindo dos modelos que você ajustou, tente melhorar o $R^2$ na base de testes. Use a criatividade, veja se consegue inserir alguma transformação ou combinação de variáveis.\n",
        "7. Ajuste uma árvore de regressão e veja se consegue um $R^2$ melhor com ela."
      ]
    },
    {
      "cell_type": "markdown",
      "source": [
        "#### 1. Separe a base em treinamento e teste (25% para teste, 75% para treinamento)."
      ],
      "metadata": {
        "id": "z6_2Eh4dz8Jl"
      }
    },
    {
      "cell_type": "code",
      "execution_count": 4,
      "metadata": {
        "id": "wv8JhghIyk1N"
      },
      "outputs": [],
      "source": [
        "df_train, df_test = train_test_split(df, test_size=0.25, random_state=42)\n",
        "\n",
        "modelo = \"renda ~ sexo + posse_de_veiculo + posse_de_imovel + qtd_filhos + tipo_renda + educacao  + estado_civil  + tipo_residencia  + idade + tempo_emprego + qt_pessoas_residencia\"\n",
        "\n",
        "y_train, X_train = patsy.dmatrices(formula_like=modelo, data=df_train)\n",
        "y_test, X_test = patsy.dmatrices(formula_like=modelo, data=df_test)"
      ]
    },
    {
      "cell_type": "markdown",
      "source": [
        "#### 2. Rode uma regularização *ridge* com alpha = [0, 0.001, 0.005, 0.01, 0.05, 0.1] e avalie o $R^2$ na base de testes. Qual o melhor modelo?"
      ],
      "metadata": {
        "id": "yDXfYZCW0oUr"
      }
    },
    {
      "cell_type": "code",
      "source": [
        "alphas = [0, 0.001, 0.005, 0.01, 0.05, 0.1]\n",
        "r2_y_pred = []\n",
        "\n",
        "for alpha in alphas:\n",
        "    md = sm.OLS(y_train, X_train)\n",
        "    reg = md.fit_regularized(method='elastic_net',\n",
        "                             refit=True,\n",
        "                             L1_wt=0,\n",
        "                             alpha=alpha)\n",
        "    y_pred = reg.predict(X_test)\n",
        "    r2 = r2_score(y_test, y_pred)\n",
        "\n",
        "    r2_y_pred.append(r2)\n",
        "    print(f'Alpha {alpha}: \\nR-squared = {r2}\\n')\n",
        ""
      ],
      "metadata": {
        "colab": {
          "base_uri": "https://localhost:8080/"
        },
        "id": "I09SZIdT0q01",
        "outputId": "a2308ca3-abeb-4755-acd3-d48154faa7dd"
      },
      "execution_count": 9,
      "outputs": [
        {
          "output_type": "stream",
          "name": "stdout",
          "text": [
            "Alpha 0: \n",
            "R-squared = 0.26243403442818525\n",
            "\n",
            "Alpha 0.001: \n",
            "R-squared = 0.26226194952350645\n",
            "\n",
            "Alpha 0.005: \n",
            "R-squared = 0.2619663776008284\n",
            "\n",
            "Alpha 0.01: \n",
            "R-squared = 0.26156847585828613\n",
            "\n",
            "Alpha 0.05: \n",
            "R-squared = 0.256382776073265\n",
            "\n",
            "Alpha 0.1: \n",
            "R-squared = 0.24863408637050988\n",
            "\n"
          ]
        }
      ]
    },
    {
      "cell_type": "markdown",
      "source": [
        "Dentre os modelos de regressão com regularização Ridge que foram avaliados, aquele que alcançou o maior coeficiente de determinação foi o que empregou um valor de alpha de 0.000, resultando em um 𝑅2 de 0.262434."
      ],
      "metadata": {
        "id": "7YxiP7TY1gNI"
      }
    },
    {
      "cell_type": "markdown",
      "source": [
        "#### 3. Faça o mesmo que no passo 2, com uma regressão *LASSO*. Qual método chega a um melhor resultado?"
      ],
      "metadata": {
        "id": "psLHlMqe1l2W"
      }
    },
    {
      "cell_type": "code",
      "source": [
        "alphas = [0, 0.001, 0.005, 0.01, 0.05, 0.1]\n",
        "r2_y_pred = []\n",
        "\n",
        "for alpha in alphas:\n",
        "    md = sm.OLS(y_train, X_train)\n",
        "    reg = md.fit_regularized(method='elastic_net',\n",
        "                             refit=True,\n",
        "                             L1_wt=1,  # lasso fit\n",
        "                             alpha=alpha)\n",
        "    y_pred = reg.predict(X_test)\n",
        "    r2 = r2_score(y_test, y_pred)\n",
        "\n",
        "    r2_y_pred.append(r2)\n",
        "    print(f'Alpha {alpha}: \\nR-squared = {r2}\\n')\n",
        "\n"
      ],
      "metadata": {
        "colab": {
          "base_uri": "https://localhost:8080/"
        },
        "id": "2PRyTMtj1lq5",
        "outputId": "c708eaba-4e2b-4708-c303-91470cd8250d"
      },
      "execution_count": 8,
      "outputs": [
        {
          "output_type": "stream",
          "name": "stdout",
          "text": [
            "Alpha 0: \n",
            "R-squared = 0.26243403442818547\n",
            "\n",
            "Alpha 0.001: \n",
            "R-squared = 0.26243403442818547\n",
            "\n",
            "Alpha 0.005: \n",
            "R-squared = 0.26243403442818547\n",
            "\n",
            "Alpha 0.01: \n",
            "R-squared = 0.26243403442818547\n",
            "\n",
            "Alpha 0.05: \n",
            "R-squared = 0.26250010213196595\n",
            "\n",
            "Alpha 0.1: \n",
            "R-squared = 0.26243403442818547\n",
            "\n"
          ]
        }
      ]
    },
    {
      "cell_type": "markdown",
      "source": [
        "Entre os modelos de regressão com regularização LASSO que foram examinados, o que apresentou o coeficiente de determinação mais elevado foi o que empregou um valor de alpha igual a 0.050, resultando em um 𝑅2 de 0.2625."
      ],
      "metadata": {
        "id": "ii_WB4a12GBw"
      }
    },
    {
      "cell_type": "markdown",
      "source": [
        "#### 4. Rode um modelo *stepwise*. Avalie o $R^2$ na base de testes. Qual o melhor resultado?"
      ],
      "metadata": {
        "id": "02J2Cylw2iha"
      }
    },
    {
      "cell_type": "code",
      "source": [
        "df_dummies = pd.get_dummies(data=df.dropna(), drop_first=True).astype(int)\n",
        "\n",
        "X = df_dummies.drop(columns='renda')\n",
        "y = df_dummies['renda']\n",
        "\n",
        "X_train, X_test, y_train, y_test = train_test_split(X, y, test_size=0.25, random_state=42)"
      ],
      "metadata": {
        "id": "I9ghhGzV2h4Y"
      },
      "execution_count": 10,
      "outputs": []
    },
    {
      "cell_type": "code",
      "source": [
        "def stepwise_selection(X, y,\n",
        "                       initial_list=[],\n",
        "                       threshold_in=0.05,\n",
        "                       threshold_out = 0.05,\n",
        "                       verbose=True):\n",
        "    included = list(initial_list)\n",
        "    while True:\n",
        "        changed=False\n",
        "\n",
        "        # forward step\n",
        "        excluded = list(set(X.columns)-set(included))\n",
        "        new_pval = pd.Series(index=excluded, dtype=np.dtype('float64'))\n",
        "        for new_column in excluded:\n",
        "            model = sm.OLS(y, sm.add_constant(pd.DataFrame(X[included+[new_column]]))).fit()\n",
        "            new_pval[new_column] = model.pvalues[new_column]\n",
        "        best_pval = new_pval.min()\n",
        "        if best_pval < threshold_in:\n",
        "            best_feature = new_pval.index[new_pval.argmin()]\n",
        "            included.append(best_feature)\n",
        "            changed=True\n",
        "            if verbose:\n",
        "                 print('Add  {:30} with p-value {:.6}'.format(best_feature, best_pval))\n",
        "\n",
        "        # backward step\n",
        "        print(\"#############\")\n",
        "        print(included)\n",
        "        model = sm.OLS(y, sm.add_constant(pd.DataFrame(X[included]))).fit()\n",
        "        # use all coefs except intercept\n",
        "        pvalues = model.pvalues.iloc[1:]\n",
        "        worst_pval = pvalues.max() # null if pvalues is empty\n",
        "        if worst_pval > threshold_out:\n",
        "            changed=True\n",
        "            worst_feature = pvalues.argmax()\n",
        "            included.remove(worst_feature)\n",
        "            if verbose:\n",
        "                print('Drop {:30} with p-value {:.6}'.format(worst_feature, worst_pval))\n",
        "        if not changed:\n",
        "            break\n",
        "    return included\n",
        "\n",
        "variaveis = stepwise_selection(X_test, y_test)\n",
        "\n",
        "print('\\n\\nresulting features:')\n",
        "print(variaveis)"
      ],
      "metadata": {
        "colab": {
          "base_uri": "https://localhost:8080/"
        },
        "id": "CFQOcORJ22a3",
        "outputId": "c6fe010d-dd36-4283-8d22-cf40ca91415f"
      },
      "execution_count": 14,
      "outputs": [
        {
          "output_type": "stream",
          "name": "stdout",
          "text": [
            "Add  tempo_emprego                  with p-value 1.15416e-120\n",
            "#############\n",
            "['tempo_emprego']\n",
            "Add  sexo_M                         with p-value 1.97372e-116\n",
            "#############\n",
            "['tempo_emprego', 'sexo_M']\n",
            "Add  educacao_Superior completo     with p-value 0.00030172\n",
            "#############\n",
            "['tempo_emprego', 'sexo_M', 'educacao_Superior completo']\n",
            "Add  idade                          with p-value 0.000294673\n",
            "#############\n",
            "['tempo_emprego', 'sexo_M', 'educacao_Superior completo', 'idade']\n",
            "Add  posse_de_veiculo               with p-value 0.00268263\n",
            "#############\n",
            "['tempo_emprego', 'sexo_M', 'educacao_Superior completo', 'idade', 'posse_de_veiculo']\n",
            "Add  tipo_renda_Empresário          with p-value 0.0127891\n",
            "#############\n",
            "['tempo_emprego', 'sexo_M', 'educacao_Superior completo', 'idade', 'posse_de_veiculo', 'tipo_renda_Empresário']\n",
            "Add  qt_pessoas_residencia          with p-value 0.0167073\n",
            "#############\n",
            "['tempo_emprego', 'sexo_M', 'educacao_Superior completo', 'idade', 'posse_de_veiculo', 'tipo_renda_Empresário', 'qt_pessoas_residencia']\n",
            "Add  data_ref_2015-06-01            with p-value 0.0300333\n",
            "#############\n",
            "['tempo_emprego', 'sexo_M', 'educacao_Superior completo', 'idade', 'posse_de_veiculo', 'tipo_renda_Empresário', 'qt_pessoas_residencia', 'data_ref_2015-06-01']\n",
            "Add  tipo_residencia_Estúdio        with p-value 0.0325394\n",
            "#############\n",
            "['tempo_emprego', 'sexo_M', 'educacao_Superior completo', 'idade', 'posse_de_veiculo', 'tipo_renda_Empresário', 'qt_pessoas_residencia', 'data_ref_2015-06-01', 'tipo_residencia_Estúdio']\n",
            "#############\n",
            "['tempo_emprego', 'sexo_M', 'educacao_Superior completo', 'idade', 'posse_de_veiculo', 'tipo_renda_Empresário', 'qt_pessoas_residencia', 'data_ref_2015-06-01', 'tipo_residencia_Estúdio']\n",
            "\n",
            "\n",
            "resulting features:\n",
            "['tempo_emprego', 'sexo_M', 'educacao_Superior completo', 'idade', 'posse_de_veiculo', 'tipo_renda_Empresário', 'qt_pessoas_residencia', 'data_ref_2015-06-01', 'tipo_residencia_Estúdio']\n"
          ]
        }
      ]
    },
    {
      "cell_type": "code",
      "source": [
        "X = df_dummies[variaveis]\n",
        "y = df_dummies['renda']\n",
        "X_train, X_test, y_train, y_test = train_test_split(X, y, test_size=0.25, random_state=42)\n",
        "\n",
        "y_pred = sm.OLS(y_train, X_train).fit().predict(X_test)\n",
        "print(f'R-squared: {r2_score(y_test, y_pred)}')"
      ],
      "metadata": {
        "colab": {
          "base_uri": "https://localhost:8080/"
        },
        "id": "lWBDel3q3SGh",
        "outputId": "8a01e8c4-4faf-4a05-b3ee-628cef8deee7"
      },
      "execution_count": 15,
      "outputs": [
        {
          "output_type": "stream",
          "name": "stdout",
          "text": [
            "R-squared: 0.28770770147133995\n"
          ]
        }
      ]
    },
    {
      "cell_type": "code",
      "source": [
        "alphas = [0, 0.001, 0.005, 0.01, 0.05, 0.1]\n",
        "r2_y_pred = []\n",
        "\n",
        "for alpha in alphas:\n",
        "    md = sm.OLS(y_train, X_train)\n",
        "    reg = md.fit_regularized(method='elastic_net',\n",
        "                             refit=True,\n",
        "                             L1_wt=0,  # ridge fit\n",
        "                             alpha=alpha)\n",
        "    y_pred = reg.predict(X_test)\n",
        "    r2 = r2_score(y_test, y_pred)\n",
        "\n",
        "    r2_y_pred.append(r2)\n",
        "    print(f'Alpha {alpha}: \\nR-squared = {r2}\\n')"
      ],
      "metadata": {
        "colab": {
          "base_uri": "https://localhost:8080/"
        },
        "id": "LD16hRFF3Tgv",
        "outputId": "bf3887b3-0e8b-40ba-bc18-300866ab275e"
      },
      "execution_count": 19,
      "outputs": [
        {
          "output_type": "stream",
          "name": "stdout",
          "text": [
            "Alpha 0: \n",
            "R-squared = 0.28770770147134006\n",
            "\n",
            "Alpha 0.001: \n",
            "R-squared = 0.28793679760260726\n",
            "\n",
            "Alpha 0.005: \n",
            "R-squared = 0.2886866743929606\n",
            "\n",
            "Alpha 0.01: \n",
            "R-squared = 0.28937044005224666\n",
            "\n",
            "Alpha 0.05: \n",
            "R-squared = 0.2896428399774774\n",
            "\n",
            "Alpha 0.1: \n",
            "R-squared = 0.28449206638537816\n",
            "\n"
          ]
        }
      ]
    },
    {
      "cell_type": "code",
      "source": [
        "alphas = [0, 0.001, 0.005, 0.01, 0.05, 0.1]\n",
        "r2_y_pred = []\n",
        "\n",
        "for alpha in alphas:\n",
        "    md = sm.OLS(y_train, X_train)\n",
        "    reg = md.fit_regularized(method='elastic_net',\n",
        "                             refit=True,\n",
        "                             L1_wt=1,  # lasso fit\n",
        "                             alpha=alpha)\n",
        "    y_pred = reg.predict(X_test)\n",
        "    r2 = r2_score(y_test, y_pred)\n",
        "\n",
        "    r2_y_pred.append(r2)\n",
        "    print(f'Alpha {alpha}: \\nR-squared = {r2}\\n')"
      ],
      "metadata": {
        "colab": {
          "base_uri": "https://localhost:8080/"
        },
        "id": "24pO6XSq3grb",
        "outputId": "2e7aed2e-e324-4f68-ea9d-7c9efbaf4ea3"
      },
      "execution_count": 18,
      "outputs": [
        {
          "output_type": "stream",
          "name": "stdout",
          "text": [
            "Alpha 0: \n",
            "R-squared = 0.28770770147133995\n",
            "\n",
            "Alpha 0.001: \n",
            "R-squared = 0.28770770147133995\n",
            "\n",
            "Alpha 0.005: \n",
            "R-squared = 0.28770770147133995\n",
            "\n",
            "Alpha 0.01: \n",
            "R-squared = 0.28770770147133995\n",
            "\n",
            "Alpha 0.05: \n",
            "R-squared = 0.28770770147133995\n",
            "\n",
            "Alpha 0.1: \n",
            "R-squared = 0.28770770147133995\n",
            "\n"
          ]
        }
      ]
    },
    {
      "cell_type": "markdown",
      "source": [
        "Em minha perspectiva, o desempenho mais destacado entre os modelos stepwise foi observado naquele que adotou a regressão LASSO. Isso se deve ao fato de que esse modelo conseguiu manter um desempenho consistente em todos os valores de alpha, enquanto ainda alcançava um coeficiente de determinação comparável ao modelo que empregou a regularização Ridge com o coeficiente de determinação mais elevado. Portanto, podemos considerar que este modelo é mais simples e, ao mesmo tempo, apresenta o melhor desempenho entre as alternativas desenvolvidas.\n"
      ],
      "metadata": {
        "id": "hQZ9FWwC31UD"
      }
    },
    {
      "cell_type": "markdown",
      "source": [
        "#### 5. Compare os parâmetros e avalie eventuais diferenças. Qual modelo você acha o melhor de todos?"
      ],
      "metadata": {
        "id": "17Q5KiLL32uH"
      }
    },
    {
      "cell_type": "markdown",
      "source": [
        "A melhor escolha dentre os modelos mencionados é o modelo de regressão LASSO com seleção de variáveis do tipo stepwise. Mesmo utilizando um conjunto menor de variáveis em comparação com os outros modelos, esse modelo conseguiu atingir o coeficiente de determinação mais elevado, demonstrando pouca flutuação nos resultados em relação aos parâmetros."
      ],
      "metadata": {
        "id": "KHBjjJ-R6aIN"
      }
    },
    {
      "cell_type": "markdown",
      "source": [
        "#### 6. Partindo dos modelos que você ajustou, tente melhorar o $R^2$ na base de testes. Use a criatividade, veja se consegue inserir alguma transformação ou combinação de variáveis."
      ],
      "metadata": {
        "id": "YjQ1ab6N6cPw"
      }
    },
    {
      "cell_type": "code",
      "source": [
        "df_matrix = df_dummies.loc[:, variaveis + ['renda']]\n",
        "df_matrix.rename(columns={'educacao_Superior completo': 'educacao_Superior_completo'},\n",
        "                 inplace=True)\n",
        "\n",
        "df_train, df_test = train_test_split(df_matrix, test_size=0.25, random_state=42)\n",
        "\n",
        "modelo = smf.ols(formula='''\n",
        "                         np.log(renda) ~ tempo_emprego\n",
        "                                         + sexo_M\n",
        "                                         + educacao_Superior_completo\n",
        "                                         + idade\n",
        "                                         - posse_de_veiculo\n",
        "                                         + tipo_renda_Empresário\n",
        "                                         + qt_pessoas_residencia\n",
        "                                         - tipo_residencia_Estúdio\n",
        "                                         ''', data=df_train)\n",
        "\n",
        "reg = modelo.fit_regularized(method='elastic_net',\n",
        "                             refit=True,\n",
        "                             L1_wt=1,\n",
        "                             alpha=0)\n",
        "\n",
        "print(reg.summary())\n",
        "\n",
        "y_pred = reg.predict(df_test)\n",
        "print('\\nCoeficiente de determinação (𝑅2) na base de testes:',\n",
        "      r2_score(df_test['renda'],\n",
        "               np.exp(y_pred)\n",
        "              )\n",
        "     )"
      ],
      "metadata": {
        "colab": {
          "base_uri": "https://localhost:8080/"
        },
        "id": "S4yiDZps6gtO",
        "outputId": "0ddddea9-dd4b-4d97-e31e-db81a217fd2a"
      },
      "execution_count": 20,
      "outputs": [
        {
          "output_type": "stream",
          "name": "stdout",
          "text": [
            "                            OLS Regression Results                            \n",
            "==============================================================================\n",
            "Dep. Variable:          np.log(renda)   R-squared:                       0.348\n",
            "Model:                            OLS   Adj. R-squared:                  0.347\n",
            "Method:                 Least Squares   F-statistic:                     709.8\n",
            "Date:                Thu, 14 Sep 2023   Prob (F-statistic):               0.00\n",
            "Time:                        22:58:02   Log-Likelihood:                -10235.\n",
            "No. Observations:                9320   AIC:                         2.049e+04\n",
            "Df Residuals:                    9313   BIC:                         2.054e+04\n",
            "Df Model:                           7                                         \n",
            "Covariance Type:            nonrobust                                         \n",
            "==============================================================================================\n",
            "                                 coef    std err          t      P>|t|      [0.025      0.975]\n",
            "----------------------------------------------------------------------------------------------\n",
            "Intercept                      7.1491      0.046    155.582      0.000       7.059       7.239\n",
            "tempo_emprego                  0.0605      0.001     51.098      0.000       0.058       0.063\n",
            "sexo_M                         0.7904      0.016     49.482      0.000       0.759       0.822\n",
            "educacao_Superior_completo     0.1197      0.016      7.674      0.000       0.089       0.150\n",
            "idade                          0.0062      0.001      7.073      0.000       0.004       0.008\n",
            "tipo_renda_Empresário          0.1543      0.017      9.090      0.000       0.121       0.188\n",
            "qt_pessoas_residencia          0.0232      0.008      2.745      0.006       0.007       0.040\n",
            "==============================================================================\n",
            "Omnibus:                        0.607   Durbin-Watson:                   1.995\n",
            "Prob(Omnibus):                  0.738   Jarque-Bera (JB):                0.572\n",
            "Skew:                           0.014   Prob(JB):                        0.751\n",
            "Kurtosis:                       3.026   Cond. No.                         264.\n",
            "==============================================================================\n",
            "\n",
            "Notes:\n",
            "[1] Standard Errors assume that the covariance matrix of the errors is correctly specified.\n",
            "\n",
            "Coeficiente de determinação (𝑅2) na base de testes: 0.29025408734976776\n"
          ]
        }
      ]
    },
    {
      "cell_type": "markdown",
      "source": [
        "#### 7. Ajuste uma árvore de regressão e veja se consegue um $R^2$ melhor com ela."
      ],
      "metadata": {
        "id": "aFXta6_f6noa"
      }
    },
    {
      "cell_type": "code",
      "source": [
        "X = df_dummies[variaveis]\n",
        "y = df_dummies['renda']\n",
        "\n",
        "X_train, X_test, y_train, y_test = train_test_split(X, y, test_size=0.25, random_state=42)\n",
        "\n",
        "reg_tree = DecisionTreeRegressor(random_state=42, max_depth=5, min_samples_leaf=13)\n",
        "reg_tree.fit(X_train, y_train)\n",
        "\n",
        "print('Coeficiente de determinação (𝑅2) na base de testes:',\n",
        "      reg_tree.score(X=X_test, y=y_test))"
      ],
      "metadata": {
        "colab": {
          "base_uri": "https://localhost:8080/"
        },
        "id": "h4J975tX6vJs",
        "outputId": "94c0f0f0-7e18-425f-df11-f3f65b582f61"
      },
      "execution_count": 21,
      "outputs": [
        {
          "output_type": "stream",
          "name": "stdout",
          "text": [
            "Coeficiente de determinação (𝑅2) na base de testes: 0.389085096059829\n"
          ]
        }
      ]
    }
  ],
  "metadata": {
    "kernelspec": {
      "display_name": "Python 3",
      "language": "python",
      "name": "python3"
    },
    "language_info": {
      "codemirror_mode": {
        "name": "ipython",
        "version": 3
      },
      "file_extension": ".py",
      "mimetype": "text/x-python",
      "name": "python",
      "nbconvert_exporter": "python",
      "pygments_lexer": "ipython3",
      "version": "3.8.5"
    },
    "colab": {
      "provenance": []
    }
  },
  "nbformat": 4,
  "nbformat_minor": 0
}