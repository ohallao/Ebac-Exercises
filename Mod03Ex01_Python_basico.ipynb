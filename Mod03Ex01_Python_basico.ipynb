{
  "cells": [
    {
      "cell_type": "markdown",
      "metadata": {
        "id": "view-in-github",
        "colab_type": "text"
      },
      "source": [
        "<a href=\"https://colab.research.google.com/github/ohallao/Ebac-Exercises/blob/main/Mod03Ex01_Python_basico.ipynb\" target=\"_parent\"><img src=\"https://colab.research.google.com/assets/colab-badge.svg\" alt=\"Open In Colab\"/></a>"
      ]
    },
    {
      "cell_type": "markdown",
      "metadata": {
        "id": "a6qXBIyfsIHh"
      },
      "source": [
        "### 01 - Teste de gravidez\n",
        "Escreva uma célula com controle de fluxos que tem como premissa a existência das seguintes variáveis:\n",
        "\n",
        "- ```sexo``` como ```str``` indicando os valores '**M**' para masculino e '**F**' para feminino  \n",
        "- ```beta_hcg``` que indica a quantidade do beta-HCG no sangue em mUI/mL.\n",
        "\n",
        "A sua tarefa é escrever um código que imprima como resultado \"indivíduo do sexo masculino\" quando sexo = 'M', caso sexo = 'F', se o valor de beta-HCG for maior que 5, retorne \"Positivo\" indicando que a paciente está grávida, e retorne \"Negativo\" caso contrário.\n",
        "\n",
        "Não mexa nos valores da variável ```sexo``` nem em ```beta_hcg```, e escreva um código que funcione para quaisquer valores possíveis de ambos: ```sexo``` = '**M**' ou '**F**' e ```beta_hcg``` assumindo valores inteiros positivos."
      ]
    },
    {
      "cell_type": "code",
      "execution_count": 35,
      "metadata": {
        "colab": {
          "base_uri": "https://localhost:8080/"
        },
        "id": "1tt8xB6GsIHj",
        "outputId": "b18e3a5d-e6c4-41f7-e18c-0d2d364d1194"
      },
      "outputs": [
        {
          "output_type": "stream",
          "name": "stdout",
          "text": [
            "Negativo\n"
          ]
        }
      ],
      "source": [
        "sexo = 'M'\n",
        "beta_hcg = 0\n",
        "\n",
        "# seu código vem abaixo desta linha\n",
        "if beta_hcg < 5:\n",
        "    print( 'Negativo')\n",
        "elif beta_hcg >= 5 and sexo == 'M':\n",
        "    print('Positivo indivíduo do sexo masculino')\n",
        "elif beta_hcg >= 5 and sexo == 'F':\n",
        "    print('Positivo indivíduo do sexo feminino')"
      ]
    },
    {
      "cell_type": "markdown",
      "metadata": {
        "id": "qwSKRzW0sIHj"
      },
      "source": [
        "### 02 - Renomeando variáveis\n",
        "\n",
        "Vamos ver adiante que uma forma de renomear variáveis de um conjunto de dados é através de dicionários - o dicionário deve conter como chave o nome original, associando a cada chave um único valor (tipo *str*) que contenha o nome novo.\n",
        "\n",
        "A sua tarefa é escrever um dicionário que possa ser utilizado para traduzir as variáveis ```name``` (nome), ```age``` (idade) e ```income``` (renda). Ou seja, esse dicionário deve relacionar as chaves *name, age* e *income* às suas respectivas traduções."
      ]
    },
    {
      "cell_type": "code",
      "execution_count": 36,
      "metadata": {
        "colab": {
          "base_uri": "https://localhost:8080/"
        },
        "id": "dNI6HhUhsIHk",
        "outputId": "4926917c-8dc3-4d4e-959d-637630a0845d"
      },
      "outputs": [
        {
          "output_type": "execute_result",
          "data": {
            "text/plain": [
              "{'name': 'nome', 'age': 'idade', 'income': 'renda'}"
            ]
          },
          "metadata": {},
          "execution_count": 36
        }
      ],
      "source": [
        "dic_renomeacao = {'name':'nome', 'age':'idade', 'income':'renda'}\n",
        "dic_renomeacao"
      ]
    },
    {
      "cell_type": "markdown",
      "metadata": {
        "id": "Hj9OUm68sIHk"
      },
      "source": [
        "### 03 - É divisível?\n",
        "A sua tarefa é escrever um código que indique se um número ```N``` é divisível por um número P. Escreva um programa que faça essa verificação para quaisquer combinações de ```N``` e ```M``` e devolva uma mensagem indicativa no output."
      ]
    },
    {
      "cell_type": "code",
      "execution_count": 47,
      "metadata": {
        "colab": {
          "base_uri": "https://localhost:8080/"
        },
        "id": "EyIN4t3CsIHl",
        "outputId": "5fdeead1-ed9e-478f-893e-4d88a416a0ab"
      },
      "outputs": [
        {
          "output_type": "stream",
          "name": "stdout",
          "text": [
            "Digite um número inteiro positivo: 3\n",
            "42 é divisível por 3\n",
            "7 não é divisível por 3\n"
          ]
        }
      ],
      "source": [
        "N = 42\n",
        "M = 7\n",
        "\n",
        "#Seu código\n",
        "P = int(input(\"Digite um número inteiro positivo: \"))\n",
        "if N % P == 0:\n",
        "    print(f\"{N} é divisível por {P}\")\n",
        "else:\n",
        "    print(f\"{N} não é divisível por {P}\")\n",
        "if M % P == 0:\n",
        "    print(f\"{M} é divisível por {P}\")\n",
        "else:\n",
        "    print(f\"{M} não é divisível por {P}\")   "
      ]
    },
    {
      "cell_type": "markdown",
      "metadata": {
        "id": "8B2DCXxVsIHl"
      },
      "source": [
        "### 04 - Números primos\n",
        "> Um número **N** é primo se e somente se é divisível por 1, -1, por **N** e por -**N**.  \n",
        "\n",
        "Escreva um script que verifica se ```N``` é um número primo, verificando se ```N``` é divisível por todos os números de ```1``` a ```N-1```. Você vai precisar usar alguma ferramenta de *loop* que você aprendeu para isto. No final, devolva uma mensagem no output indicando se o número é primo ou não."
      ]
    },
    {
      "cell_type": "code",
      "source": [
        "# N=47\n",
        "n = int(input(\"Digite um número inteiro: \"))\n",
        "\n",
        "# O número 1 não é considerado um número primo\n",
        "if n == 1:\n",
        "    print(f\"{n} não é um número primo.\")\n",
        "else:\n",
        "    # loop através de todos os números de 2 até N-1\n",
        "    for i in range(2, n):\n",
        "        # se N for divisível por qualquer número entre 2 e N-1, não é primo\n",
        "        if n % i == 0:\n",
        "            print(f\"{n} não é um número primo.\")\n",
        "            \n",
        "    else:\n",
        "        print(f\"{n} é um número primo.\")"
      ],
      "metadata": {
        "colab": {
          "base_uri": "https://localhost:8080/"
        },
        "id": "6AbwHpSWAr4U",
        "outputId": "69e9db10-9262-4e00-bef2-05cde86b1a45"
      },
      "execution_count": 62,
      "outputs": [
        {
          "output_type": "stream",
          "name": "stdout",
          "text": [
            "Digite um número inteiro: 47\n",
            "47 é um número primo.\n"
          ]
        }
      ]
    },
    {
      "cell_type": "markdown",
      "metadata": {
        "id": "ts9d3Xk3sIHl"
      },
      "source": [
        "### 05 - Desafio\n",
        "O algorítmo do exercício anterior não é o mais eficiente. O que você pode fazer para deixá-lo mais eficiente? Ou seja, executar menos comparações, portanto consumir menos tempo.\n",
        "1. Será que precisamos correr o loop até o final sempre?\n",
        "2. Será que precisamos mesmo verificar **todos** os números?\n",
        "3. Será que precisamos ir até N-1?\n",
        "\n",
        "Essas perguntas levam ao tipo de pensamento voltado a deixar um algoritmo mais eficiente. Veja se você consegue melhorar o seu."
      ]
    },
    {
      "cell_type": "code",
      "execution_count": 60,
      "metadata": {
        "colab": {
          "base_uri": "https://localhost:8080/"
        },
        "id": "flL_kxhusIHl",
        "outputId": "df61b141-b5e8-4d38-cf4f-6d52ab910ec0"
      },
      "outputs": [
        {
          "output_type": "stream",
          "name": "stdout",
          "text": [
            "Digite um número inteiro positivo: 98\n",
            "98 não é primo\n"
          ]
        }
      ],
      "source": [
        "# N = 98\n",
        "N = int(input(\"Digite um número inteiro positivo: \"))\n",
        "# seu código abaixo \n",
        "\n",
        "def primo(numero):\n",
        "    for i in range(2, numero):\n",
        "        if numero % i == 0:\n",
        "            return False\n",
        "    return True\n",
        "\n",
        "if primo(N):\n",
        "    print(f\"{N} é primo\")\n",
        "else:\n",
        "    print(f\"{N} não é primo\")"
      ]
    },
    {
      "cell_type": "markdown",
      "metadata": {
        "id": "pfuFOyoKsIHm"
      },
      "source": [
        "### 06 - Peso ideal 1\n",
        "O IMC (índice de massa corpórea) é um indicador de saúde mais bem aceito que o peso. Ele é calculado como:\n",
        "\n",
        "$$ IMC = \\dfrac{peso}{altura^2}$$\n",
        "\n",
        "Segundo a OMS, valores *normais* são entre 18.5 e 24.9.\n",
        "\n",
        "Sua tarefa é encontrar o ponto médio dessa faixa."
      ]
    },
    {
      "cell_type": "code",
      "execution_count": 40,
      "metadata": {
        "colab": {
          "base_uri": "https://localhost:8080/"
        },
        "id": "BIYbCjxZsIHm",
        "outputId": "ef6e9855-ec03-4ed8-9d00-93d3abac0355"
      },
      "outputs": [
        {
          "output_type": "execute_result",
          "data": {
            "text/plain": [
              "21.7"
            ]
          },
          "metadata": {},
          "execution_count": 40
        }
      ],
      "source": [
        "imc_ideal = (18.5+24.9)/2\n",
        "imc_ideal"
      ]
    },
    {
      "cell_type": "markdown",
      "metadata": {
        "id": "I7Tat2TtsIHm"
      },
      "source": [
        "### 07 - Peso ideal 2\n",
        "Recebendo um valor de altura, encontre o peso '*ideal*' dessa pessoa, que fornece o IMC encontrado acima"
      ]
    },
    {
      "cell_type": "code",
      "execution_count": 41,
      "metadata": {
        "colab": {
          "base_uri": "https://localhost:8080/"
        },
        "id": "vT8nnQf9sIHm",
        "outputId": "721dedf5-7e3b-4a59-d880-b222a09249c0"
      },
      "outputs": [
        {
          "output_type": "execute_result",
          "data": {
            "text/plain": [
              "62.712999999999994"
            ]
          },
          "metadata": {},
          "execution_count": 41
        }
      ],
      "source": [
        "altura = 1.70\n",
        "\n",
        "# Seu código\n",
        "peso_ideal = imc_ideal* altura**2\n",
        "peso_ideal"
      ]
    },
    {
      "cell_type": "markdown",
      "metadata": {
        "id": "6qeYtfLTsIHm"
      },
      "source": [
        "### 08 - Peso ideal 3\n",
        "Dada uma lista contendo as alturas de pacientes, crie uma nova lista que contenha o peso '*ideal*' (que fornece o IMC calculado em **Peso ideal 1**) desses pacientes."
      ]
    },
    {
      "cell_type": "code",
      "execution_count": 42,
      "metadata": {
        "colab": {
          "base_uri": "https://localhost:8080/"
        },
        "id": "CaCw7tibsIHn",
        "outputId": "5eb04928-1c4e-43c9-db22-540bb182c8f9"
      },
      "outputs": [
        {
          "output_type": "stream",
          "name": "stdout",
          "text": [
            "[82.51424999999999, 91.19425, 62.712999999999994, 59.07824999999999]\n"
          ]
        }
      ],
      "source": [
        "lista_alturas = [1.95, 2.05, 1.70, 1.65]\n",
        "\n",
        "lista_peso_ideal = []\n",
        "\n",
        "# seu código\n",
        "\n",
        "for altura in lista_alturas:\n",
        "    peso_ideal = imc_ideal* altura**2\n",
        "    lista_peso_ideal.append(peso_ideal)\n",
        "\n",
        "print(lista_peso_ideal)\n"
      ]
    },
    {
      "cell_type": "markdown",
      "metadata": {
        "id": "AWbQJwsgsIHn"
      },
      "source": [
        "### 09 - Peso ideal 4\n",
        "Dada uma lista de tuplas - cada elemento da lista é uma tupla contendo altura e peso de um paciente - crie uma nova lista com o IMC desses pacientes."
      ]
    },
    {
      "cell_type": "code",
      "execution_count": 43,
      "metadata": {
        "colab": {
          "base_uri": "https://localhost:8080/"
        },
        "id": "Sra7JmGisIHn",
        "outputId": "d33744eb-ca22-4692-f5bf-860c10695a16"
      },
      "outputs": [
        {
          "output_type": "stream",
          "name": "stdout",
          "text": [
            "[27.777777777777775, 27.548209366391188, 19.188070502453332]\n"
          ]
        }
      ],
      "source": [
        "altura_peso = [(1.80, 90), (1.65, 75), (1.91, 70)]\n",
        "\n",
        "imc = []\n",
        "\n",
        "# seu código\n",
        "for i in altura_peso:\n",
        "    altura, peso = i\n",
        "    novo_imc = peso / altura**2\n",
        "    imc.append(novo_imc)\n",
        "\n",
        "print(imc)"
      ]
    },
    {
      "cell_type": "markdown",
      "metadata": {
        "id": "RSgUFA2GsIHn"
      },
      "source": [
        "### 10 - Peso ideal 5\n",
        "Dada uma lista de **listas** - cada elemento da lista é uma **lista** contendo altura e peso de um paciente, adicione mais um elemento à lista de cada paciente contendo o IMC do paciente. Verifique também se é 'baixo', 'normal' ou 'alto' segundo os padrões da OMS em que normal é entre 18.5 e 24.9.\n",
        "\n",
        "Reflexão: por que no problema anterior temos que criar uma nova lista, e não podemos adicionar os dados de cada indivíduo à tupla?"
      ]
    },
    {
      "cell_type": "code",
      "execution_count": 45,
      "metadata": {
        "colab": {
          "base_uri": "https://localhost:8080/"
        },
        "id": "LMR2JAiJsIHn",
        "outputId": "2bd67de2-8443-4793-f9bf-2a507677cee2"
      },
      "outputs": [
        {
          "output_type": "stream",
          "name": "stdout",
          "text": [
            "[[1.8, 90, 27.777777777777775, 'normal'], [1.65, 75, 27.548209366391188, 'normal'], [1.91, 70, 19.188070502453332, 'normal']]\n"
          ]
        }
      ],
      "source": [
        "altura_peso = [[1.80, 90], [1.65, 75], [1.91, 70]]\n",
        "\n",
        "# seu código\n",
        "for alturas_pesos in altura_peso:\n",
        "    altura, peso = alturas_pesos\n",
        "    novo_imc = peso / altura**2\n",
        "    alturas_pesos.append(novo_imc)\n",
        "\n",
        "    if imc < 18.5:\n",
        "        alturas_pesos.append('baixo')\n",
        "    elif imc >= 18.5 and imc <= 24.9:\n",
        "        alturas_pesos.append('normal')\n",
        "    else:\n",
        "        alturas_pesos.append('alto')\n",
        "\n",
        "print(altura_peso)"
      ]
    }
  ],
  "metadata": {
    "kernelspec": {
      "display_name": "Python 3",
      "language": "python",
      "name": "python3"
    },
    "language_info": {
      "codemirror_mode": {
        "name": "ipython",
        "version": 3
      },
      "file_extension": ".py",
      "mimetype": "text/x-python",
      "name": "python",
      "nbconvert_exporter": "python",
      "pygments_lexer": "ipython3",
      "version": "3.8.5"
    },
    "colab": {
      "provenance": [],
      "toc_visible": true,
      "include_colab_link": true
    }
  },
  "nbformat": 4,
  "nbformat_minor": 0
}