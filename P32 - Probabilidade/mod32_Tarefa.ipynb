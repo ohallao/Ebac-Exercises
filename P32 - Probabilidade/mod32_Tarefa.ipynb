{
  "cells": [
    {
      "cell_type": "markdown",
      "metadata": {
        "id": "KdSOxUTyaIH2"
      },
      "source": [
        "# Probabilidade - Tarefa"
      ]
    },
    {
      "cell_type": "code",
      "execution_count": 18,
      "metadata": {
        "id": "qGa5G8QOaIH3"
      },
      "outputs": [],
      "source": [
        "import numpy as np\n",
        "import math\n",
        "import matplotlib.pyplot as plt\n",
        "from scipy import stats\n",
        "from scipy.stats import norm\n"
      ]
    },
    {
      "cell_type": "markdown",
      "metadata": {
        "id": "AvEDfanAaIH3"
      },
      "source": [
        "1. Uma máquina embala ração para cachorro em pacotes de 15 kg, mas cada pacote produzido acaba tendo um peso aleatório, com distribuição Normal, com média 15kg, mas com desvio padrão 0,1 kg. Obtenha a probabilidade de que um pacote selecionado aleatoriamente dessa produção tenha mais que 15,2 kg."
      ]
    },
    {
      "cell_type": "code",
      "execution_count": 10,
      "metadata": {
        "colab": {
          "base_uri": "https://localhost:8080/"
        },
        "id": "RCxXK_q4aIH4",
        "outputId": "64941db8-9b02-4441-eb2c-31199f63efb5"
      },
      "outputs": [
        {
          "output_type": "stream",
          "name": "stdout",
          "text": [
            "A probabilidade de um pacote ter mais que 15.2kg é: 2.2750%\n"
          ]
        }
      ],
      "source": [
        "media = 15\n",
        "desvio_padrao = 0.1\n",
        "peso_desejado = 15.2\n",
        "\n",
        "# Calculando a probabilidade de P(X > 15.2)\n",
        "probabilidade = 1 - stats.norm.cdf(peso_desejado, media, desvio_padrao)\n",
        "probabilidade *= 100\n",
        "\n",
        "print(f'A probabilidade de um pacote ter mais que {peso_desejado}kg é: {probabilidade:.4f}%')"
      ]
    },
    {
      "cell_type": "markdown",
      "metadata": {
        "id": "xzXUQ8QraIH4"
      },
      "source": [
        "2. Da máquina descrita acima, obtenha o percentil de ordem 95% para o peso dos pacotes. Ou seja, o valor tal que a probabilidade de um pacote ter peso menor que este seja de 95%."
      ]
    },
    {
      "cell_type": "code",
      "execution_count": 13,
      "metadata": {
        "colab": {
          "base_uri": "https://localhost:8080/"
        },
        "id": "P-MM_Q8FaIH4",
        "outputId": "dc152310-e145-4d3c-9438-a8f301870143"
      },
      "outputs": [
        {
          "output_type": "stream",
          "name": "stdout",
          "text": [
            "Para a probabilidade de 0.95 o peso esperado do pacote é de 15.164485362695148kg\n"
          ]
        }
      ],
      "source": [
        "p_95 = 0.95\n",
        "peso = norm.ppf(p_95, media, desvio_padrao)\n",
        "print(f'Para a probabilidade de {p_95:.2f} o peso esperado do pacote é de {peso}kg')"
      ]
    },
    {
      "cell_type": "markdown",
      "metadata": {
        "id": "DX6JaXtiaIH4"
      },
      "source": [
        "3. Suponha duas variáveis aleatórias $Y_1$ e $Y_2$, a primeira com distribuição Normal Padrão (média=0, variância=1), a segunda com distribuição *t-studdent* com 5 graus de liberdade (também padrão). Calcule, para cada uma, a probabilidade de ser menor que cada um dos valores contidos no objeto $Y$ na célula abaixo:"
      ]
    },
    {
      "cell_type": "code",
      "execution_count": 16,
      "metadata": {
        "colab": {
          "base_uri": "https://localhost:8080/"
        },
        "id": "s0-WRaJ0aIH4",
        "outputId": "f5c5bc76-7d51-4b50-c818-54adf29b92b9"
      },
      "outputs": [
        {
          "output_type": "stream",
          "name": "stdout",
          "text": [
            "A probabilidade para Y1 é de 9.865876450376946e-10 e para Y2 é de 0.000923069144797007\n"
          ]
        }
      ],
      "source": [
        "Y=np.linspace(-6, 6, 200)\n",
        "# Seu código começa aqui\n",
        "sigma = math.sqrt(1)\n",
        "Y1 = norm.cdf(Y, 0, sigma)[0]\n",
        "\n",
        "\n",
        "gl=5\n",
        "Y2 =stats.t.cdf(Y, gl)[0]\n",
        "\n",
        "print(f'A probabilidade para Y1 é de {Y1} e para Y2 é de {Y2}')"
      ]
    },
    {
      "cell_type": "markdown",
      "metadata": {
        "id": "qajDTUE-aIH4"
      },
      "source": [
        "4. Faça uma visualização gráfica dos dados do item anterior."
      ]
    },
    {
      "cell_type": "code",
      "execution_count": 19,
      "metadata": {
        "colab": {
          "base_uri": "https://localhost:8080/",
          "height": 385
        },
        "id": "kSnlDnbXaIH4",
        "outputId": "9b3cf2df-0803-4a8f-c19d-c4298ebb538d"
      },
      "outputs": [
        {
          "output_type": "execute_result",
          "data": {
            "text/plain": [
              "<matplotlib.legend.Legend at 0x786d293a0e80>"
            ]
          },
          "metadata": {},
          "execution_count": 19
        },
        {
          "output_type": "display_data",
          "data": {
            "text/plain": [
              "<Figure size 1000x400 with 1 Axes>"
            ],
            "image/png": "[encoded data removed]"
          },
          "metadata": {}
        }
      ],
      "source": [
        "fig, ax = plt.subplots(figsize=(10,4))\n",
        "\n",
        "n = 5\n",
        "mu = 0\n",
        "variance = 1\n",
        "sigma = math.sqrt(variance)\n",
        "Y = np.linspace(-6, 6, 200)\n",
        "y = stats.norm.cdf(Y, mu, sigma)\n",
        "ax.plot(Y, y, label='Normal')\n",
        "\n",
        "t = stats.t.cdf(Y, n-1)\n",
        "ax.plot(Y, t, label=f't({n}-1)');\n",
        "\n",
        "\n",
        "ax.legend()"
      ]
    },
    {
      "cell_type": "markdown",
      "metadata": {
        "id": "YLQ7UgrlaIH4"
      },
      "source": [
        "5. 3. Suponha duas variáveis aleatórias $Y_1$ e $Y_2$, a primeira com distribuição Normal Padrão (média=0, variância=1), a segunda com distribuição *t-studdent* com 5 graus de liberdade (também padrão). Calcule, para cada uma, o percentil (a inversa da *CDF*) para cada um dos valores do objeto *P* abaixo:"
      ]
    },
    {
      "cell_type": "code",
      "execution_count": 20,
      "metadata": {
        "colab": {
          "base_uri": "https://localhost:8080/"
        },
        "id": "JCvMy-xsaIH5",
        "outputId": "a36d4536-bbdb-4d58-a9df-d364f8306dcf"
      },
      "outputs": [
        {
          "output_type": "stream",
          "name": "stdout",
          "text": [
            "--- Para Y1 ---\n",
            "Para o percentil 0.0 a probabilidade é: -inf\n",
            "Para o percentil 0.05263157894736842 a probabilidade é: -1.6198562586382699\n",
            "Para o percentil 0.10526315789473684 a probabilidade é: -1.2521195202652196\n",
            "Para o percentil 0.15789473684210525 a probabilidade é: -1.0031479676625337\n",
            "Para o percentil 0.21052631578947367 a probabilidade é: -0.8045963803603002\n",
            "Para o percentil 0.2631578947368421 a probabilidade é: -0.6336400007797011\n",
            "Para o percentil 0.3157894736842105 a probabilidade é: -0.4795056533309502\n",
            "Para o percentil 0.3684210526315789 a probabilidade é: -0.33603814037182317\n",
            "Para o percentil 0.42105263157894735 a probabilidade é: -0.199201324789267\n",
            "Para o percentil 0.47368421052631576 a probabilidade é: -0.06601181237584074\n",
            "Para o percentil 0.5263157894736842 a probabilidade é: 0.0660118123758406\n",
            "Para o percentil 0.5789473684210527 a probabilidade é: 0.199201324789267\n",
            "Para o percentil 0.631578947368421 a probabilidade é: 0.33603814037182306\n",
            "Para o percentil 0.6842105263157894 a probabilidade é: 0.47950565333094985\n",
            "Para o percentil 0.7368421052631579 a probabilidade é: 0.633640000779701\n",
            "Para o percentil 0.7894736842105263 a probabilidade é: 0.8045963803603002\n",
            "Para o percentil 0.8421052631578947 a probabilidade é: 1.0031479676625337\n",
            "Para o percentil 0.894736842105263 a probabilidade é: 1.2521195202652189\n",
            "Para o percentil 0.9473684210526315 a probabilidade é: 1.6198562586382697\n",
            "Para o percentil 1.0 a probabilidade é: inf\n",
            "\n",
            "--- Para Y2 ---\n",
            "Para o percentil 0.0 a probabilidade é: -inf\n",
            "Para o percentil 0.05263157894736842 a probabilidade é: -1.9748934585224929\n",
            "Para o percentil 0.10526315789473684 a probabilidade é: -1.4358592952594251\n",
            "Para o percentil 0.15789473684210525 a probabilidade é: -1.1143961938544056\n",
            "Para o percentil 0.21052631578947367 a probabilidade é: -0.876124409997129\n",
            "Para o percentil 0.2631578947368421 a probabilidade é: -0.6806721653013883\n",
            "Para o percentil 0.3157894736842105 a probabilidade é: -0.510276632988673\n",
            "Para o percentil 0.3684210526315789 a probabilidade é: -0.35532778433365503\n",
            "Para o percentil 0.42105263157894735 a probabilidade é: -0.2097990695188168\n",
            "Para o percentil 0.47368421052631576 a probabilidade é: -0.06939057629631826\n",
            "Para o percentil 0.5263157894736842 a probabilidade é: 0.06939057629631812\n",
            "Para o percentil 0.5789473684210527 a probabilidade é: 0.2097990695188168\n",
            "Para o percentil 0.631578947368421 a probabilidade é: 0.35532778433365486\n",
            "Para o percentil 0.6842105263157894 a probabilidade é: 0.5102766329886727\n",
            "Para o percentil 0.7368421052631579 a probabilidade é: 0.6806721653013884\n",
            "Para o percentil 0.7894736842105263 a probabilidade é: 0.876124409997129\n",
            "Para o percentil 0.8421052631578947 a probabilidade é: 1.1143961938544054\n",
            "Para o percentil 0.894736842105263 a probabilidade é: 1.4358592952594242\n",
            "Para o percentil 0.9473684210526315 a probabilidade é: 1.9748934585224922\n",
            "Para o percentil 1.0 a probabilidade é: inf\n"
          ]
        }
      ],
      "source": [
        "Y=np.linspace(0, 1, 20)\n",
        "# Seu código começa aqui\n",
        "sigma = math.sqrt(1)\n",
        "Y1 = norm.ppf(Y)\n",
        "\n",
        "\n",
        "gl=5\n",
        "Y2 =stats.t.ppf(Y, gl)\n",
        "\n",
        "print(f'--- Para Y1 ---')\n",
        "for perc, prob in zip(Y, Y1):\n",
        "    print(f'Para o percentil {perc} a probabilidade é: {prob}')\n",
        "\n",
        "print(f'\\n--- Para Y2 ---')\n",
        "for perc, prob in zip(Y, Y2):\n",
        "    print(f'Para o percentil {perc} a probabilidade é: {prob}')"
      ]
    },
    {
      "cell_type": "markdown",
      "metadata": {
        "id": "vIIAJXBwaIH5"
      },
      "source": [
        "6. Faça um gráfico com os dados do item anterior."
      ]
    },
    {
      "cell_type": "code",
      "execution_count": 21,
      "metadata": {
        "colab": {
          "base_uri": "https://localhost:8080/",
          "height": 385
        },
        "id": "ue_6x3dBaIH5",
        "outputId": "6bd57fa9-d626-4296-ae78-bf74e88db34b"
      },
      "outputs": [
        {
          "output_type": "execute_result",
          "data": {
            "text/plain": [
              "<matplotlib.legend.Legend at 0x786d268ee170>"
            ]
          },
          "metadata": {},
          "execution_count": 21
        },
        {
          "output_type": "display_data",
          "data": {
            "text/plain": [
              "<Figure size 1000x400 with 1 Axes>"
            ],
            "image/png": "[encoded data removed]"
          },
          "metadata": {}
        }
      ],
      "source": [
        "fig, ax = plt.subplots(figsize=(10,4))\n",
        "\n",
        "n = 5\n",
        "mu = 0\n",
        "variance = 1\n",
        "sigma = math.sqrt(variance)\n",
        "Y=np.linspace(0, 1, 20)\n",
        "y = stats.norm.ppf(Y, mu, sigma)\n",
        "ax.plot(Y, y, label='Normal')\n",
        "\n",
        "t = stats.t.ppf(Y, n-1)\n",
        "ax.plot(Y, t, label=f't({n}-1)');\n",
        "\n",
        "\n",
        "ax.legend()"
      ]
    }
  ],
  "metadata": {
    "kernelspec": {
      "display_name": "Python 3",
      "language": "python",
      "name": "python3"
    },
    "language_info": {
      "codemirror_mode": {
        "name": "ipython",
        "version": 3
      },
      "file_extension": ".py",
      "mimetype": "text/x-python",
      "name": "python",
      "nbconvert_exporter": "python",
      "pygments_lexer": "ipython3",
      "version": "3.8.5"
    },
    "toc": {
      "base_numbering": 1,
      "nav_menu": {},
      "number_sections": false,
      "sideBar": true,
      "skip_h1_title": true,
      "title_cell": "Índice",
      "title_sidebar": "Conteúdo",
      "toc_cell": false,
      "toc_position": {},
      "toc_section_display": true,
      "toc_window_display": false
    },
    "varInspector": {
      "cols": {
        "lenName": 16,
        "lenType": 16,
        "lenVar": 40
      },
      "kernels_config": {
        "python": {
          "delete_cmd_postfix": "",
          "delete_cmd_prefix": "del ",
          "library": "var_list.py",
          "varRefreshCmd": "print(var_dic_list())"
        },
        "r": {
          "delete_cmd_postfix": ") ",
          "delete_cmd_prefix": "rm(",
          "library": "var_list.r",
          "varRefreshCmd": "cat(var_dic_list()) "
        }
      },
      "types_to_exclude": [
        "module",
        "function",
        "builtin_function_or_method",
        "instance",
        "_Feature"
      ],
      "window_display": false
    },
    "colab": {
      "provenance": []
    }
  },
  "nbformat": 4,
  "nbformat_minor": 0
}